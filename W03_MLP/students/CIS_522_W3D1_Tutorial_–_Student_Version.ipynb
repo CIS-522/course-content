{
  "cells": [
    {
      "cell_type": "markdown",
      "metadata": {
        "id": "view-in-github"
      },
      "source": [
        "<a href=\"https://colab.research.google.com/github/CIS-522/course-content/blob/main/tutorials/W03_MLPs/W3_Tutorial1.ipynb\" target=\"_parent\"><img src=\"https://colab.research.google.com/assets/colab-badge.svg\" alt=\"Open In Colab\"/></a>"
      ]
    },
    {
      "cell_type": "markdown",
      "metadata": {
        "id": "X2kPrtVyXtaP"
      },
      "source": [
        "# CIS-522 Week 3 Part 1\n",
        "# Multi-Layer Perceptrons (MLPs)\n",
        "\n",
        "__Instructor__: Konrad Kording\n",
        "\n",
        "__Content creators:__ Arash Ash, Ann-Katrin Reuel"
      ]
    },
    {
      "cell_type": "markdown",
      "metadata": {
        "id": "p2DuJddRXxYY"
      },
      "source": [
        "---\n",
        "# Tutorial objectives\n",
        "In this tutorial, we delve deeper by using one of the most famous deep learning models of all!\n",
        "\n",
        "MLPs are arguably one of the most tractable models that we can use to study deep learning fundamentals. Here we will learn why MLPs are: \n",
        "\n",
        "* similar to biological networks\n",
        "* good at function approximation"
      ]
    },
    {
      "cell_type": "code",
      "execution_count": null,
      "metadata": {
        "cellView": "form",
        "id": "e6GnDC12UtUD"
      },
      "outputs": [],
      "source": [
        "#@markdown What is your Pennkey and pod? (text, not numbers, e.g. bfranklin)\n",
        "my_pennkey = '' #@param {type:\"string\"}\n",
        "my_pod = \"Select\"  # @param [\"Factorial Ferrets\", \"Causal Crows\", \"Recursive Roosters\", \"Bayesian Bighorns\", \"Probabilistic Pronghorns\", \"Hashing Hares\", \"Multiplicative Mustangs\", \"Curiosity Capybaras\", \"Subspace Salamanders\"]\n",
        "my_email = '' #@param {type:\"string\"}\n",
        "tutorial = 'W3D1'\n",
        "\n",
        "\n",
        "# start timing\n",
        "import time\n",
        "try:t0;\n",
        "except NameError: t0 = time.time()"
      ]
    },
    {
      "cell_type": "markdown",
      "metadata": {
        "id": "np4EZarUtKoA"
      },
      "source": [
        "# Recap the experience from last week\n",
        "\n",
        "We focused on linear deep learning last week. We discussed Artificial Neural Networks and saw how it works, the dynamics of learning, and the properties of high dimensional spaces. You should now have some intuition about deep learning systems we will learn. We also dived into PyTorch and autograd, which are tools that make our life easy. "
      ]
    },
    {
      "cell_type": "code",
      "execution_count": null,
      "metadata": {
        "cellView": "form",
        "colab": {
          "base_uri": "https://localhost:8080/",
          "height": 518
        },
        "id": "wEdRnCm2_DT0",
        "outputId": "79fb329d-e84f-4c2b-cc53-ffd234e4985b"
      },
      "outputs": [
        {
          "name": "stdout",
          "output_type": "stream",
          "text": [
            "Video available at https://youtube.com/watch?v=xlYttP5C_LY\n"
          ]
        },
        {
          "data": {
            "image/jpeg": "[encoded data removed]",
            "text/html": [
              "\n",
              "        <iframe\n",
              "            width=\"854\"\n",
              "            height=\"480\"\n",
              "            src=\"https://www.youtube.com/embed/xlYttP5C_LY?fs=1\"\n",
              "            frameborder=\"0\"\n",
              "            allowfullscreen\n",
              "        ></iframe>\n",
              "        "
            ],
            "text/plain": [
              "<IPython.lib.display.YouTubeVideo at 0x7f8b96cc03d0>"
            ]
          },
          "execution_count": 3,
          "metadata": {},
          "output_type": "execute_result"
        }
      ],
      "source": [
        "#@title Video: Discussing Week 2 - Linear DL\n",
        "import time\n",
        "try: t0;\n",
        "except NameError: t0=time.time()\n",
        "\n",
        "from IPython.display import YouTubeVideo\n",
        "\n",
        "video = YouTubeVideo(id=\"xlYttP5C_LY\", width=854, height=480, fs=1)\n",
        "print(\"Video available at https://youtube.com/watch?v=\" + video.id)\n",
        "\n",
        "video"
      ]
    },
    {
      "cell_type": "markdown",
      "metadata": {
        "id": "vgOQxVS1X2dB"
      },
      "source": [
        "---\n",
        "# Setup"
      ]
    },
    {
      "cell_type": "code",
      "execution_count": null,
      "metadata": {
        "id": "xXd8Now_XwR7"
      },
      "outputs": [],
      "source": [
        "# imports\n",
        "import random\n",
        "import pathlib\n",
        "\n",
        "import torch\n",
        "import numpy as np\n",
        "import matplotlib.pyplot as plt\n",
        "\n",
        "import torch.nn as nn\n",
        "import torch.optim as optim\n",
        "import torch.nn.functional as F\n",
        "import torchvision.transforms as transforms\n",
        "from torchvision.datasets import ImageFolder\n",
        "from torch.utils.data import DataLoader, TensorDataset\n",
        "from torchvision.utils import make_grid\n",
        "from IPython.display import HTML, display\n",
        "\n",
        "# Make sure the Runtime is with TPU to ensure maximum speed\n",
        "dev = \"cpu\""
      ]
    },
    {
      "cell_type": "code",
      "execution_count": null,
      "metadata": {
        "cellView": "form",
        "id": "ZUyEQpxTSzxe"
      },
      "outputs": [],
      "source": [
        "# @title Seeding for reproducibility\n",
        "seed = 522\n",
        "random.seed(seed)\n",
        "np.random.seed(seed)\n",
        "torch.manual_seed(seed)\n",
        "torch.cuda.manual_seed(seed)\n",
        "\n",
        "torch.backends.cudnn.deterministic = True\n",
        "torch.backends.cudnn.benchmark = False\n",
        "torch.use_deterministic_algorithms(True)\n",
        "def seed_worker(worker_id):\n",
        "    worker_seed = seed % (worker_id+1)\n",
        "    np.random.seed(worker_seed)\n",
        "    random.seed(worker_seed)"
      ]
    },
    {
      "cell_type": "code",
      "execution_count": null,
      "metadata": {
        "cellView": "form",
        "id": "hj8C2Cf0G0i_"
      },
      "outputs": [],
      "source": [
        "# @title Dataset download\n",
        "%%capture\n",
        "!rm -r AnimalFaces32x32/\n",
        "!git clone https://github.com/arashash/AnimalFaces32x32\n",
        "!rm -r afhq/\n",
        "!unzip ./AnimalFaces32x32/afhq_32x32.zip "
      ]
    },
    {
      "cell_type": "code",
      "execution_count": null,
      "metadata": {
        "cellView": "form",
        "id": "oRrTcZOlXA8C"
      },
      "outputs": [],
      "source": [
        "# @title Figure settings\n",
        "import ipywidgets as widgets\n",
        "%matplotlib inline \n",
        "fig_w, fig_h = (8, 6)\n",
        "plt.rcParams.update({'figure.figsize': (fig_w, fig_h)})\n",
        "%config InlineBackend.figure_format = 'retina'\n",
        "my_layout = widgets.Layout()"
      ]
    },
    {
      "cell_type": "code",
      "execution_count": null,
      "metadata": {
        "cellView": "form",
        "id": "40Qc7MFcX7Oc"
      },
      "outputs": [],
      "source": [
        "# @title Helper functions\n",
        "def imshow(img):\n",
        "    img = img / 2 + 0.5     # unnormalize\n",
        "    npimg = img.numpy()\n",
        "    plt.imshow(np.transpose(npimg, (1, 2, 0)))\n",
        "    plt.axis(False)\n",
        "    plt.show()\n",
        "\n",
        "def progress(epoch, loss, epochs=100):\n",
        "    return HTML(\"\"\"\n",
        "        <label for=\"file\">Training loss: {loss}</label>\n",
        "        <progress\n",
        "            value='{epoch}'\n",
        "            max='{epochs}',\n",
        "            style='width: 100%'\n",
        "        >\n",
        "            {epoch}\n",
        "        </progress>\n",
        "    \"\"\".format(loss=loss, epoch=epoch, epochs=epochs))\n",
        "\n",
        "def plot_function_approximation(x, relu_acts, y_hat):\n",
        "  fig, axes = plt.subplots(2, 1)\n",
        "\n",
        "  # Plot ReLU Activations\n",
        "  axes[0].plot(x, relu_acts.T);\n",
        "  axes[0].set(xlabel = 'x', ylabel = 'Activation', title = 'ReLU Activations')\n",
        "  labels = [f'ReLU {i + 1}' for i in range(relu_acts.shape[0])]\n",
        "  axes[0].legend(labels, ncol = 2)\n",
        "\n",
        "  # Plot function approximation\n",
        "  axes[1].plot(x, torch.sin(x), label = 'truth')\n",
        "  axes[1].plot(x, y_hat, label = 'estimated')\n",
        "  axes[1].legend()\n",
        "  axes[1].set(xlabel = 'x', ylabel = 'y(x)', title = 'Function Approximation');\n",
        "\n",
        "  plt.tight_layout()\n",
        "  plt.show()"
      ]
    },
    {
      "cell_type": "markdown",
      "metadata": {
        "id": "UQGBDFB0yeqV"
      },
      "source": [
        "---\n",
        "# Section 1: Neuron Physiology"
      ]
    },
    {
      "cell_type": "code",
      "execution_count": null,
      "metadata": {
        "cellView": "form",
        "colab": {
          "base_uri": "https://localhost:8080/",
          "height": 518
        },
        "id": "FNdeptL-zUnU",
        "outputId": "d7c411ff-0af8-495f-96d3-1361fa3d36b1"
      },
      "outputs": [
        {
          "name": "stdout",
          "output_type": "stream",
          "text": [
            "Video available at https://youtube.com/watch?v=exTzHGfEAvU\n"
          ]
        },
        {
          "data": {
            "image/jpeg": "[encoded data removed]",
            "text/html": [
              "\n",
              "        <iframe\n",
              "            width=\"854\"\n",
              "            height=\"480\"\n",
              "            src=\"https://www.youtube.com/embed/exTzHGfEAvU?fs=1\"\n",
              "            frameborder=\"0\"\n",
              "            allowfullscreen\n",
              "        ></iframe>\n",
              "        "
            ],
            "text/plain": [
              "<IPython.lib.display.YouTubeVideo at 0x7f8b96866410>"
            ]
          },
          "execution_count": 9,
          "metadata": {},
          "output_type": "execute_result"
        }
      ],
      "source": [
        "#@title Video: Overview and Integrate-and-Fire Neurons\n",
        "try: t1;\n",
        "except NameError: t1=time.time()\n",
        "\n",
        "video = YouTubeVideo(id=\"exTzHGfEAvU\", width=854, height=480, fs=1)\n",
        "print(\"Video available at https://youtube.com/watch?v=\" + video.id)\n",
        "\n",
        "video"
      ]
    },
    {
      "cell_type": "markdown",
      "metadata": {
        "id": "c93MxeKdfGN7"
      },
      "source": [
        "## Section 1.1: Leaky Integrate-and-fire (LIF)\n",
        "The basic idea of LIF neuron was proposed in 1907 by Louis Édouard Lapicque, long before we understood the electrophysiology of a neuron (see a translation of [Lapicque's paper](https://pubmed.ncbi.nlm.nih.gov/17968583/) ). More details of the model can be found in the book [**Theoretical neuroscience**](http://www.gatsby.ucl.ac.uk/~dayan/book/) by Peter Dayan and Laurence F. Abbott.\n",
        "\n",
        "The model dynamics is defined with the following formula,\n",
        "\n",
        "$$\n",
        "\\frac{d V}{d t}=\\left\\{\\begin{array}{cc}\n",
        "\\frac{1}{C}\\left(-\\frac{V}{R}+I \\right) & t>t_{r e s t} \\\\\n",
        "0 & \\text { otherwise }\n",
        "\\end{array}\\right.\n",
        "$$\n",
        "\n",
        "Note that $V$, $C$, and $R$ are the membrane voltage, capacitance, and resitance of the neuron respectively and $-\\frac{V}{R}$ is the leakage current. When $I$ is sufficiently strong such that $V$ reaches a certain threshold value $V_{\\rm th}$, it momentarily spikes and then $V$ is reset to $V_{\\rm reset}< V_{\\rm th}$, and voltage stays at $V_{\\rm reset}$ for $\\tau_{\\rm ref}$ ms, mimicking the refractoriness of the neuron during an action potential (note that $V_{\\rm reset}$ and $\\tau_{\\rm ref}$ is assumed to be zero in the lecture):\n",
        "\n",
        "\\begin{eqnarray}\n",
        "V(t)=V_{\\rm reset} \\text{  for } t\\in(t_{\\text{sp}}, t_{\\text{sp}} + \\tau_{\\text{ref}}]\n",
        "\\end{eqnarray}\n",
        "\n",
        "where $t_{\\rm sp}$ is the spike time when $V(t)$ just exceeded $V_{\\rm th}$.\n",
        "\n",
        "Thus, the LIF model captures the facts that a neuron:\n",
        "- performs spatial and temporal integration of synaptic inputs \n",
        "- generates a spike when the voltage reaches a certain threshold\n",
        "- goes refractory during the action potential\n",
        "- has a leaky membrane \n"
      ]
    },
    {
      "cell_type": "markdown",
      "metadata": {
        "id": "fW9mD1wC11Kw"
      },
      "source": [
        "## Exercise 1: Simulating an LIF Neuron\n",
        "\n",
        "In the cell below is given a function for LIF neuron model with it's arguments described. Now, it's your turn to try this simple mathematical model of a neuron:\n",
        "\n",
        "Note that we will use Euler's method to make a numerical approximation to a derivative. Hence we will use the following implementation of the model dynamics,\n",
        "\n",
        "$$\n",
        "V_n=\\left\\{\\begin{array}{cc}\n",
        "V_{n-1} + \\frac{1}{C}\\left(-\\frac{V}{R}+I \\right) \\Delta t & t>t_{r e s t} \\\\\n",
        "0 & \\text { otherwise }\n",
        "\\end{array}\\right.\n",
        "$$"
      ]
    },
    {
      "cell_type": "code",
      "execution_count": null,
      "metadata": {
        "id": "bTydKkuOeqVc"
      },
      "outputs": [],
      "source": [
        "def run_LIF(I, T = 50, dt = 0.1, t_rest = 0, tau_ref = 4,\n",
        "            Rm = 1, Cm = 10, Vth = 1, V_spike = 0.5):\n",
        "  \"\"\"\n",
        "  Simulate the LIF dynamics with external input current\n",
        "\n",
        "  Args:\n",
        "    I          : input current (mA)\n",
        "    T          : total time to simulate (msec)\n",
        "    dt         : simulation time step (msec)\n",
        "    t_rest     : initial refractory time\n",
        "    tau_ref    : refractory period (msec)\n",
        "    Rm         : resistance (kOhm)\n",
        "    Cm         : capacitance (uF)\n",
        "    Vth        : spike threshold (V)\n",
        "    V_spike    : spike delta (V)\n",
        "\n",
        "  Returns:\n",
        "    time       : time points\n",
        "    Vm         : membrane potentials\n",
        "  \"\"\"\n",
        "\n",
        "  ####################################################################\n",
        "  # Fill in all missing code below (...),\n",
        "  # then remove or comment the line below to test your function\n",
        "  raise NotImplementedError(\"Define the LIF model\")\n",
        "  ####################################################################\n",
        "\n",
        "  # Set up array of time steps\n",
        "  time = torch.arange(0, T+dt, dt)\n",
        "  \n",
        "  # Set up array for tracking Vm\n",
        "  Vm = torch.zeros(len(time)) \n",
        "\n",
        "  # Iterate over each time step\n",
        "  for i, t in enumerate(time):\n",
        "\n",
        "    # If t is after refractory period\n",
        "    if t > t_rest:\n",
        "      Vm[i] = ...\n",
        "\n",
        "    # If Vm is over the threshold\n",
        "    if Vm[i] >= Vth:\n",
        "      \n",
        "      # Increase volatage by change due to spike\n",
        "      Vm[i] += ...\n",
        "\n",
        "      # Set up new refactory period\n",
        "      t_rest = ...\n",
        "\n",
        "  return time, Vm\n",
        "\n",
        "\n",
        "### Uncomment below to test your function\n",
        "# sim_time, Vm = run_LIF(1.5)\n",
        "\n",
        "# plt.plot(sim_time, Vm)\n",
        "# plt.title('LIF Neuron Output')\n",
        "# plt.ylabel('Membrane Potential (V)')\n",
        "# plt.xlabel('Time (msec)')\n",
        "# plt.show()"
      ]
    },
    {
      "cell_type": "markdown",
      "metadata": {
        "id": "_5hljR2LZXxS"
      },
      "source": [
        "## Section 1.2: Nonlinearity of LIF neurons"
      ]
    },
    {
      "cell_type": "code",
      "execution_count": null,
      "metadata": {
        "cellView": "form",
        "colab": {
          "base_uri": "https://localhost:8080/",
          "height": 518
        },
        "id": "vh7Wnzg3ZYaY",
        "outputId": "6fe62afd-1630-4adc-c533-4d853d822e60"
      },
      "outputs": [
        {
          "name": "stdout",
          "output_type": "stream",
          "text": [
            "Video available at https://youtube.com/watch?v=6IzHZB7xf34\n"
          ]
        },
        {
          "data": {
            "image/jpeg": "[encoded data removed]",
            "text/html": [
              "\n",
              "        <iframe\n",
              "            width=\"854\"\n",
              "            height=\"480\"\n",
              "            src=\"https://www.youtube.com/embed/6IzHZB7xf34?fs=1\"\n",
              "            frameborder=\"0\"\n",
              "            allowfullscreen\n",
              "        ></iframe>\n",
              "        "
            ],
            "text/plain": [
              "<IPython.lib.display.YouTubeVideo at 0x7f8b9bed6150>"
            ]
          },
          "execution_count": 12,
          "metadata": {},
          "output_type": "execute_result"
        }
      ],
      "source": [
        "#@title Video: Are Integrate-and-Fire Neurons Linear?\n",
        "\n",
        "video = YouTubeVideo(id=\"6IzHZB7xf34\", width=854, height=480, fs=1)\n",
        "print(\"Video available at https://youtube.com/watch?v=\" + video.id)\n",
        "\n",
        "video"
      ]
    },
    {
      "cell_type": "markdown",
      "metadata": {
        "id": "aw0w47-O6Arl"
      },
      "source": [
        "## Interactive demo: F-I explorer for different $R_m$\n",
        "We know that neurons communicate by modulating the spike count. Therefore it makes sense to characterize their spike count as a function of input current. This is called the neuron's input-output transfer function (so simply F-I curve). Let's plot the neuron's F-I curve and see how it changes with respect to the membrane resistance? "
      ]
    },
    {
      "cell_type": "code",
      "execution_count": null,
      "metadata": {
        "cellView": "form",
        "colab": {
          "base_uri": "https://localhost:8080/",
          "height": 435,
          "referenced_widgets": [
            "2da0d148a64a45249d7946cfc3a1105d",
            "7e0cb1742e7f439093e7a196ff6d38fc",
            "f6e56acd69184286af25ca350e44f4bc",
            "7014794deb264db29036e4286111a287",
            "db40855516db4091a11b1cfe748652c4",
            "47b1c2bbbf624d6c82d885fae653bf1a",
            "0abe09e79b22424cb3da30c0b37de917"
          ]
        },
        "id": "MPKolg9xjiHW",
        "outputId": "48e7325f-083e-47f0-eeb2-12d9e674c95d"
      },
      "outputs": [
        {
          "data": {
            "application/vnd.jupyter.widget-view+json": {
              "model_id": "2da0d148a64a45249d7946cfc3a1105d",
              "version_major": 2,
              "version_minor": 0
            },
            "text/plain": [
              "interactive(children=(FloatSlider(value=1.0, description='Rm', max=10.0, min=0.5), Output()), _dom_classes=('w…"
            ]
          },
          "metadata": {},
          "output_type": "display_data"
        }
      ],
      "source": [
        "# @title\n",
        "\n",
        "# @markdown Make sure you execute this cell to enable the widget!\n",
        "\n",
        "@widgets.interact(Rm=widgets.FloatSlider(1., min=0.5, max=10., step=0.1, layout=my_layout))\n",
        "\n",
        "def plot_IF_curve(Rm):\n",
        "  T = 100 # total time to simulate (msec)\n",
        "  dt = 1 # simulation time step (msec)\n",
        "  Vth = 1 # spike threshold (V)\n",
        "  Is = torch.linspace(0, 2, 10)\n",
        "  spike_counts = []\n",
        "  for I in Is:\n",
        "    _, Vm = run_LIF(I, T = T, Vth = Vth, Rm=Rm)\n",
        "    spike_counts += [torch.sum(Vm > Vth)]\n",
        "\n",
        "  plt.plot(Is, spike_counts)\n",
        "  plt.title('LIF Transfer Function (I/F Curve)')\n",
        "  plt.ylabel('Spike count')\n",
        "  plt.xlabel('I (mA)')\n",
        "  plt.show()"
      ]
    },
    {
      "cell_type": "markdown",
      "metadata": {
        "id": "DkvnWkvTz2O5"
      },
      "source": [
        "---\n",
        "# Section 2: The Need for MLPs"
      ]
    },
    {
      "cell_type": "code",
      "execution_count": null,
      "metadata": {
        "cellView": "form",
        "colab": {
          "base_uri": "https://localhost:8080/",
          "height": 518
        },
        "id": "tOgsH7ly5ZU1",
        "outputId": "4c1314f6-769b-4f15-aa98-d662221f1f11"
      },
      "outputs": [
        {
          "name": "stdout",
          "output_type": "stream",
          "text": [
            "Video available at https://youtube.com/watch?v=PERmPT1cOP0\n"
          ]
        },
        {
          "data": {
            "image/jpeg": "[encoded data removed]",
            "text/html": [
              "\n",
              "        <iframe\n",
              "            width=\"854\"\n",
              "            height=\"480\"\n",
              "            src=\"https://www.youtube.com/embed/PERmPT1cOP0?fs=1\"\n",
              "            frameborder=\"0\"\n",
              "            allowfullscreen\n",
              "        ></iframe>\n",
              "        "
            ],
            "text/plain": [
              "<IPython.lib.display.YouTubeVideo at 0x7f8a957cea90>"
            ]
          },
          "execution_count": 14,
          "metadata": {},
          "output_type": "execute_result"
        }
      ],
      "source": [
        "#@title Video: The XOR Problem\n",
        "\n",
        "try: t2;\n",
        "except NameError: t2=time.time()\n",
        "\n",
        "video = YouTubeVideo(id=\"PERmPT1cOP0\", width=854, height=480, fs=1)\n",
        "print(\"Video available at https://youtube.com/watch?v=\" + video.id)\n",
        "\n",
        "video"
      ]
    },
    {
      "cell_type": "markdown",
      "metadata": {
        "id": "hrEdLosLecm5"
      },
      "source": [
        "In the previous tutorial we have illustrated a weird solution to the XOR problems using a linear NN. However, this has happened because of a nonlinear regime in tiny values. Here, we are exposed to a limitation of linear systems, namely in solving the XOR problem. One cannot draw a straight line to separate the positive (1) and negative examples(0). \n",
        "The nonlinearity of the multilayer perceptron comes in handy to solve this problem. \n",
        "We will visualize this concept next: "
      ]
    },
    {
      "cell_type": "markdown",
      "metadata": {
        "id": "ZJEy_D2A53SV"
      },
      "source": [
        "## Exercise 2: Solving XOR \n",
        "Here we use an open source and famous visualization widget developed by Tensorflow team available [here](https://github.com/tensorflow/playground).\n",
        "* Play with the widget and observe that you can not solve the continuous XOR dataset\n",
        "* Now add one hidden layer with three units, play with the widget, and set weights by hand to solve this dataset perfectly.\n",
        "\n",
        "For the second part, you should set the weights by clicking on the connections and either type the value or use the up and down keys to change it by one increment. You could also do the same for the biases by clicking on the tiny square to each neuron's bottom left.\n",
        "Even though there are infinitely many solutions, a neat solution when $f(x)$ is ReLU is: \n",
        "\n",
        "$$y = f(x_1)+f(x_2)-f((x_1+x_2))$$\n",
        "\n",
        "Try to set the weights and biases to implement this function after you played enough :)"
      ]
    },
    {
      "cell_type": "code",
      "execution_count": null,
      "metadata": {
        "cellView": "form",
        "colab": {
          "base_uri": "https://localhost:8080/",
          "height": 705
        },
        "id": "ybfxBilvrWH_",
        "outputId": "2125c228-67de-4b4a-8dea-82762a5c4f9a"
      },
      "outputs": [
        {
          "data": {
            "text/html": [
              "<iframe width=\"1020\" height=\"660\" src=\"https://playground.arashash.com/#activation=relu&batchSize=10&dataset=xor&regDataset=reg-plane&learningRate=0.03&regularizationRate=0&noise=0&networkShape=&seed=0.91390&showTestData=false&discretize=false&percTrainData=90&x=true&y=true&xTimesY=false&xSquared=false&ySquared=false&cosX=false&sinX=false&cosY=false&sinY=false&collectStats=false&problem=classification&initZero=false&hideText=false\" allowfullscreen></iframe>"
            ],
            "text/plain": [
              "<IPython.core.display.HTML object>"
            ]
          },
          "execution_count": 15,
          "metadata": {},
          "output_type": "execute_result"
        }
      ],
      "source": [
        "# @title XOR Exercise\n",
        "from IPython.display import HTML\n",
        "HTML('<iframe width=\"1020\" height=\"660\" src=\"https://playground.arashash.com/#activation=relu&batchSize=10&dataset=xor&regDataset=reg-plane&learningRate=0.03&regularizationRate=0&noise=0&networkShape=&seed=0.91390&showTestData=false&discretize=false&percTrainData=90&x=true&y=true&xTimesY=false&xSquared=false&ySquared=false&cosX=false&sinX=false&cosY=false&sinY=false&collectStats=false&problem=classification&initZero=false&hideText=false\" allowfullscreen></iframe>')"
      ]
    },
    {
      "cell_type": "markdown",
      "metadata": {
        "id": "ZMJZuSjmsEQV"
      },
      "source": [
        "---\n",
        "## Section 2.2: Universal Function Approximation Theorem"
      ]
    },
    {
      "cell_type": "code",
      "execution_count": null,
      "metadata": {
        "cellView": "form",
        "colab": {
          "base_uri": "https://localhost:8080/",
          "height": 518
        },
        "id": "_uKiWhgZCSgY",
        "outputId": "66c73ff6-cc52-46d1-9630-cb70cf8dc94c"
      },
      "outputs": [
        {
          "name": "stdout",
          "output_type": "stream",
          "text": [
            "Video available at https://youtube.com/watch?v=XXXYxolMVdw\n"
          ]
        },
        {
          "data": {
            "image/jpeg": "[encoded data removed]",
            "text/html": [
              "\n",
              "        <iframe\n",
              "            width=\"854\"\n",
              "            height=\"480\"\n",
              "            src=\"https://www.youtube.com/embed/XXXYxolMVdw?fs=1\"\n",
              "            frameborder=\"0\"\n",
              "            allowfullscreen\n",
              "        ></iframe>\n",
              "        "
            ],
            "text/plain": [
              "<IPython.lib.display.YouTubeVideo at 0x7f8a9532dcd0>"
            ]
          },
          "execution_count": 16,
          "metadata": {},
          "output_type": "execute_result"
        }
      ],
      "source": [
        "#@title Video: Universal Approximation\n",
        "\n",
        "video = YouTubeVideo(id=\"XXXYxolMVdw\", width=854, height=480, fs=1)\n",
        "print(\"Video available at https://youtube.com/watch?v=\" + video.id)\n",
        "\n",
        "video"
      ]
    },
    {
      "cell_type": "markdown",
      "metadata": {
        "id": "oS8AGBmqlRNZ"
      },
      "source": [
        "Check out [Lipschitz continuity](https://en.wikipedia.org/wiki/Lipschitz_continuity) for more information about the slide.\n",
        "\n",
        "So now that we saw multilayer perceptrons could solve the XOR problem. Building off this experiment, a natural question that comes to mind is - can we approximate any function using multilayer perceptrons?\n",
        "\n",
        " Universal Approximation theorem proves that we can! The intuition behind the theorem is that we can approximate any function sufficiently well, given a sufficient number of basis functions. These basis functions are present in the hidden layer of MLPs.  "
      ]
    },
    {
      "cell_type": "markdown",
      "metadata": {
        "id": "2j2qcuN8x32j"
      },
      "source": [
        "## Exercise 3: Function approximation with ReLU\n",
        "We learned that one hidden layer MLPs are enough to approximate any smooth function! Now let's manually fit a Sine function using ReLU activation. \n",
        "\n",
        "\n",
        "Instead of combining ReLUs with different slopes, we will approximate the sine function using a linear combination (a weighted sum) of ReLUs with slope 1. We need to determine the bias terms (which determines where the ReLU inflection point from 0 to linear occurs) and how to weight each ReLU. The idea is to set the weights iteratively so that the slope changes in the new sample's direction.\n",
        "\n",
        "First, we generate our \"training data\" from a sine function. These are the points we will use to learn how to approximate the function. We have 10 training data points so we will have 9 ReLUs (we don't need a ReLU for the last data point as we don't have anything to the right of it to model). \n",
        "\n",
        "We first need to figure out the bias term for each ReLU and compute the activation of each ReLU where:\n",
        "\n",
        "$$ y(x) = max(0, x + b) $$\n",
        "\n",
        "We then need to figure out the correct weights on each ReLU so the linear combination approximates the desired function."
      ]
    },
    {
      "cell_type": "code",
      "execution_count": null,
      "metadata": {
        "id": "DVSelFbmFIE1"
      },
      "outputs": [],
      "source": [
        "def approximate_function(x_train, y_train):\n",
        "\n",
        "    ####################################################################\n",
        "    # Fill in missing code below (...),\n",
        "    # then remove or comment the line below to test your function\n",
        "    raise NotImplementedError(\"Complete approximate_function!\")\n",
        "    ####################################################################\n",
        "\n",
        "    # Number of relus\n",
        "    n_relus = x_train.shape[0] - 1\n",
        "\n",
        "    # x axis points (more than x train)\n",
        "    x = torch.linspace(torch.min(x_train), torch.max(x_train), 1000)\n",
        "\n",
        "    ## COMPUTE RELU ACTIVATIONS\n",
        "\n",
        "    # First determine what bias terms should be for each of 9 ReLUs\n",
        "    b = ...\n",
        "\n",
        "    # Compute ReLU activations for each point along the x axis (x)\n",
        "    relu_acts = torch.zeros((n_relus, x.shape[0]))\n",
        "\n",
        "    for i_relu in range(n_relus):\n",
        "      relu_acts[i_relu, :] = torch.relu(x + b[i_relu])\n",
        "\n",
        "    ## COMBINE RELU ACTIVATIONS\n",
        "\n",
        "    # Set up weights for weighted sum of ReLUs\n",
        "    combination_weights = torch.zeros((n_relus, ))\n",
        "\n",
        "    # Figure out weights on each ReLU\n",
        "    prev_slope = 0\n",
        "    for i in range(n_relus):\n",
        "      delta_x = x_train[i+1] - x_train[i]\n",
        "      slope = (y_train[i+1] - y_train[i]) / delta_x \n",
        "      combination_weights[i] = ...\n",
        "      prev_slope = slope\n",
        "\n",
        "    # Get output of weighted sum of ReLU activations for every point along x axis\n",
        "    y_hat = ...\n",
        "\n",
        "    return y_hat, relu_acts, x\n",
        "\n",
        "# Make training data from sine function\n",
        "N_train = 10\n",
        "x_train = torch.linspace(0, 2*np.pi, N_train).view(-1, 1)\n",
        "y_train = torch.sin(x_train)\n",
        "\n",
        "\n",
        "### uncomment the lines below to test your function approximation\n",
        "# y_hat, relu_acts, x = approximate_function(x_train, y_train)\n",
        "# plot_function_approximation(x, relu_acts, y_hat)"
      ]
    },
    {
      "cell_type": "markdown",
      "metadata": {
        "id": "1b37WDpWIUNU"
      },
      "source": [
        "---\n",
        "# Section 3: MLPs in Pytorch"
      ]
    },
    {
      "cell_type": "code",
      "execution_count": null,
      "metadata": {
        "cellView": "form",
        "colab": {
          "base_uri": "https://localhost:8080/",
          "height": 518
        },
        "id": "it4t-UVzJeop",
        "outputId": "d12645b1-4e2a-4d63-bb60-ab4291655eab"
      },
      "outputs": [
        {
          "name": "stdout",
          "output_type": "stream",
          "text": [
            "Video available at https://youtube.com/watch?v=bAhrg8Z8_r8\n"
          ]
        },
        {
          "data": {
            "image/jpeg": "[encoded data removed]",
            "text/html": [
              "\n",
              "        <iframe\n",
              "            width=\"854\"\n",
              "            height=\"480\"\n",
              "            src=\"https://www.youtube.com/embed/bAhrg8Z8_r8?fs=1\"\n",
              "            frameborder=\"0\"\n",
              "            allowfullscreen\n",
              "        ></iframe>\n",
              "        "
            ],
            "text/plain": [
              "<IPython.lib.display.YouTubeVideo at 0x7f8a94a84710>"
            ]
          },
          "execution_count": 19,
          "metadata": {},
          "output_type": "execute_result"
        }
      ],
      "source": [
        "#@title Video: Making Multi-Layer Perceptrons\n",
        "\n",
        "try: t3;\n",
        "except NameError: t3=time.time()\n",
        "\n",
        "video = YouTubeVideo(id=\"bAhrg8Z8_r8\", width=854, height=480, fs=1)\n",
        "print(\"Video available at https://youtube.com/watch?v=\" + video.id)\n",
        "\n",
        "video"
      ]
    },
    {
      "cell_type": "markdown",
      "metadata": {
        "id": "5XadSdjL2qWj"
      },
      "source": [
        "In the previous segment, we implemented a function to approximate any smooth function using MLPs. We saw that using Lipschitz continuity; we can prove that our approximation is mathematically correct. MLPs are fascinating, but before we get into the details on designing them, let's familiarize ourselves with some basic terminology of MLPs- layer, neuron, depth, width, weight, bias, and activation function. Armed with these ideas, we can now design an MLP given its input, hidden layers, and output size."
      ]
    },
    {
      "cell_type": "markdown",
      "metadata": {
        "id": "j_TpUE0cHW1K"
      },
      "source": [
        "## Exercise 4: Implement a general-purpose MLP in Pytorch\n",
        "The objective is to design an MLP with these properties:\n",
        "* works with any input (1D, 2D, etc.)\n",
        "* construct any number of given hidden layers using ModuleList\n",
        "* use the same given activation function in all hidden layers"
      ]
    },
    {
      "cell_type": "code",
      "execution_count": null,
      "metadata": {
        "id": "CUsq7SdqHx8a"
      },
      "outputs": [],
      "source": [
        "class Net(nn.Module):\n",
        "    def __init__(self, actv, num_inputs, hidden_units, num_outputs):\n",
        "        super(Net, self).__init__()\n",
        "\n",
        "        # Assign activation function (exec allows us to assign function from string)\n",
        "        exec('self.actv = nn.%s'%actv)  \n",
        "\n",
        "        # Initialize layers of MLP\n",
        "        self.layers = nn.ModuleList()\n",
        "\n",
        "        ####################################################################\n",
        "        # Fill in missing code below (...),\n",
        "        # then remove or comment the line below to test your function\n",
        "        raise NotImplementedError(\"Create MLP Layers\")\n",
        "        ####################################################################\n",
        "\n",
        "        # Loop over layers and create each one\n",
        "        for i in range(len(hidden_units)):\n",
        "          next_num_inputs = hidden_units[i] \n",
        "          self.layers += ...\n",
        "          num_inputs = next_num_inputs\n",
        "\n",
        "        # Create final layer\n",
        "        self.out = nn.Linear(num_inputs, num_outputs)\n",
        "\n",
        "    def forward(self, x):\n",
        "\n",
        "        ####################################################################\n",
        "        # Fill in missing code below (...),\n",
        "        # then remove or comment the line below to test your function\n",
        "        raise NotImplementedError(\"Calculate the forward pass\")\n",
        "        ####################################################################\n",
        "\n",
        "        # Flatten inputs to 2D (if more than that)\n",
        "        x = ...\n",
        "\n",
        "        # Get activations of each layer\n",
        "        for layer in self.layers:\n",
        "          x = ...\n",
        "\n",
        "        # Get outputs\n",
        "        x = self.out(x) \n",
        "\n",
        "        return x\n",
        "\n",
        "### Uncomment below to create network and test it on input\n",
        "# net = Net(actv='LeakyReLU(0.1)',\n",
        "#     num_inputs = 2,\n",
        "#     hidden_units = [100, 10, 5],\n",
        "#     num_outputs = 1)\n",
        "\n",
        "# input = torch.zeros((100, 2))\n",
        "# y = net(input)\n",
        "# print(f'The output shape is {y.shape} for an input of shape {input.shape}')"
      ]
    },
    {
      "cell_type": "markdown",
      "metadata": {
        "id": "vPWedinyGHiY"
      },
      "source": [
        "## Section 3.2: ReLU in practice\n"
      ]
    },
    {
      "cell_type": "code",
      "execution_count": null,
      "metadata": {
        "cellView": "form",
        "colab": {
          "base_uri": "https://localhost:8080/",
          "height": 518
        },
        "id": "OdQ08YiiGk06",
        "outputId": "41263c26-e7fd-4c5e-ca38-8bf8aac89160"
      },
      "outputs": [
        {
          "name": "stdout",
          "output_type": "stream",
          "text": [
            "Video available at https://youtube.com/watch?v=E8c1my2S4E8\n"
          ]
        },
        {
          "data": {
            "image/jpeg": "[encoded data removed]",
            "text/html": [
              "\n",
              "        <iframe\n",
              "            width=\"854\"\n",
              "            height=\"480\"\n",
              "            src=\"https://www.youtube.com/embed/E8c1my2S4E8?fs=1\"\n",
              "            frameborder=\"0\"\n",
              "            allowfullscreen\n",
              "        ></iframe>\n",
              "        "
            ],
            "text/plain": [
              "<IPython.lib.display.YouTubeVideo at 0x7f8a94a18c50>"
            ]
          },
          "execution_count": 22,
          "metadata": {},
          "output_type": "execute_result"
        }
      ],
      "source": [
        "#@title Video: Implementing ReLU\n",
        "\n",
        "video = YouTubeVideo(id=\"E8c1my2S4E8\", width=854, height=480, fs=1)\n",
        "print(\"Video available at https://youtube.com/watch?v=\" + video.id)\n",
        "\n",
        "video"
      ]
    },
    {
      "cell_type": "markdown",
      "metadata": {
        "id": "dyOmkogLKuDt"
      },
      "source": [
        "## Exercise 5: Benchmark various ReLU implementations\n",
        "Implement and benchmark at least three different ReLU implementations. Use `%timeit` with test number 10 and repeat number 3. Which then takes an average of 10 runs and repeats 3 times, and reports the lowest (best) average time.\n"
      ]
    },
    {
      "cell_type": "code",
      "execution_count": null,
      "metadata": {
        "colab": {
          "base_uri": "https://localhost:8080/"
        },
        "id": "7jzG8GWvKtLt",
        "outputId": "b265fd32-113c-4d6c-c1b2-f25631f1207e"
      },
      "outputs": [
        {
          "name": "stdout",
          "output_type": "stream",
          "text": [
            "Pytorch : 10 loops, best of 3: 110 ms per loop\n",
            "-----------------------------------------------\n",
            "First: 10 loops, best of 3: 28.7 ns per loop\n",
            "-----------------------------------------------\n",
            "Second: 10 loops, best of 3: 27.6 ns per loop\n",
            "-----------------------------------------------\n",
            "Third: 10 loops, best of 3: 39.7 ns per loop\n",
            "-----------------------------------------------\n"
          ]
        }
      ],
      "source": [
        "x = torch.rand((10000, 10000)).to(dev) - 0.5\n",
        "print(\"Pytorch : \", end='')\n",
        "%timeit -n10 -r3 torch.relu(x)\n",
        "print('-----------------------------------------------')\n",
        "\n",
        "print(\"First: \", end='')\n",
        "%timeit -n10 -r3 ...  \n",
        "print('-----------------------------------------------')\n",
        "\n",
        "print(\"Second: \", end='')\n",
        "%timeit -n10 -r3 ...\n",
        "print('-----------------------------------------------')\n",
        "\n",
        "print(\"Third: \", end='')\n",
        "%timeit -n10 -r3 ...\n",
        "print('-----------------------------------------------')"
      ]
    },
    {
      "cell_type": "markdown",
      "metadata": {
        "id": "7VDVqxxaJlz8"
      },
      "source": [
        "## Section 3.3: Classification with MLPs"
      ]
    },
    {
      "cell_type": "code",
      "execution_count": null,
      "metadata": {
        "cellView": "form",
        "colab": {
          "base_uri": "https://localhost:8080/",
          "height": 518
        },
        "id": "gXlMu7ouaKrb",
        "outputId": "9053fde0-582f-44dc-9045-3c62a2abb2d3"
      },
      "outputs": [
        {
          "name": "stdout",
          "output_type": "stream",
          "text": [
            "Video available at https://youtube.com/watch?v=bxzDe2pifKU\n"
          ]
        },
        {
          "data": {
            "image/jpeg": "[encoded data removed]",
            "text/html": [
              "\n",
              "        <iframe\n",
              "            width=\"854\"\n",
              "            height=\"480\"\n",
              "            src=\"https://www.youtube.com/embed/bxzDe2pifKU?fs=1\"\n",
              "            frameborder=\"0\"\n",
              "            allowfullscreen\n",
              "        ></iframe>\n",
              "        "
            ],
            "text/plain": [
              "<IPython.lib.display.YouTubeVideo at 0x7f8a94a18a10>"
            ]
          },
          "execution_count": 25,
          "metadata": {},
          "output_type": "execute_result"
        }
      ],
      "source": [
        "#@title Video: Classification and CrossEntropy\n",
        "\n",
        "video = YouTubeVideo(id=\"bxzDe2pifKU\", width=854, height=480, fs=1)\n",
        "print(\"Video available at https://youtube.com/watch?v=\" + video.id)\n",
        "\n",
        "video"
      ]
    },
    {
      "cell_type": "markdown",
      "metadata": {
        "id": "meZhRHa14_KM"
      },
      "source": [
        "Two potential loss functions we could use out of the box for multi-class classification are:\n",
        "* CrossEntropyLoss:\n",
        "This criterion expects a class index in the range $[0, C-1]$ as the target for each value of a $1D$ tensor of size minibatch. There are other optional parameters like class weights and class ignores. Check the documentation here for more detail. Then in the simplest case, it calculates this,\n",
        "\n",
        "$$\n",
        "\\operatorname{loss}(x, \\text { class })=-\\log \\left(\\frac{\\exp (x[\\text { class }])}{\\sum_{j} \\exp (x[j])}\\right)=-x[\\text { class }]+\\log \\left(\\sum_{j} \\exp (x[j])\\right)\n",
        "$$\n",
        "\n",
        "* MultiMarginLoss:\n",
        "The loss corresponding to class j is calculated as follows,\n",
        "$$\n",
        "l_j(x, y)=\\sum_{j\\neq y} \\max (0, \\operatorname{margin}-x[y]+x[j])\n",
        "$$\n",
        "Then it is averaged over all the class elements and all the mini-batch samples.\n",
        "\n",
        "Before we could start optimizing these loss functions, we need a dataset!"
      ]
    },
    {
      "cell_type": "markdown",
      "metadata": {
        "id": "aCvA5etP2GOy"
      },
      "source": [
        "## Exercise 6: Simulate a Spiral classification dataset\n",
        "Let's turn this fancy-looking equation into a classification dataset"
      ]
    },
    {
      "cell_type": "markdown",
      "metadata": {
        "id": "oTdmdB6oD0KU"
      },
      "source": [
        "$$\n",
        "\\begin{array}{c}\n",
        "X_{k}(t)=t\\left(\\begin{array}{c}\n",
        "\\sin \\left[\\frac{2 \\pi}{K}\\left(2 t+k-1\\right)\\right]+\\mathcal{N}\\left(0, \\sigma^{2}\\right) \\\\\n",
        "\\cos \\left[\\frac{2 \\pi}{K}\\left(2 t+k-1\\right)\\right]+\\mathcal{N}\\left(0, \\sigma^{2}\\right) \n",
        "\\end{array}\\right)\n",
        "\\end{array}, \\quad 0 \\leq t \\leq 1, \\quad k=1, \\ldots, K\n",
        "$$"
      ]
    },
    {
      "cell_type": "code",
      "execution_count": null,
      "metadata": {
        "id": "utfWXn81FHT4"
      },
      "outputs": [],
      "source": [
        "def create_spiral_dataset(K, sigma, N):\n",
        "\n",
        "    # Initialize t, X, y\n",
        "    t = torch.linspace(0, 1, N)\n",
        "    X = torch.zeros(K*N, 2)\n",
        "    y = torch.zeros(K*N)\n",
        "\n",
        "    ####################################################################\n",
        "    # Fill in missing code below (...),\n",
        "    # then remove or comment the line below to test your function\n",
        "    raise NotImplementedError(\"Create spiral data\")\n",
        "    ####################################################################\n",
        "\n",
        "    # Create data\n",
        "    for k in range(K):\n",
        "      X[k*N:(k+1)*N, 0] = ...  \n",
        "      X[k*N:(k+1)*N, 1] = ...   \n",
        "      y[k*N:(k+1)*N] = ...   \n",
        "\n",
        "    return X, y\n",
        "\n",
        "# Set parameters\n",
        "K = 4\n",
        "sigma = 0.5\n",
        "N = 1000\n",
        " \n",
        "### Uncomment below to visualize data when done\n",
        "# X, y = create_spiral_dataset(K, sigma, N)\n",
        "# plt.scatter(X[:, 0], X[:, 1], c = y)"
      ]
    },
    {
      "cell_type": "markdown",
      "metadata": {
        "id": "ZUhAlD-XcbTa"
      },
      "source": [
        "## Section 3.4: Training and Evaluation"
      ]
    },
    {
      "cell_type": "code",
      "execution_count": null,
      "metadata": {
        "cellView": "form",
        "colab": {
          "base_uri": "https://localhost:8080/",
          "height": 518
        },
        "id": "eY2VN0MfcSPN",
        "outputId": "886a8f7b-20b8-4239-e57b-bbbecade51ff"
      },
      "outputs": [
        {
          "name": "stdout",
          "output_type": "stream",
          "text": [
            "Video available at https://youtube.com/watch?v=U6BFrVCLsWU\n"
          ]
        },
        {
          "data": {
            "image/jpeg": "[encoded data removed]",
            "text/html": [
              "\n",
              "        <iframe\n",
              "            width=\"854\"\n",
              "            height=\"480\"\n",
              "            src=\"https://www.youtube.com/embed/U6BFrVCLsWU?fs=1\"\n",
              "            frameborder=\"0\"\n",
              "            allowfullscreen\n",
              "        ></iframe>\n",
              "        "
            ],
            "text/plain": [
              "<IPython.lib.display.YouTubeVideo at 0x7f8a94a68750>"
            ]
          },
          "execution_count": 28,
          "metadata": {},
          "output_type": "execute_result"
        }
      ],
      "source": [
        "#@title Video: Cross-Validation\n",
        "\n",
        "video = YouTubeVideo(id=\"U6BFrVCLsWU\", width=854, height=480, fs=1)\n",
        "print(\"Video available at https://youtube.com/watch?v=\" + video.id)\n",
        "\n",
        "video"
      ]
    },
    {
      "cell_type": "markdown",
      "metadata": {
        "id": "S3RZa-charD2"
      },
      "source": [
        "## Exercise 7: Implement it for a classfication task\n",
        "Steps to follow: \n",
        "  * Dataset shuffle\n",
        "  * Train/Test split\n",
        "  * Dataloader definition\n",
        "  * Training and Evaluation"
      ]
    },
    {
      "cell_type": "code",
      "execution_count": null,
      "metadata": {
        "id": "1NCS2dEqPfiA"
      },
      "outputs": [],
      "source": [
        "def shuffle_and_split_data(X, y):\n",
        "\n",
        "  ####################################################################\n",
        "  # Fill in missing code below (...),\n",
        "  # then remove or comment the line below to test your function\n",
        "  raise NotImplementedError(\"Shuffle & split data\")\n",
        "  ####################################################################\n",
        "\n",
        "  # Number of samples\n",
        "  N = X.shape[0]\n",
        "\n",
        "  # Shuffle data\n",
        "  shuffled_indices = ...  # get indices to shuffle data\n",
        "  X = X[shuffled_indices]\n",
        "  y = y[shuffled_indices]\n",
        "\n",
        "  # Split data into train/test\n",
        "  test_size = ...  # assign size of test data\n",
        "  X_test = X[:test_size]\n",
        "  y_test = y[:test_size]\n",
        "  X_train = X[test_size:]\n",
        "  y_train = y[test_size:]\n",
        "\n",
        "  return X_test, y_test, X_train, y_train\n",
        "\n",
        "\n",
        "### Uncomment below to test your function\n",
        "# X_test, y_test, X_train, y_train = shuffle_and_split_data(X, y)\n",
        "# plt.scatter(X_test[:, 0], X_test[:, 1], c=y_test)\n",
        "# plt.title('Test data')"
      ]
    },
    {
      "cell_type": "markdown",
      "metadata": {
        "id": "TMYnhid1bCyq"
      },
      "source": [
        "And we need to make a Pytorch data loader out of it. Data loading in PyTorch can be separated in 2 parts:\n",
        "* Data must be wrapped on a Dataset parent class where the methods __getitem__ and __len__ must be overrided. Not that at this point the data is not loaded on memory. PyTorch will only load what is needed to the memory. Here `TensorDataset` does this for us directly.\n",
        "* Use a Dataloader that will actually read the data in batches and put into memory. Also, the option of `num_workers > 0` allows multithreading, which prepares multiple batches in the queue to speed things up."
      ]
    },
    {
      "cell_type": "code",
      "execution_count": null,
      "metadata": {
        "id": "cPJNQtOOgC3E"
      },
      "outputs": [],
      "source": [
        "batch_size = 128\n",
        "test_data = TensorDataset(X_test, y_test)\n",
        "test_loader = DataLoader(test_data, batch_size=batch_size,\n",
        "                         shuffle=False, num_workers=0)\n",
        "\n",
        "train_data = TensorDataset(X_train, y_train)\n",
        "train_loader = DataLoader(train_data, batch_size=batch_size, drop_last=True,\n",
        "                        shuffle=True, num_workers=0, worker_init_fn=seed_worker)"
      ]
    },
    {
      "cell_type": "markdown",
      "metadata": {
        "id": "ZyRvSvQ8AJzk"
      },
      "source": [
        "Let's write a general-purpose training and evaluation code and keep it in our pocket for next tutorial as well. So make sure you review it to see what it does.\n",
        "\n",
        "Note that `model.train()` tells your model that you are training the model. So effectively layers like dropout, batchnorm etc. which behave different on the train and test procedures know what is going on and hence can behave accordingly. And to turn off training mode we set `model.eval()`"
      ]
    },
    {
      "cell_type": "code",
      "execution_count": null,
      "metadata": {
        "id": "iW95_EQp1QHx"
      },
      "outputs": [],
      "source": [
        "def train_test_classification(net, criterion, optimizer,\n",
        "                              train_loader, test_loader,\n",
        "                              num_epochs=1, verbose=True, \n",
        "                              training_plot=False):\n",
        "  if verbose:\n",
        "    progress_bar = display(progress(0, 0, num_epochs), display_id=True)\n",
        "\n",
        "  net.train()\n",
        "  training_losses = []\n",
        "  for epoch in range(num_epochs):  # loop over the dataset multiple times\n",
        "      running_loss = 0.0\n",
        "      for i, data in enumerate(train_loader, 0):\n",
        "          # get the inputs; data is a list of [inputs, labels]\n",
        "          inputs, labels = data\n",
        "          inputs = inputs.to(dev).float()\n",
        "          labels = labels.to(dev).long()\n",
        "\n",
        "          # zero the parameter gradients\n",
        "          optimizer.zero_grad()\n",
        "\n",
        "          # forward + backward + optimize\n",
        "          outputs = net(inputs)\n",
        "\n",
        "          loss = criterion(outputs, labels)\n",
        "          loss.backward()\n",
        "          optimizer.step()\n",
        "\n",
        "          # print statistics\n",
        "          if verbose:\n",
        "            training_losses += [loss.item()]\n",
        "            running_loss += loss.item()\n",
        "            if i % 10 == 9:    # update every 10 mini-batches\n",
        "                progress_bar.update(progress(epoch+1, running_loss / 10, num_epochs))\n",
        "                running_loss = 0.0\n",
        "\n",
        "  net.eval()\n",
        "  def test(data_loader):\n",
        "    correct = 0\n",
        "    total = 0\n",
        "    for data in data_loader:\n",
        "        inputs, labels = data\n",
        "        inputs = inputs.to(dev).float()\n",
        "        labels = labels.to(dev).long()\n",
        "\n",
        "        outputs = net(inputs)\n",
        "        _, predicted = torch.max(outputs, 1)\n",
        "        total += labels.size(0)\n",
        "        correct += (predicted == labels).sum().item()\n",
        "\n",
        "    acc = 100 * correct / total\n",
        "    return total, acc\n",
        "\n",
        "  train_total, train_acc = test(train_loader)\n",
        "  test_total, test_acc = test(test_loader)\n",
        "\n",
        "  if verbose:\n",
        "    print('Accuracy on the %d training samples: %0.2f %%' % (train_total, train_acc))\n",
        "    print('Accuracy on the %d testing samples: %0.2f %%' % (test_total, test_acc))\n",
        "\n",
        "  if training_plot:\n",
        "    plt.plot(training_losses)\n",
        "    plt.xlabel('Batch')\n",
        "    plt.ylabel('Training loss')\n",
        "    plt.show()\n",
        "  \n",
        "  return train_acc, test_acc"
      ]
    },
    {
      "cell_type": "markdown",
      "metadata": {
        "id": "c-g2TXrC_TOQ"
      },
      "source": [
        "Now let's put everything together and train your first deep-ish model!"
      ]
    },
    {
      "cell_type": "code",
      "execution_count": null,
      "metadata": {
        "colab": {
          "base_uri": "https://localhost:8080/",
          "height": 455
        },
        "id": "iEGwbZrUfpZu",
        "outputId": "2dbbdd47-c8f4-4916-ecc6-57f961fab34e"
      },
      "outputs": [
        {
          "data": {
            "text/html": [
              "\n",
              "        <label for=\"file\">Training loss: 0.1315343238413334</label>\n",
              "        <progress\n",
              "            value='100'\n",
              "            max='100',\n",
              "            style='width: 100%'\n",
              "        >\n",
              "            100\n",
              "        </progress>\n",
              "    "
            ],
            "text/plain": [
              "<IPython.core.display.HTML object>"
            ]
          },
          "metadata": {},
          "output_type": "display_data"
        },
        {
          "name": "stdout",
          "output_type": "stream",
          "text": [
            "Accuracy on the 3200 training samples: 98.16 %\n",
            "Accuracy on the 800 testing samples: 98.12 %\n"
          ]
        },
        {
          "data": {
            "image/png": "[encoded data removed]",
            "text/plain": [
              "<Figure size 576x432 with 1 Axes>"
            ]
          },
          "metadata": {
            "image/png": {
              "height": 370,
              "width": 497
            },
            "needs_background": "light"
          },
          "output_type": "display_data"
        }
      ],
      "source": [
        "net = Net('ReLU()', X_train.shape[1], [128], K).to(dev)\n",
        "criterion = nn.CrossEntropyLoss()\n",
        "optimizer = optim.Adam(net.parameters(), lr=1e-3)\n",
        "num_epochs = 100\n",
        "_, _ = train_test_classification(net, criterion, optimizer, train_loader,\n",
        "                                 test_loader, num_epochs=num_epochs,\n",
        "                                 training_plot=True)"
      ]
    },
    {
      "cell_type": "markdown",
      "metadata": {
        "id": "6_HvMx0thX42"
      },
      "source": [
        "And finally, let's visualize the learned decision-map. We know you're probably running out of time, so we won't make you write code now! But make sure you have reviewed it since we'll start with another visualization technique next time."
      ]
    },
    {
      "cell_type": "code",
      "execution_count": null,
      "metadata": {
        "colab": {
          "base_uri": "https://localhost:8080/",
          "height": 431
        },
        "id": "elWAOswugLak",
        "outputId": "a55a83ef-8d06-45df-845d-09c2412de611"
      },
      "outputs": [
        {
          "name": "stderr",
          "output_type": "stream",
          "text": [
            "/usr/local/lib/python3.7/dist-packages/torch/functional.py:445: UserWarning: torch.meshgrid: in an upcoming release, it will be required to pass the indexing argument. (Triggered internally at  ../aten/src/ATen/native/TensorShape.cpp:2157.)\n",
            "  return _VF.meshgrid(tensors, **kwargs)  # type: ignore[attr-defined]\n"
          ]
        },
        {
          "data": {
            "image/png": "[encoded data removed]",
            "text/plain": [
              "<Figure size 576x432 with 1 Axes>"
            ]
          },
          "metadata": {
            "image/png": {
              "height": 360,
              "width": 379
            },
            "needs_background": "light"
          },
          "output_type": "display_data"
        }
      ],
      "source": [
        "def sample_grid(M=500, x_max = 2.0):\n",
        "  ii, jj = torch.meshgrid(torch.linspace(-x_max, x_max,M),\n",
        "                          torch.linspace(-x_max, x_max, M))\n",
        "  X_all = torch.cat([ii.unsqueeze(-1),\n",
        "                     jj.unsqueeze(-1)],\n",
        "                     dim=-1).view(-1, 2)\n",
        "  return X_all\n",
        "\n",
        "def plot_decision_map(X_all, y_pred, X_test, y_test, M=500, x_max = 2.0, eps = 1e-3):\n",
        "  decision_map = torch.argmax(y_pred, dim=1)\n",
        "\n",
        "  for i in range(len(X_test)):\n",
        "    indeces = (X_all[:, 0] - X_test[i, 0])**2 + (X_all[:, 1] - X_test[i, 1])**2 < eps\n",
        "    decision_map[indeces] = (K + y_test[i]).long()\n",
        "\n",
        "  decision_map = decision_map.view(M, M).cpu()\n",
        "  plt.imshow(decision_map, extent=[-x_max, x_max, -x_max, x_max], cmap='jet')\n",
        "  plt.plot()\n",
        "\n",
        "X_all = sample_grid()\n",
        "y_pred = net(X_all)\n",
        "plot_decision_map(X_all, y_pred, X_test, y_test)"
      ]
    },
    {
      "cell_type": "markdown",
      "metadata": {
        "id": "YXSP8x674oDS"
      },
      "source": [
        "# Quiz"
      ]
    },
    {
      "cell_type": "code",
      "execution_count": null,
      "metadata": {
        "cellView": "form",
        "id": "Yg9ShEsJ4rlp"
      },
      "outputs": [],
      "source": [
        "#@markdown Why do you think increasing the membrane resistance leads to a more ReLU like transfer function in Section 1.2.?\n",
        "why_become_relu = '' #@param {type:\"string\"}"
      ]
    },
    {
      "cell_type": "code",
      "execution_count": null,
      "metadata": {
        "cellView": "form",
        "id": "pKq22OLv5CqB"
      },
      "outputs": [],
      "source": [
        "#@markdown Is it necessary to use `net.train()` and `net.eval()` for our MLP model in Exercise 7? Why?\n",
        "why_two_modes = '' #@param {type:\"string\"}"
      ]
    },
    {
      "cell_type": "code",
      "execution_count": null,
      "metadata": {
        "cellView": "form",
        "id": "Kk_qvFxN5Dz5"
      },
      "outputs": [],
      "source": [
        "#@markdown Do you think the model in Exercise 7 is performing well outside its training distribution? Why?\n",
        "out_of_distr = '' #@param {type:\"string\"}"
      ]
    },
    {
      "cell_type": "code",
      "execution_count": null,
      "metadata": {
        "cellView": "form",
        "id": "uJPwchId6m6m"
      },
      "outputs": [],
      "source": [
        "#@markdown Why is the XOR problem exceptionally interesting to neural network researchers?\n",
        "xor_interesting = '' #@param {type:\"string\"}"
      ]
    },
    {
      "cell_type": "markdown",
      "metadata": {
        "id": "31mPmt3bYS5H"
      },
      "source": [
        "# Submit your responses\n",
        "Please run the following cell and then press \"Submit\" so we can record your responses."
      ]
    },
    {
      "cell_type": "code",
      "execution_count": null,
      "metadata": {
        "cellView": "form",
        "colab": {
          "base_uri": "https://localhost:8080/",
          "height": 421
        },
        "id": "-T0vbGaHYXtC",
        "outputId": "ec2a5b3d-8a1c-41dd-adcd-1655e9e3dfde"
      },
      "outputs": [
        {
          "data": {
            "text/html": [
              "\n",
              "        <iframe\n",
              "            width=\"800\"\n",
              "            height=\"400\"\n",
              "            src=\"https://airtable.com/embed/shrUv9g9UReJzgxgS?prefill_pennkey=&prefill_pod=Select&prefill_email=&prefill_why_become_relu=&prefill_why_two_modes=&prefill_out_of_distr=&prefill_xor_interesting=&prefill_cumulative_times=[3.83853912e-05]\"\n",
              "            frameborder=\"0\"\n",
              "            allowfullscreen\n",
              "        ></iframe>\n",
              "        "
            ],
            "text/plain": [
              "<IPython.lib.display.IFrame at 0x7f8a8c061fd0>"
            ]
          },
          "metadata": {},
          "output_type": "display_data"
        }
      ],
      "source": [
        "import time\n",
        "import numpy as np\n",
        "from IPython.display import IFrame\n",
        "#@markdown #Run Cell to Show Airtable Form\n",
        "#@markdown ##**Confirm your answers and then click \"Submit\"**\n",
        "\n",
        "def prefill_form(src, fields: dict):\n",
        "  '''\n",
        "  src: the original src url to embed the form\n",
        "  fields: a dictionary of field:value pairs,\n",
        "  e.g. {\"pennkey\": my_pennkey, \"location\": my_location}\n",
        "  '''\n",
        "  prefills = \"&\".join([\"prefill_%s=%s\"%(key, fields[key]) for key in fields])\n",
        "  src = src + prefills\n",
        "  src = \"+\".join(src.split(\" \"))\n",
        "  return src\n",
        "\n",
        "\n",
        "#autofill time if it is not present\n",
        "try: t0;\n",
        "except NameError: t0 = time.time()\n",
        "\n",
        "try: t1;\n",
        "except NameError: t1 = time.time()\n",
        "\n",
        "\n",
        "#autofill fields if they are not present\n",
        "#a missing pennkey and pod will result in an Airtable warning\n",
        "#which is easily fixed user-side.\n",
        "try: my_pennkey;\n",
        "except NameError: my_pennkey = \"\"\n",
        "\n",
        "try: my_pod;\n",
        "except NameError: my_pod = \"Select\"\n",
        "\n",
        "try: my_email;\n",
        "except NameError: my_pod = \"Select\"\n",
        "\n",
        "try: wwhy_become_relu;\n",
        "except NameError: why_become_relu = \"\"\n",
        "\n",
        "try: why_two_modes;\n",
        "except NameError: why_two_modes = \"\"\n",
        "\n",
        "try: out_of_distr;\n",
        "except NameError: out_of_distr = \"\"\n",
        "\n",
        "try: xor_interesting;\n",
        "except NameError: xor_interesting = \"\"\n",
        "\n",
        "times = np.array([t1])-t0\n",
        "\n",
        "fields = {\"pennkey\": my_pennkey,\n",
        "          \"pod\": my_pod,\n",
        "          \"email\": my_email,\n",
        "          \"why_become_relu\": why_become_relu,\n",
        "          \"why_two_modes\": why_two_modes,\n",
        "          \"out_of_distr\": out_of_distr,\n",
        "          \"xor_interesting\": xor_interesting,\n",
        "          \"cumulative_times\": times}\n",
        "\n",
        "src = \"https://airtable.com/embed/shrUv9g9UReJzgxgS?\"\n",
        "\n",
        "#now instead of the original source url, we do: src = prefill_form(src, fields)\n",
        "display(IFrame(src = prefill_form(src, fields), width = 800, height = 400))"
      ]
    },
    {
      "cell_type": "markdown",
      "metadata": {
        "id": "zhhpq4gvanhu"
      },
      "source": [
        "## Feedback\n",
        "How could this session have been better? How happy are you in your group? How do you feel right now?\n"
      ]
    },
    {
      "cell_type": "code",
      "execution_count": null,
      "metadata": {
        "cellView": "form",
        "colab": {
          "base_uri": "https://localhost:8080/",
          "height": 421
        },
        "id": "NQ3oX2LFa3AB",
        "outputId": "78d2c372-dee1-48ac-bd93-610ed91c7103"
      },
      "outputs": [
        {
          "data": {
            "text/html": [
              "\n",
              "        <iframe\n",
              "            width=\"800\"\n",
              "            height=\"400\"\n",
              "            src=\"https://airtable.com/embed/shr1TzujOOOY21kFQ\"\n",
              "            frameborder=\"0\"\n",
              "            allowfullscreen\n",
              "        ></iframe>\n",
              "        "
            ],
            "text/plain": [
              "<IPython.lib.display.IFrame at 0x7f8a8b7306d0>"
            ]
          },
          "metadata": {},
          "output_type": "display_data"
        }
      ],
      "source": [
        "# @title Feedback form\n",
        "display(IFrame(src=\"https://airtable.com/embed/shr1TzujOOOY21kFQ\", width = 800, height = 400))"
      ]
    }
  ],
  "metadata": {
    "accelerator": "TPU",
    "colab": {
      "collapsed_sections": [],
      "machine_shape": "hm",
      "name": "CIS_522_W3D1_Tutorial_–_Student_Version.ipynb",
      "provenance": [],
      "toc_visible": true
    },
    "kernelspec": {
      "display_name": "Python 3",
      "language": "python",
      "name": "python3"
    },
    "language_info": {
      "name": "python",
      "version": "3.10.0 (default, Jan 12 2022, 16:38:35) [Clang 13.0.0 (clang-1300.0.29.30)]"
    },
    "vscode": {
      "interpreter": {
        "hash": "c87ee834c2458a7cf5e34743e4a2d302f1d67af2ede21ef77017c6c0552f8c80"
      }
    },
    "widgets": {
      "application/vnd.jupyter.widget-state+json": {
        "0abe09e79b22424cb3da30c0b37de917": {
          "model_module": "@jupyter-widgets/base",
          "model_module_version": "1.2.0",
          "model_name": "LayoutModel",
          "state": {
            "_model_module": "@jupyter-widgets/base",
            "_model_module_version": "1.2.0",
            "_model_name": "LayoutModel",
            "_view_count": null,
            "_view_module": "@jupyter-widgets/base",
            "_view_module_version": "1.2.0",
            "_view_name": "LayoutView",
            "align_content": null,
            "align_items": null,
            "align_self": null,
            "border": null,
            "bottom": null,
            "display": null,
            "flex": null,
            "flex_flow": null,
            "grid_area": null,
            "grid_auto_columns": null,
            "grid_auto_flow": null,
            "grid_auto_rows": null,
            "grid_column": null,
            "grid_gap": null,
            "grid_row": null,
            "grid_template_areas": null,
            "grid_template_columns": null,
            "grid_template_rows": null,
            "height": null,
            "justify_content": null,
            "justify_items": null,
            "left": null,
            "margin": null,
            "max_height": null,
            "max_width": null,
            "min_height": null,
            "min_width": null,
            "object_fit": null,
            "object_position": null,
            "order": null,
            "overflow": null,
            "overflow_x": null,
            "overflow_y": null,
            "padding": null,
            "right": null,
            "top": null,
            "visibility": null,
            "width": null
          }
        },
        "2da0d148a64a45249d7946cfc3a1105d": {
          "model_module": "@jupyter-widgets/controls",
          "model_module_version": "1.5.0",
          "model_name": "VBoxModel",
          "state": {
            "_dom_classes": [
              "widget-interact"
            ],
            "_model_module": "@jupyter-widgets/controls",
            "_model_module_version": "1.5.0",
            "_model_name": "VBoxModel",
            "_view_count": null,
            "_view_module": "@jupyter-widgets/controls",
            "_view_module_version": "1.5.0",
            "_view_name": "VBoxView",
            "box_style": "",
            "children": [
              "IPY_MODEL_f6e56acd69184286af25ca350e44f4bc",
              "IPY_MODEL_7014794deb264db29036e4286111a287"
            ],
            "layout": "IPY_MODEL_7e0cb1742e7f439093e7a196ff6d38fc"
          }
        },
        "47b1c2bbbf624d6c82d885fae653bf1a": {
          "model_module": "@jupyter-widgets/base",
          "model_module_version": "1.2.0",
          "model_name": "LayoutModel",
          "state": {
            "_model_module": "@jupyter-widgets/base",
            "_model_module_version": "1.2.0",
            "_model_name": "LayoutModel",
            "_view_count": null,
            "_view_module": "@jupyter-widgets/base",
            "_view_module_version": "1.2.0",
            "_view_name": "LayoutView",
            "align_content": null,
            "align_items": null,
            "align_self": null,
            "border": null,
            "bottom": null,
            "display": null,
            "flex": null,
            "flex_flow": null,
            "grid_area": null,
            "grid_auto_columns": null,
            "grid_auto_flow": null,
            "grid_auto_rows": null,
            "grid_column": null,
            "grid_gap": null,
            "grid_row": null,
            "grid_template_areas": null,
            "grid_template_columns": null,
            "grid_template_rows": null,
            "height": null,
            "justify_content": null,
            "justify_items": null,
            "left": null,
            "margin": null,
            "max_height": null,
            "max_width": null,
            "min_height": null,
            "min_width": null,
            "object_fit": null,
            "object_position": null,
            "order": null,
            "overflow": null,
            "overflow_x": null,
            "overflow_y": null,
            "padding": null,
            "right": null,
            "top": null,
            "visibility": null,
            "width": null
          }
        },
        "7014794deb264db29036e4286111a287": {
          "model_module": "@jupyter-widgets/output",
          "model_module_version": "1.0.0",
          "model_name": "OutputModel",
          "state": {
            "_dom_classes": [],
            "_model_module": "@jupyter-widgets/output",
            "_model_module_version": "1.0.0",
            "_model_name": "OutputModel",
            "_view_count": null,
            "_view_module": "@jupyter-widgets/output",
            "_view_module_version": "1.0.0",
            "_view_name": "OutputView",
            "layout": "IPY_MODEL_0abe09e79b22424cb3da30c0b37de917",
            "msg_id": "",
            "outputs": [
              {
                "data": {
                  "image/png": "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\n",
                  "text/plain": "<Figure size 576x432 with 1 Axes>"
                },
                "metadata": {
                  "image/png": {
                    "height": 386,
                    "width": 487
                  },
                  "needs_background": "light"
                },
                "output_type": "display_data"
              }
            ]
          }
        },
        "7e0cb1742e7f439093e7a196ff6d38fc": {
          "model_module": "@jupyter-widgets/base",
          "model_module_version": "1.2.0",
          "model_name": "LayoutModel",
          "state": {
            "_model_module": "@jupyter-widgets/base",
            "_model_module_version": "1.2.0",
            "_model_name": "LayoutModel",
            "_view_count": null,
            "_view_module": "@jupyter-widgets/base",
            "_view_module_version": "1.2.0",
            "_view_name": "LayoutView",
            "align_content": null,
            "align_items": null,
            "align_self": null,
            "border": null,
            "bottom": null,
            "display": null,
            "flex": null,
            "flex_flow": null,
            "grid_area": null,
            "grid_auto_columns": null,
            "grid_auto_flow": null,
            "grid_auto_rows": null,
            "grid_column": null,
            "grid_gap": null,
            "grid_row": null,
            "grid_template_areas": null,
            "grid_template_columns": null,
            "grid_template_rows": null,
            "height": null,
            "justify_content": null,
            "justify_items": null,
            "left": null,
            "margin": null,
            "max_height": null,
            "max_width": null,
            "min_height": null,
            "min_width": null,
            "object_fit": null,
            "object_position": null,
            "order": null,
            "overflow": null,
            "overflow_x": null,
            "overflow_y": null,
            "padding": null,
            "right": null,
            "top": null,
            "visibility": null,
            "width": null
          }
        },
        "db40855516db4091a11b1cfe748652c4": {
          "model_module": "@jupyter-widgets/controls",
          "model_module_version": "1.5.0",
          "model_name": "SliderStyleModel",
          "state": {
            "_model_module": "@jupyter-widgets/controls",
            "_model_module_version": "1.5.0",
            "_model_name": "SliderStyleModel",
            "_view_count": null,
            "_view_module": "@jupyter-widgets/base",
            "_view_module_version": "1.2.0",
            "_view_name": "StyleView",
            "description_width": "",
            "handle_color": null
          }
        },
        "f6e56acd69184286af25ca350e44f4bc": {
          "model_module": "@jupyter-widgets/controls",
          "model_module_version": "1.5.0",
          "model_name": "FloatSliderModel",
          "state": {
            "_dom_classes": [],
            "_model_module": "@jupyter-widgets/controls",
            "_model_module_version": "1.5.0",
            "_model_name": "FloatSliderModel",
            "_view_count": null,
            "_view_module": "@jupyter-widgets/controls",
            "_view_module_version": "1.5.0",
            "_view_name": "FloatSliderView",
            "continuous_update": true,
            "description": "Rm",
            "description_tooltip": null,
            "disabled": false,
            "layout": "IPY_MODEL_47b1c2bbbf624d6c82d885fae653bf1a",
            "max": 10,
            "min": 0.5,
            "orientation": "horizontal",
            "readout": true,
            "readout_format": ".2f",
            "step": 0.1,
            "style": "IPY_MODEL_db40855516db4091a11b1cfe748652c4",
            "value": 1
          }
        }
      }
    }
  },
  "nbformat": 4,
  "nbformat_minor": 0
}
