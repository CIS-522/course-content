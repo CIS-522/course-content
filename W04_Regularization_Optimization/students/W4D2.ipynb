{
 "cells": [
  {
   "attachments": {},
   "cell_type": "markdown",
   "metadata": {},
   "source": [
    "# Regularization & Optimization\n"
   ]
  },
  {
   "cell_type": "code",
   "execution_count": 1,
   "metadata": {},
   "outputs": [],
   "source": [
    "# @markdown What is your Pennkey and pod? (text, not numbers, e.g. bfranklin)\n",
    "my_pennkey = \"\"  # @param {type:\"string\"}\n",
    "my_pod = \"Select\"  # @param [\"Factorial Ferrets\", \"Causal Crows\", \"Recursive Roosters\", \"Bayesian Bighorns\", \"Probabilistic Pronghorns\", \"Hashing Hares\", \"Multiplicative Mustangs\", \"Curiosity Capybaras\", \"Subspace Salamanders\"]\n",
    "my_email = \"\"  # @param {type:\"string\"}\n"
   ]
  },
  {
   "cell_type": "code",
   "execution_count": 2,
   "metadata": {},
   "outputs": [],
   "source": [
    "# start timing\n",
    "import time\n",
    "\n",
    "try:\n",
    "    t0\n",
    "except NameError:\n",
    "    t0 = time.time()\n"
   ]
  },
  {
   "attachments": {},
   "cell_type": "markdown",
   "metadata": {},
   "source": [
    "**Ensure you're running a GPU notebook.**\n",
    "\n",
    "From \"Runtime\" in the drop-down menu above, click \"Change runtime type\". Ensure that \"Hardware Accelerator\" says \"GPU\".\n"
   ]
  },
  {
   "cell_type": "code",
   "execution_count": 3,
   "metadata": {},
   "outputs": [],
   "source": [
    "# @title Import functions\n",
    "from __future__ import print_function\n",
    "import torch\n",
    "import pathlib\n",
    "import random\n",
    "import torch.nn as nn\n",
    "import torch.nn.functional as F\n",
    "import torch.optim as optim\n",
    "from torchvision import datasets, transforms\n",
    "from torchvision.datasets import ImageFolder\n",
    "from torch.utils.data import DataLoader, TensorDataset\n",
    "import torch.nn.utils.prune as prune\n",
    "from torch.optim.lr_scheduler import StepLR\n",
    "import time\n",
    "import numpy as np\n",
    "import matplotlib.pyplot as plt\n",
    "import matplotlib.animation as animation\n",
    "import copy\n",
    "from tqdm import tqdm\n",
    "from IPython.display import HTML, display\n"
   ]
  },
  {
   "cell_type": "code",
   "execution_count": 4,
   "metadata": {},
   "outputs": [
    {
     "name": "stdout",
     "output_type": "stream",
     "text": [
      "Video available at https://youtube.com/watch?v=bc1nsP4htVg\n"
     ]
    },
    {
     "data": {
      "image/jpeg": "[encoded data removed]",
      "text/html": [
       "\n",
       "        <iframe\n",
       "            width=\"854\"\n",
       "            height=\"480\"\n",
       "            src=\"https://www.youtube.com/embed/bc1nsP4htVg?fs=1\"\n",
       "            frameborder=\"0\"\n",
       "            allowfullscreen\n",
       "            \n",
       "        ></iframe>\n",
       "        "
      ],
      "text/plain": [
       "<IPython.lib.display.YouTubeVideo at 0x10edc4460>"
      ]
     },
     "execution_count": 4,
     "metadata": {},
     "output_type": "execute_result"
    }
   ],
   "source": [
    "# @title Video: Introduction to Regularization\n",
    "try:\n",
    "    t1\n",
    "except NameError:\n",
    "    t1 = time.time()\n",
    "\n",
    "from IPython.display import YouTubeVideo\n",
    "\n",
    "video = YouTubeVideo(id=\"bc1nsP4htVg\", width=854, height=480, fs=1)\n",
    "print(\"Video available at https://youtube.com/watch?v=\" + video.id)\n",
    "\n",
    "video\n"
   ]
  },
  {
   "attachments": {},
   "cell_type": "markdown",
   "metadata": {
    "id": "qH6yOo8LOHFG"
   },
   "source": [
    "## Learning Objectives\n",
    "\n",
    "1.  Regularization as shrinkage of overparameterized models\n",
    "    1.  L1\n",
    "    2.  L2\n",
    "    3.  early stopping\n",
    "2.  Regularization by Dropout\n",
    "3.  Regularization by Data Augmentation\n",
    "4.  Perils of Hyper-Parameter Tuning\n",
    "5.  Rethinking generalization\n"
   ]
  },
  {
   "attachments": {},
   "cell_type": "markdown",
   "metadata": {
    "id": "2icaflJHWPm1"
   },
   "source": [
    "## Section 1: Regularization is Shrinkage\n"
   ]
  },
  {
   "cell_type": "code",
   "execution_count": 5,
   "metadata": {
    "cellView": "form",
    "colab": {
     "base_uri": "https://localhost:8080/",
     "height": 538
    },
    "id": "0qn2FpI2Wdgn",
    "outputId": "e4ac3546-5430-4a6d-c39c-ac13209d6e36"
   },
   "outputs": [
    {
     "name": "stdout",
     "output_type": "stream",
     "text": [
      "Video available at https://youtube.com/watch?v=B4CsCKViB3k\n"
     ]
    },
    {
     "data": {
      "image/jpeg": "[encoded data removed]",
      "text/html": [
       "\n",
       "        <iframe\n",
       "            width=\"854\"\n",
       "            height=\"480\"\n",
       "            src=\"https://www.youtube.com/embed/B4CsCKViB3k?fs=1\"\n",
       "            frameborder=\"0\"\n",
       "            allowfullscreen\n",
       "            \n",
       "        ></iframe>\n",
       "        "
      ],
      "text/plain": [
       "<IPython.lib.display.YouTubeVideo at 0x10edc4d90>"
      ]
     },
     "execution_count": 5,
     "metadata": {},
     "output_type": "execute_result"
    }
   ],
   "source": [
    "# @title Video : Introduction to Regularization\n",
    "try:\n",
    "    t2\n",
    "except NameError:\n",
    "    t2 = time.time()\n",
    "\n",
    "from IPython.display import YouTubeVideo\n",
    "\n",
    "video = YouTubeVideo(id=\"B4CsCKViB3k\", width=854, height=480, fs=1)\n",
    "print(\"Video available at https://youtube.com/watch?v=\" + video.id)\n",
    "\n",
    "video\n"
   ]
  },
  {
   "attachments": {},
   "cell_type": "markdown",
   "metadata": {
    "id": "aAGlmnIjWrJ7"
   },
   "source": [
    "One way to think about Regularization is to think in terms of the magnitude of the overall weights of the model. A model with big weights can fit more data perfectly. Wheras a model with smaller weights tend to underperform on the train set but can suprisingly do very well on the test set. Too small of a weights can also be as issue as it can the underfit the model.\n",
    "\n",
    "This week we use the sum of Frobenius Norm of all the tensors in the model as a metric to measure to measure the \"size of the model\".\n"
   ]
  },
  {
   "attachments": {},
   "cell_type": "markdown",
   "metadata": {
    "id": "avenCkhxzgSb"
   },
   "source": [
    "### Exercise 1: Frobenius Norm\n",
    "\n",
    "Before we start let us do a quick recollection of Frobenius Norm. The Frobenius norm, sometimes also called the Euclidean norm (a term unfortunately also used for the vector $L^2$ norm), is matrix norm of an m×n matrix A, defined as the square root of the sum of the absolute squares of its elements.\n",
    "\n",
    "\\begin{equation}\n",
    "||A||_F= \\sqrt{\\sum_{i=1}^m\\sum_{j=1}^n|a_{ij}|^2}\n",
    "\\end{equation}\n"
   ]
  },
  {
   "cell_type": "code",
   "execution_count": 6,
   "metadata": {
    "id": "gLmcWspCBGFR"
   },
   "outputs": [
    {
     "name": "stdout",
     "output_type": "stream",
     "text": [
      "Frobenius Norm of Single Linear Layer: 0.5934033241843465\n"
     ]
    }
   ],
   "source": [
    "def calculate_frobenius_norm(model: nn.Module) -> float:\n",
    "    \"\"\"\n",
    "    Calculates the Frobenius norm of all the weights in a model\n",
    "\n",
    "    Arguments:\n",
    "        model: PyTorch model\n",
    "\n",
    "    Returns:\n",
    "        float: Frobenius norm of all weights in the model\n",
    "\n",
    "    \"\"\"\n",
    "    # Hint: Check out nn.Module#named_parameters\n",
    "    raise NotImplementedError(\"Implement this function!\")\n",
    "\n",
    "\n",
    "net = nn.Linear(10, 1)\n",
    "print(f\"Frobenius Norm of Single Linear Layer: {calculate_frobenius_norm(net)}\")\n"
   ]
  },
  {
   "attachments": {},
   "cell_type": "markdown",
   "metadata": {
    "id": "_pYQM7QcEV2u"
   },
   "source": [
    "## Section 2: Overfitting\n"
   ]
  },
  {
   "cell_type": "code",
   "execution_count": 7,
   "metadata": {
    "cellView": "form",
    "colab": {
     "base_uri": "https://localhost:8080/",
     "height": 538
    },
    "id": "GHrk7xaMoFQZ",
    "outputId": "12518224-3952-448c-9939-c6574027ab4c"
   },
   "outputs": [
    {
     "name": "stdout",
     "output_type": "stream",
     "text": [
      "Video available at https://youtube.com/watch?v=RlaGyRKP2nY\n"
     ]
    },
    {
     "data": {
      "image/jpeg": "[encoded data removed]",
      "text/html": [
       "\n",
       "        <iframe\n",
       "            width=\"854\"\n",
       "            height=\"480\"\n",
       "            src=\"https://www.youtube.com/embed/RlaGyRKP2nY?fs=1\"\n",
       "            frameborder=\"0\"\n",
       "            allowfullscreen\n",
       "            \n",
       "        ></iframe>\n",
       "        "
      ],
      "text/plain": [
       "<IPython.lib.display.YouTubeVideo at 0x148347d60>"
      ]
     },
     "execution_count": 7,
     "metadata": {},
     "output_type": "execute_result"
    }
   ],
   "source": [
    "# @title Video : Overfitting\n",
    "try:\n",
    "    t3\n",
    "except NameError:\n",
    "    t3 = time.time()\n",
    "\n",
    "from IPython.display import YouTubeVideo\n",
    "\n",
    "video = YouTubeVideo(id=\"RlaGyRKP2nY\", width=854, height=480, fs=1)\n",
    "print(\"Video available at https://youtube.com/watch?v=\" + video.id)\n",
    "\n",
    "video\n"
   ]
  },
  {
   "attachments": {},
   "cell_type": "markdown",
   "metadata": {
    "id": "7Lh2KZwvV6kF"
   },
   "source": [
    "## Visualizing Overfitting\n",
    "\n",
    "Let's create some synthetic dataset that we will use to illustrate overfitting in neural networks.\n"
   ]
  },
  {
   "cell_type": "code",
   "execution_count": 8,
   "metadata": {
    "colab": {
     "base_uri": "https://localhost:8080/",
     "height": 476
    },
    "id": "qQ-J57s3Ee03",
    "outputId": "6bf4f5b6-b8ce-4ae9-e03c-d7a1d14102c3"
   },
   "outputs": [
    {
     "data": {
      "image/png": "[encoded data removed]",
      "text/plain": [
       "<Figure size 432x288 with 1 Axes>"
      ]
     },
     "metadata": {
      "needs_background": "light"
     },
     "output_type": "display_data"
    }
   ],
   "source": [
    "# creating train data\n",
    "X = torch.rand((10, 1))\n",
    "X.sort(dim=0)\n",
    "\n",
    "# adding small error in the data\n",
    "Y = 2 * X + 2 * torch.empty((X.shape[0], 1)).normal_(mean=0, std=1)\n",
    "\n",
    "X = X.unsqueeze_(1)\n",
    "Y = Y.unsqueeze_(1)\n",
    "\n",
    "# visualizing trian data\n",
    "plt.scatter(X.numpy(), Y.numpy())\n",
    "plt.xlabel(\"x\")\n",
    "plt.ylabel(\"y\")\n",
    "plt.title(\"toy dataset\")\n",
    "plt.show()\n",
    "\n",
    "# creating test dataset\n",
    "X_test = torch.linspace(0, 1, 40)\n",
    "X_test = X_test.reshape((40, 1, 1))\n"
   ]
  },
  {
   "attachments": {},
   "cell_type": "markdown",
   "metadata": {
    "id": "4mU0QnD1tYIH"
   },
   "source": [
    "Let's create a NN that can fit on the dataset we just created and train it.\n"
   ]
  },
  {
   "cell_type": "code",
   "execution_count": 9,
   "metadata": {
    "id": "Pzw7b04rOSpd"
   },
   "outputs": [],
   "source": [
    "class Net(nn.Module):\n",
    "    \"\"\"\n",
    "    A simple network with leaky relu activation\n",
    "    \"\"\"\n",
    "\n",
    "    def __init__(self):\n",
    "        \"\"\"\n",
    "        Initializes the network\n",
    "        \"\"\"\n",
    "        super(Net, self).__init__()\n",
    "        self.fc1 = nn.Linear(1, 300)\n",
    "        self.fc2 = nn.Linear(300, 500)\n",
    "        self.fc3 = nn.Linear(500, 1)\n",
    "\n",
    "    def forward(self, x):\n",
    "        \"\"\"\n",
    "        Forward pass of the network\n",
    "        \"\"\"\n",
    "        x = F.leaky_relu(self.fc1(x))\n",
    "        x = F.leaky_relu(self.fc2(x))\n",
    "        output = self.fc3(x)\n",
    "        return output\n"
   ]
  },
  {
   "cell_type": "code",
   "execution_count": 10,
   "metadata": {
    "colab": {
     "base_uri": "https://localhost:8080/"
    },
    "id": "bUFGn_PROuvP",
    "outputId": "e8f2b672-87ae-4ae8-bcd5-933b0e83ed4c"
   },
   "outputs": [
    {
     "name": "stderr",
     "output_type": "stream",
     "text": [
      "100%|██████████| 1000/1000 [00:03<00:00, 312.62it/s]\n"
     ]
    }
   ],
   "source": [
    "# train the network on toy dataset\n",
    "model = Net()\n",
    "criterion = nn.MSELoss()\n",
    "optimizer = optim.Adam(model.parameters(), lr=1e-4)\n",
    "max_epochs = 1000\n",
    "iters = 0\n",
    "\n",
    "running_predictions = np.empty((40, (int)(max_epochs / 500 + 1)))\n",
    "\n",
    "train_loss = []\n",
    "test_loss = []\n",
    "model_norm = []\n",
    "\n",
    "for epoch in tqdm(range(max_epochs)):\n",
    "\n",
    "    # training\n",
    "    model_norm.append(calculate_frobenius_norm(model))\n",
    "    model.train()\n",
    "    optimizer.zero_grad()\n",
    "    predictions = model(X)\n",
    "    loss = criterion(predictions, Y)\n",
    "    loss.backward()\n",
    "    optimizer.step()\n",
    "\n",
    "    train_loss.append(loss.data)\n",
    "    model.eval()\n",
    "    Y_test = model(X_test)\n",
    "    loss = criterion(Y_test, 2 * X_test)\n",
    "    test_loss.append(loss.data)\n",
    "\n",
    "    if epoch % 500 == 0 or epoch == max_epochs - 1:\n",
    "        running_predictions[:, iters] = Y_test[:, 0, 0].detach().numpy()\n",
    "        iters += 1\n"
   ]
  },
  {
   "attachments": {},
   "cell_type": "markdown",
   "metadata": {
    "id": "iAzaEKmZt9aR"
   },
   "source": [
    "Now that we have finished training, let's see how the model has evolved over the training process.\n"
   ]
  },
  {
   "cell_type": "code",
   "execution_count": 11,
   "metadata": {
    "colab": {
     "base_uri": "https://localhost:8080/",
     "height": 578
    },
    "id": "dJP-u-sDhUGz",
    "outputId": "e9a886c3-1daf-4f3b-fa5f-e2cbc4c7e7ef"
   },
   "outputs": [
    {
     "data": {
      "text/plain": [
       "<matplotlib.animation.FuncAnimation at 0x1487cd340>"
      ]
     },
     "execution_count": 11,
     "metadata": {},
     "output_type": "execute_result"
    },
    {
     "data": {
      "image/png": "[encoded data removed]",
      "text/plain": [
       "<Figure size 432x288 with 1 Axes>"
      ]
     },
     "metadata": {
      "needs_background": "light"
     },
     "output_type": "display_data"
    }
   ],
   "source": [
    "fig = plt.figure()\n",
    "ax = plt.axes()\n",
    "\n",
    "\n",
    "def frame(i):\n",
    "    ax.clear()\n",
    "    ax.scatter(X[:, 0, :].numpy(), Y[:, 0, :].numpy())\n",
    "    plot = ax.plot(X_test[:, 0, :].detach().numpy(), running_predictions[:, i])\n",
    "    title = \"Epoch: \" + str(i * 500)\n",
    "    plt.title(title)\n",
    "    ax.set_xlabel(\"X axis\")\n",
    "    ax.set_ylabel(\"Y axis\")\n",
    "    return plot\n",
    "\n",
    "\n",
    "anim = animation.FuncAnimation(\n",
    "    fig, frame, frames=range(20), blit=False, repeat=False, repeat_delay=10000\n",
    ")\n",
    "anim\n"
   ]
  },
  {
   "cell_type": "code",
   "execution_count": 12,
   "metadata": {
    "cellView": "form",
    "colab": {
     "base_uri": "https://localhost:8080/",
     "height": 476
    },
    "id": "xQhwOF0iqsYh",
    "outputId": "38eed37d-5b98-447c-b406-077d3c2a3fe8"
   },
   "outputs": [
    {
     "data": {
      "image/png": "[encoded data removed]",
      "text/plain": [
       "<Figure size 432x288 with 1 Axes>"
      ]
     },
     "metadata": {
      "needs_background": "light"
     },
     "output_type": "display_data"
    }
   ],
   "source": [
    "# @title Plot the train and test losses [Note: You may have to run this twice]\n",
    "plt.plot(train_loss, label=\"train_loss\")\n",
    "plt.plot(test_loss, label=\"test_loss\")\n",
    "plt.ylabel(\"loss\")\n",
    "plt.xlabel(\"epochs\")\n",
    "plt.title(\"loss vs epoch\")\n",
    "plt.legend()\n",
    "plt.show()\n"
   ]
  },
  {
   "attachments": {},
   "cell_type": "markdown",
   "metadata": {
    "id": "C43NJVU9eKpx"
   },
   "source": [
    "Now let's vizualize the frobenious norm of the model as we trained and you should see that the value of weights increased lineraly w.r.t epochs\n"
   ]
  },
  {
   "cell_type": "code",
   "execution_count": 13,
   "metadata": {
    "cellView": "form",
    "colab": {
     "base_uri": "https://localhost:8080/",
     "height": 476
    },
    "id": "JwiOImKSzLOC",
    "outputId": "799c805e-13db-444a-bcd6-527eaa2474ea"
   },
   "outputs": [
    {
     "data": {
      "image/png": "[encoded data removed]",
      "text/plain": [
       "<Figure size 432x288 with 1 Axes>"
      ]
     },
     "metadata": {
      "needs_background": "light"
     },
     "output_type": "display_data"
    }
   ],
   "source": [
    "# @title Frobenious norm of the model\n",
    "model_norm = [n.detach() if isinstance(n, torch.Tensor) else n for n in model_norm]\n",
    "plt.plot(model_norm)\n",
    "plt.ylabel(\"norm of the model\")\n",
    "plt.xlabel(\"epochs\")\n",
    "plt.title(\"Size of the model vs Epochs\")\n",
    "plt.show()\n"
   ]
  },
  {
   "attachments": {},
   "cell_type": "markdown",
   "metadata": {
    "id": "GfVSopl21FQS"
   },
   "source": [
    "**Quiz Question 1:** What trend do you see w.r.t to train and test losses(where do you see the minimum of the losses)? What does it tell about the model we trained?\n"
   ]
  },
  {
   "cell_type": "code",
   "execution_count": 14,
   "metadata": {
    "cellView": "form",
    "id": "kNulBEvV0_Ll"
   },
   "outputs": [],
   "source": [
    "trend = \"\"  # @param {type:\"string\"}\n"
   ]
  },
  {
   "attachments": {},
   "cell_type": "markdown",
   "metadata": {
    "id": "Rb_o51L8dw6w"
   },
   "source": [
    "### Overfitting on Test Dataset\n",
    "\n",
    "In principle, we should not touch our test set until after we have chosen all our hyperparameters. Where we were to use the test data in the model selection process, there is a risk that we might overfit the test data. Then we would be in serious trouble. If we overfit our training data, there is always the evaluation on test data to keep us honest. But if we overfit the test data, how would we ever know?\n",
    "\n",
    "Note that there is another kind of overfitting: you do \"honest\" fitting on one set of images or posts, or medical records, but it may not generalize to other sets of images, posts or medical records.\n"
   ]
  },
  {
   "attachments": {},
   "cell_type": "markdown",
   "metadata": {
    "id": "E_Y9eHGXe5-D"
   },
   "source": [
    "### Validation Dataset\n",
    "\n",
    "A common practice to address this problem is to split our data three ways, using a validation dataset (or validation set) to tune the hyperparameters.\n",
    "\n",
    "Ideally we would only touch the test data once, to assess the very best model or to compare a small number of models to each other, real-world test data is seldom discarded after just one use.\n"
   ]
  },
  {
   "attachments": {},
   "cell_type": "markdown",
   "metadata": {
    "id": "dSfURqxBwq97"
   },
   "source": [
    "**Quiz Question 2:** Given that a NN fit/memorized the training data perfectly, do you think it generalizes well? What makes you think it does or doesn't?\n"
   ]
  },
  {
   "cell_type": "code",
   "execution_count": 15,
   "metadata": {
    "cellView": "form",
    "id": "JOBzD7_cxPDO"
   },
   "outputs": [],
   "source": [
    "memorize_or_generalize = '' #@param {type:\"string\"}"
   ]
  },
  {
   "attachments": {},
   "cell_type": "markdown",
   "metadata": {
    "id": "lMLQYrOBII5a"
   },
   "source": [
    "## Section 3: Early Stopping\n"
   ]
  },
  {
   "cell_type": "code",
   "execution_count": 16,
   "metadata": {
    "cellView": "form",
    "colab": {
     "base_uri": "https://localhost:8080/",
     "height": 538
    },
    "id": "KoY7sfDBojrs",
    "outputId": "eda94d27-6ce8-43c3-fc94-029eef806a28"
   },
   "outputs": [
    {
     "name": "stdout",
     "output_type": "stream",
     "text": [
      "Video available at https://youtube.com/watch?v=GA6J-50GCWs\n"
     ]
    },
    {
     "data": {
      "image/jpeg": "[encoded data removed]",
      "text/html": [
       "\n",
       "        <iframe\n",
       "            width=\"854\"\n",
       "            height=\"480\"\n",
       "            src=\"https://www.youtube.com/embed/GA6J-50GCWs?fs=1\"\n",
       "            frameborder=\"0\"\n",
       "            allowfullscreen\n",
       "            \n",
       "        ></iframe>\n",
       "        "
      ],
      "text/plain": [
       "<IPython.lib.display.YouTubeVideo at 0x148496370>"
      ]
     },
     "execution_count": 16,
     "metadata": {},
     "output_type": "execute_result"
    }
   ],
   "source": [
    "#@title Video : Early Stopping\n",
    "try: t4;\n",
    "except NameError: t4=time.time()\n",
    "\n",
    "from IPython.display import YouTubeVideo\n",
    "video = YouTubeVideo(id=\"GA6J-50GCWs\", width=854, height=480, fs=1)\n",
    "print(\"Video available at https://youtube.com/watch?v=\" + video.id)\n",
    "\n",
    "video"
   ]
  },
  {
   "cell_type": "markdown",
   "metadata": {
    "id": "nV3jPkkgW7fN"
   },
   "source": [
    "\n",
    "Now that we have established that the validation accuracy reaches the peak well before the model overfits we want to stop the training early. You should have also observed from the above plots that the train/test loss on real data is not very smooth and hence you might guess that the choice of epoch can play a significant role with respect to the val/test accuracy of your model. \n",
    "\n",
    "Early stopping is a way to end training when the validation accuracies do not increase over a certain number of epochs. Though this makes sure that we don't overfit on the train data **it doesn't solve the problem of local variance, i.e. that the accuracy can be very volatile between epochs**. To overcome this, we also save the best model based on the val loss/accuracy for use on test dataset.\n",
    "\n",
    "![Overfitting](https://images.deepai.org/glossary-terms/early-stopping-machine-learning-5422207.jpg)"
   ]
  },
  {
   "cell_type": "markdown",
   "metadata": {
    "id": "C3vFW5Af78sf"
   },
   "source": [
    "**Quiz Question 3:** Do you think Early stopping can be harmful for the training of your network?"
   ]
  },
  {
   "cell_type": "code",
   "execution_count": 17,
   "metadata": {
    "cellView": "form",
    "id": "uNEqK7PJ76HN"
   },
   "outputs": [],
   "source": [
    "early_stopping = \"\"  # @param {type:\"string\"}\n"
   ]
  },
  {
   "attachments": {},
   "cell_type": "markdown",
   "metadata": {
    "id": "FifeU3xZ2h0k"
   },
   "source": [
    "## Section 4: Dropout\n"
   ]
  },
  {
   "cell_type": "code",
   "execution_count": 18,
   "metadata": {
    "cellView": "form",
    "id": "NCn6Gc9q38gv"
   },
   "outputs": [
    {
     "name": "stdout",
     "output_type": "stream",
     "text": [
      "Video available at https://youtube.com/watch?v=a4nX4T-3xsc\n"
     ]
    },
    {
     "data": {
      "image/jpeg": "[encoded data removed]",
      "text/html": [
       "\n",
       "        <iframe\n",
       "            width=\"854\"\n",
       "            height=\"480\"\n",
       "            src=\"https://www.youtube.com/embed/a4nX4T-3xsc?fs=1\"\n",
       "            frameborder=\"0\"\n",
       "            allowfullscreen\n",
       "            \n",
       "        ></iframe>\n",
       "        "
      ],
      "text/plain": [
       "<IPython.lib.display.YouTubeVideo at 0x1488b9790>"
      ]
     },
     "execution_count": 18,
     "metadata": {},
     "output_type": "execute_result"
    }
   ],
   "source": [
    "#@title Video : Dropout\n",
    "try: t6;\n",
    "except NameError: t6=time.time()\n",
    "\n",
    "from IPython.display import YouTubeVideo\n",
    "video = YouTubeVideo(id=\"a4nX4T-3xsc\", width=854, height=480, fs=1)\n",
    "print(\"Video available at https://youtube.com/watch?v=\" + video.id)\n",
    "\n",
    "video"
   ]
  },
  {
   "cell_type": "markdown",
   "metadata": {
    "id": "zgsj1q_r-0Xp"
   },
   "source": [
    "\n",
    "Dropout involves injecting noise while computing each internal layer during forward propagation. The method is called dropout because we literally drop out some neurons during training. Throughout training, on each iteration, standard dropout consists of zeroing out some fraction of the nodes in each layer before calculating the subsequent layer.\n",
    "\n",
    "![Dropout](https://d2l.ai/_images/dropout2.svg)\n"
   ]
  },
  {
   "cell_type": "markdown",
   "metadata": {
    "id": "d9irrZLt16eM"
   },
   "source": [
    "Now lets revisit the toy dataset that we generated above to visualize how the dropout stabilizes training on a noisy dataset"
   ]
  },
  {
   "cell_type": "code",
   "execution_count": 19,
   "metadata": {
    "id": "0k9J-Wjs28wz"
   },
   "outputs": [],
   "source": [
    "##Network Class - 2D\n",
    "class Net(nn.Module):\n",
    "    def __init__(self):\n",
    "        super(Net, self).__init__()\n",
    "\n",
    "        self.fc1 = nn.Linear(1, 300)\n",
    "        self.fc2 = nn.Linear(300, 500)\n",
    "        self.fc3 = nn.Linear(500, 1)\n",
    "        self.dropout1 = nn.Dropout(0.4)\n",
    "        self.dropout2 = nn.Dropout(0.2)\n",
    "\n",
    "    def forward(self, x):\n",
    "        x = F.leaky_relu(self.dropout1(self.fc1(x)))\n",
    "        x = F.leaky_relu(self.dropout2(self.fc2(x)))\n",
    "        output = self.fc3(x)\n",
    "        return output"
   ]
  },
  {
   "cell_type": "code",
   "execution_count": 20,
   "metadata": {
    "id": "VFAHGr5s5I_R"
   },
   "outputs": [
    {
     "name": "stderr",
     "output_type": "stream",
     "text": [
      "100%|██████████| 10000/10000 [00:36<00:00, 277.20it/s]\n"
     ]
    }
   ],
   "source": [
    "#train the network on toy dataset\n",
    "model = Net()\n",
    "criterion = nn.MSELoss()\n",
    "optimizer = optim.Adam(model.parameters(),lr = 1e-4)\n",
    "max_epochs = 10000\n",
    "iters = 0\n",
    "\n",
    "running_predictions_dp = np.empty((40,(int)(max_epochs/500)))\n",
    "\n",
    "train_loss_dp = []\n",
    "test_loss_dp = []\n",
    "model_norm_dp = []\n",
    "\n",
    "for epoch in tqdm(range(max_epochs)):\n",
    "\n",
    "    #training\n",
    "    model_norm_dp.append(calculate_frobenius_norm(model))\n",
    "    model.train()\n",
    "    optimizer.zero_grad()\n",
    "    predictions = model(X)\n",
    "    loss = criterion(predictions,Y)\n",
    "    loss.backward()\n",
    "    optimizer.step()\n",
    "\n",
    "    train_loss_dp.append(loss.data)\n",
    "    model.eval()\n",
    "    Y_test = model(X_test)\n",
    "    loss = criterion(Y_test,2*X_test)\n",
    "    test_loss_dp.append(loss.data)\n",
    "\n",
    "    if(epoch % 500 == 0 or epoch == max_epochs):\n",
    "        running_predictions_dp[:,iters] = Y_test[:,0,0].detach().numpy()\n",
    "        iters += 1"
   ]
  },
  {
   "cell_type": "markdown",
   "metadata": {
    "id": "Dw-rmoOoUOnA"
   },
   "source": [
    "Now that we have finished training, let's see how the model has evolved over the training process."
   ]
  },
  {
   "cell_type": "code",
   "execution_count": 21,
   "metadata": {
    "id": "16zDPWsr5PoP"
   },
   "outputs": [
    {
     "data": {
      "text/plain": [
       "<matplotlib.animation.FuncAnimation at 0x148b018b0>"
      ]
     },
     "execution_count": 21,
     "metadata": {},
     "output_type": "execute_result"
    },
    {
     "data": {
      "image/png": "[encoded data removed]",
      "text/plain": [
       "<Figure size 432x288 with 1 Axes>"
      ]
     },
     "metadata": {
      "needs_background": "light"
     },
     "output_type": "display_data"
    }
   ],
   "source": [
    "fig = plt.figure()\n",
    "ax = plt.axes()\n",
    "def frame(i):\n",
    "    ax.clear()\n",
    "    ax.scatter(X[:,0,:].numpy(),Y[:,0,:].numpy())\n",
    "    plot = ax.plot(X_test[:,0,:].detach().numpy(),running_predictions_dp[:,i])\n",
    "    title = \"Epoch: \" + str(i * 500)\n",
    "    plt.title(title)\n",
    "    ax.set_xlabel(\"X axis\")\n",
    "    ax.set_ylabel(\"Y axis\")\n",
    "    return plot\n",
    "anim = animation.FuncAnimation(fig, frame, frames=range(20), blit=False, repeat=False, repeat_delay=10000)\n",
    "anim"
   ]
  },
  {
   "cell_type": "code",
   "execution_count": 22,
   "metadata": {
    "cellView": "form",
    "id": "F7IfS-MR5X5O"
   },
   "outputs": [
    {
     "data": {
      "image/png": "[encoded data removed]",
      "text/plain": [
       "<Figure size 432x288 with 1 Axes>"
      ]
     },
     "metadata": {
      "needs_background": "light"
     },
     "output_type": "display_data"
    }
   ],
   "source": [
    "# @title Plot the train and test losses [You may have to run this twice]\n",
    "plt.plot(test_loss_dp, label=\"test_loss dropout\", c=\"blue\", ls=\"dashed\")\n",
    "plt.plot(test_loss, label=\"test_loss\", c=\"red\", ls=\"dashed\")\n",
    "plt.ylabel(\"loss\")\n",
    "plt.xlabel(\"epochs\")\n",
    "plt.title(\"loss vs epoch\")\n",
    "plt.legend()\n",
    "plt.show()\n"
   ]
  },
  {
   "cell_type": "code",
   "execution_count": 23,
   "metadata": {
    "cellView": "form",
    "id": "UsV9CU1z5Zjc"
   },
   "outputs": [
    {
     "data": {
      "image/png": "[encoded data removed]",
      "text/plain": [
       "<Figure size 432x288 with 1 Axes>"
      ]
     },
     "metadata": {
      "needs_background": "light"
     },
     "output_type": "display_data"
    }
   ],
   "source": [
    "#@title Plot model weights with epoch\n",
    "model_norm_dp = [n.detach() if isinstance(n, torch.Tensor) else n for n in model_norm_dp]\n",
    "plt.plot(model_norm_dp,label = 'dropout')\n",
    "plt.plot(model_norm,label = 'no dropout')\n",
    "plt.ylabel('norm of the model')\n",
    "plt.xlabel('epochs')\n",
    "plt.legend()\n",
    "plt.title('Size of the model vs Epochs')\n",
    "plt.show()"
   ]
  },
  {
   "attachments": {},
   "cell_type": "markdown",
   "metadata": {
    "id": "KBK9lE8P7WOd"
   },
   "source": [
    "### Dropout Implementation Caveats: "
   ]
  },
  {
   "cell_type": "markdown",
   "metadata": {
    "id": "BwVYGYd57lVm"
   },
   "source": [
    "\n",
    "*  Dropout is used only during training the model, during testing the complete model weights are used and hence it is important to use model.eval() before testing the model. \n",
    "\n",
    "* Dropout reduces the capacity of the model during training and hence as a general practice wider networks are used when using dropout. If you are using a dropout with a random probability of 0.5 then you might want to double the number of hidden neurons in that layer."
   ]
  },
  {
   "cell_type": "markdown",
   "metadata": {
    "id": "9BU0igCDpPwa"
   },
   "source": [
    "**Quiz Question 8:** Can you think of more ways of augmenting training data?"
   ]
  },
  {
   "cell_type": "code",
   "execution_count": null,
   "metadata": {
    "cellView": "form",
    "id": "UEtOQTCq1aPR"
   },
   "outputs": [],
   "source": [
    "data_augment = '' #@param {type:\"string\"}"
   ]
  },
  {
   "cell_type": "markdown",
   "metadata": {
    "id": "VtRxB698CTfG"
   },
   "source": [
    "---\n",
    "# Wrap up"
   ]
  },
  {
   "cell_type": "markdown",
   "metadata": {
    "id": "P5-HZSWcCbr3"
   },
   "source": [
    "## Submit responses"
   ]
  },
  {
   "cell_type": "code",
   "execution_count": null,
   "metadata": {
    "cellView": "form",
    "colab": {
     "base_uri": "https://localhost:8080/",
     "height": 441
    },
    "id": "FCJJf7OFk8SU",
    "outputId": "3200f35a-83ce-494b-b0cb-c277bb66981a"
   },
   "outputs": [
    {
     "data": {
      "text/html": [
       "\n",
       "        <iframe\n",
       "            width=\"800\"\n",
       "            height=\"400\"\n",
       "            src=\"https://airtable.com/embed/shrXrrMFkvePCRHoJ?prefill_pennkey=&prefill_my_pod=Select&prefill_email=&prefill_trend=&prefill_memorize_or_generalize=&prefill_early_stopping=&prefill_variation=&prefill_lambda_1=&prefill_lambda_2=&prefill_elastic_net=&prefill_data_augment=&prefill_cumulative_times=%5B-0.10097432136535645%5D\"\n",
       "            frameborder=\"0\"\n",
       "            allowfullscreen\n",
       "        ></iframe>\n",
       "        "
      ],
      "text/plain": [
       "<IPython.lib.display.IFrame at 0x7f3cf416e150>"
      ]
     },
     "metadata": {},
     "output_type": "display_data"
    }
   ],
   "source": [
    "# @markdown #Run Cell to Show Airtable Form\n",
    "# @markdown ##**Confirm your answers and then click \"Submit\"**\n",
    "\n",
    "import time\n",
    "import numpy as np\n",
    "import urllib.parse\n",
    "from IPython.display import IFrame\n",
    "\n",
    "\n",
    "def prefill_form(src, fields: dict):\n",
    "    \"\"\"\n",
    "    src: the original src url to embed the form\n",
    "    fields: a dictionary of field:value pairs,\n",
    "    e.g. {\"pennkey\": my_pennkey, \"location\": my_location}\n",
    "    \"\"\"\n",
    "    # prefills = \"&\".join([\"prefill_%s=%s\"%(key, fields[key]) for key in fields])\n",
    "    # src = src + prefills\n",
    "    # src = \"+\".join(src.split(\" \"))\n",
    "    # return src\n",
    "\n",
    "    prefill_fields = {}\n",
    "    for key in fields:\n",
    "        new_key = \"prefill_\" + key\n",
    "        prefill_fields[new_key] = fields[key]\n",
    "    prefills = urllib.parse.urlencode(prefill_fields)\n",
    "    src = src + prefills\n",
    "    return src\n",
    "\n",
    "\n",
    "# autofill time if it is not present\n",
    "try:\n",
    "    t0\n",
    "except NameError:\n",
    "    t0 = time.time()\n",
    "try:\n",
    "    t1\n",
    "except NameError:\n",
    "    t1 = time.time()\n",
    "\n",
    "# autofill fields if they are not present\n",
    "# a missing pennkey and pod will result in an Airtable warning\n",
    "# which is easily fixed user-side.\n",
    "try:\n",
    "    my_pennkey\n",
    "except NameError:\n",
    "    my_pennkey = \"\"\n",
    "try:\n",
    "    my_pod\n",
    "except NameError:\n",
    "    my_pod = \"Select\"\n",
    "try:\n",
    "    my_email\n",
    "except NameError:\n",
    "    my_email = \"\"\n",
    "\n",
    "try:\n",
    "    trend\n",
    "except NameError:\n",
    "    trend = \"\"\n",
    "try:\n",
    "    memorize_or_generalize\n",
    "except NameError:\n",
    "    memorize_or_generalize = \"\"\n",
    "try:\n",
    "    early_stopping\n",
    "except NameError:\n",
    "    early_stopping = \"\"\n",
    "\n",
    "\n",
    "variation = \"\"\n",
    "lambda_1 = \"\"\n",
    "lambda_2 = \"\"\n",
    "elastic_net = \"\"\n",
    "try:\n",
    "    data_augment\n",
    "except NameError:\n",
    "    data_augment = \"\"\n",
    "\n",
    "times = [(t - t0) for t in [t1]]\n",
    "\n",
    "fields = {\n",
    "    \"pennkey\": my_pennkey,\n",
    "    \"my_pod\": my_pod,\n",
    "    \"email\": my_email,\n",
    "    \"trend\": trend,\n",
    "    \"memorize_or_generalize\": memorize_or_generalize,\n",
    "    \"early_stopping\": early_stopping,\n",
    "    \"variation\": variation,\n",
    "    \"lambda_1\": lambda_1,\n",
    "    \"lambda_2\": lambda_2,\n",
    "    \"elastic_net\": elastic_net,\n",
    "    \"data_augment\": data_augment,\n",
    "    \"cumulative_times\": times,\n",
    "}\n",
    "\n",
    "src = \"https://airtable.com/embed/shrXrrMFkvePCRHoJ?\"\n",
    "\n",
    "# now instead of the original source url, we do: src = prefill_form(src, fields)\n",
    "display(IFrame(src=prefill_form(src, fields), width=800, height=400))\n"
   ]
  }
 ],
 "metadata": {
  "kernelspec": {
   "display_name": "ml520",
   "language": "python",
   "name": "python3"
  },
  "language_info": {
   "codemirror_mode": {
    "name": "ipython",
    "version": 3
   },
   "file_extension": ".py",
   "mimetype": "text/x-python",
   "name": "python",
   "nbconvert_exporter": "python",
   "pygments_lexer": "ipython3",
   "version": "3.9.7 (default, Nov 16 2021, 13:05:42) \n[Clang 13.0.0 (clang-1300.0.29.3)]"
  },
  "orig_nbformat": 4,
  "vscode": {
   "interpreter": {
    "hash": "9b81b370e9c0dc1906fe4c8135ff0ada4d70e528519389c4f900e14566b83adf"
   }
  }
 },
 "nbformat": 4,
 "nbformat_minor": 2
}
