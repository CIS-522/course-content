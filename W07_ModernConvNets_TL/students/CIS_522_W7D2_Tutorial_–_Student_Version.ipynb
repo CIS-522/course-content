{
  "cells": [
    {
      "cell_type": "markdown",
      "metadata": {
        "execution": {},
        "id": "K6FX7FN4Vv8L"
      },
      "source": [
        "# CIS-522 Week 7 Part 2\n",
        "# Facial recognition using modern convnets\n",
        "\n",
        "__Content creators:__ Laura Pede, Richard Vogg, Marissa Weis, Timo Lüddecke, Alexander Ecker, Ben Heil\n",
        "\n",
        "__Content reviewers:__ Arush Tagade, Polina Turishcheva, Yu-Fang Yang, Bettina Hein, Melvin Selim Atay, Kelson Shilling-Scrivo, Ann-Katrin Reuel, Felipe Parodi\n",
        "\n",
        "__Content editors:__ Roberto Guidotti, Spiros Chavlis\n",
        "\n",
        "__Production editors:__ Anoop Kulkarni, Roberto Guidotti, Cary Murray, Spiros Chavlis\n",
        "\n",
        "__Post-Production team:__ Gagana B, Spiros Chavlis\n",
        "\n"
      ]
    },
    {
      "cell_type": "code",
      "execution_count": null,
      "metadata": {
        "cellView": "form",
        "id": "tgM9rz0ZfUZk"
      },
      "outputs": [],
      "source": [
        "#@markdown What is your Pennkey and pod? (text, not numbers, e.g. bfranklin)\n",
        "my_pennkey = '' #@param {type:\"string\"}\n",
        "my_pod = \"Select\"  # @param [\"Factorial Ferrets\", \"Causal Crows\", \"Recursive Roosters\", \"Bayesian Bighorns\", \"Probabilistic Pronghorns\", \"Hashing Hares\", \"Multiplicative Mustangs\", \"Curiosity Capybaras\", \"Subspace Salamanders\"]\n",
        "my_email = '' #@param {type:\"string\"}\n",
        "tutorial = 'W7D2'\n",
        "\n",
        "# start timing\n",
        "import time\n",
        "try:t0;\n",
        "except NameError: t0 = time.time()"
      ]
    },
    {
      "cell_type": "markdown",
      "metadata": {
        "execution": {},
        "id": "pdAiqQMEVv8R"
      },
      "source": [
        "---\n",
        "# Tutorial Objectives\n",
        "\n",
        "In this tutorial you will learn about:\n",
        "\n",
        "1. An application of modern CNNs in facial recognition.\n",
        "2. Ethical aspects of facial recognition."
      ]
    },
    {
      "cell_type": "markdown",
      "metadata": {
        "execution": {},
        "id": "9V5SZ8YfVv8T"
      },
      "source": [
        "---\n",
        "# Setup"
      ]
    },
    {
      "cell_type": "code",
      "execution_count": null,
      "metadata": {
        "cellView": "form",
        "execution": {},
        "id": "xbVSbbjLVv8U"
      },
      "outputs": [],
      "source": [
        "# @title Install dependencies\n",
        "# @markdown Install `facenet` - A model used to do facial recognition\n",
        "!pip install facenet-pytorch --quiet\n",
        "!pip install Pillow --quiet"
      ]
    },
    {
      "cell_type": "code",
      "execution_count": null,
      "metadata": {
        "execution": {},
        "id": "jb0H9xj0Vv8V"
      },
      "outputs": [],
      "source": [
        "# Imports\n",
        "import glob\n",
        "import torch\n",
        "\n",
        "import numpy as np\n",
        "import sklearn.decomposition\n",
        "import matplotlib.pyplot as plt\n",
        "\n",
        "from PIL import Image\n",
        "\n",
        "from torchvision import transforms\n",
        "from torchvision.utils import make_grid\n",
        "from torchvision.datasets import ImageFolder\n",
        "\n",
        "from facenet_pytorch import MTCNN, InceptionResnetV1"
      ]
    },
    {
      "cell_type": "code",
      "execution_count": null,
      "metadata": {
        "cellView": "form",
        "execution": {},
        "id": "LBQ591t8Vv8V"
      },
      "outputs": [],
      "source": [
        "# @title Set random seed\n",
        "\n",
        "# @markdown Executing `set_seed(seed=seed)` you are setting the seed\n",
        "\n",
        "# For DL its critical to set the random seed so that students can have a\n",
        "# baseline to compare their results to expected results.\n",
        "# Read more here: https://pytorch.org/docs/stable/notes/randomness.html\n",
        "\n",
        "# Call `set_seed` function in the exercises to ensure reproducibility.\n",
        "import random\n",
        "import torch\n",
        "\n",
        "def set_seed(seed=None, seed_torch=True):\n",
        "  \"\"\"\n",
        "  Function that controls randomness. NumPy and random modules must be imported.\n",
        "\n",
        "  Args:\n",
        "    seed : Integer\n",
        "      A non-negative integer that defines the random state. Default is `None`.\n",
        "    seed_torch : Boolean\n",
        "      If `True` sets the random seed for pytorch tensors, so pytorch module\n",
        "      must be imported. Default is `True`.\n",
        "\n",
        "  Returns:\n",
        "    Nothing.\n",
        "  \"\"\"\n",
        "  if seed is None:\n",
        "    seed = np.random.choice(2 ** 32)\n",
        "  random.seed(seed)\n",
        "  np.random.seed(seed)\n",
        "  if seed_torch:\n",
        "    torch.manual_seed(seed)\n",
        "    torch.cuda.manual_seed_all(seed)\n",
        "    torch.cuda.manual_seed(seed)\n",
        "    torch.backends.cudnn.benchmark = False\n",
        "    torch.backends.cudnn.deterministic = True\n",
        "\n",
        "  print(f'Random seed {seed} has been set.')\n",
        "\n",
        "\n",
        "# In case that `DataLoader` is used\n",
        "def seed_worker(worker_id):\n",
        "  \"\"\"\n",
        "  DataLoader will reseed workers following randomness in\n",
        "  multi-process data loading algorithm.\n",
        "\n",
        "  Args:\n",
        "    worker_id: integer\n",
        "      ID of subprocess to seed. 0 means that\n",
        "      the data will be loaded in the main process\n",
        "      Refer: https://pytorch.org/docs/stable/data.html#data-loading-randomness for more details\n",
        "\n",
        "  Returns:\n",
        "    Nothing\n",
        "  \"\"\"\n",
        "  worker_seed = torch.initial_seed() % 2**32\n",
        "  np.random.seed(worker_seed)\n",
        "  random.seed(worker_seed)"
      ]
    },
    {
      "cell_type": "code",
      "execution_count": null,
      "metadata": {
        "cellView": "form",
        "execution": {},
        "id": "cjbSmswXVv8W"
      },
      "outputs": [],
      "source": [
        "# @title Set device (GPU or CPU). Execute `set_device()`\n",
        "# especially if torch modules used.\n",
        "\n",
        "# Inform the user if the notebook uses GPU or CPU.\n",
        "\n",
        "def set_device():\n",
        "  \"\"\"\n",
        "  Set the device. CUDA if available, CPU otherwise\n",
        "\n",
        "  Args:\n",
        "    None\n",
        "\n",
        "  Returns:\n",
        "    Nothing\n",
        "  \"\"\"\n",
        "  device = \"cuda\" if torch.cuda.is_available() else \"cpu\"\n",
        "  if device != \"cuda\":\n",
        "    print(\"WARNING: For this notebook to perform best, \"\n",
        "        \"if possible, in the menu under `Runtime` -> \"\n",
        "        \"`Change runtime type.`  select `GPU` \")\n",
        "  else:\n",
        "    print(\"GPU is enabled in this notebook.\")\n",
        "\n",
        "  return device"
      ]
    },
    {
      "cell_type": "code",
      "execution_count": null,
      "metadata": {
        "execution": {},
        "id": "s_dsz_PhVv8X"
      },
      "outputs": [],
      "source": [
        "SEED = 2021\n",
        "set_seed(seed=SEED)\n",
        "DEVICE = set_device()"
      ]
    },
    {
      "cell_type": "markdown",
      "metadata": {
        "execution": {},
        "id": "ckJ-EAWrVv8X"
      },
      "source": [
        "---\n",
        "# Section 1: Face Recognition\n",
        "\n"
      ]
    },
    {
      "cell_type": "markdown",
      "metadata": {
        "execution": {},
        "id": "0YVsy14gVv8Y"
      },
      "source": [
        "## Section 1.1: Download and prepare the data"
      ]
    },
    {
      "cell_type": "code",
      "execution_count": null,
      "metadata": {
        "cellView": "form",
        "execution": {},
        "id": "-ziJKXJRVv8Y"
      },
      "outputs": [],
      "source": [
        "# @title Download Faces Data\n",
        "import requests, zipfile, io, os\n",
        "\n",
        "# Original link: https://github.com/ben-heil/cis_522_data.git\n",
        "url = 'https://osf.io/2kyfb/download'\n",
        "\n",
        "fname = 'faces'\n",
        "\n",
        "if not os.path.exists(fname+'zip'):\n",
        "  print(\"Data is being downloaded...\")\n",
        "  r = requests.get(url, stream=True)\n",
        "  z = zipfile.ZipFile(io.BytesIO(r.content))\n",
        "  z.extractall()\n",
        "  print(\"The download has been completed.\")\n",
        "else:\n",
        "  print(\"Data has already been downloaded.\")"
      ]
    },
    {
      "cell_type": "code",
      "execution_count": null,
      "metadata": {
        "cellView": "form",
        "execution": {},
        "id": "4MTDcyFwVv8Z"
      },
      "outputs": [],
      "source": [
        "# @title Video 1: Face Recognition using CNNs\n",
        "from ipywidgets import widgets\n",
        "\n",
        "out2 = widgets.Output()\n",
        "with out2:\n",
        "  from IPython.display import IFrame\n",
        "  class BiliVideo(IFrame):\n",
        "    def __init__(self, id, page=1, width=400, height=300, **kwargs):\n",
        "      self.id=id\n",
        "      src = \"https://player.bilibili.com/player.html?bvid={0}&page={1}\".format(id, page)\n",
        "      super(BiliVideo, self).__init__(src, width, height, **kwargs)\n",
        "\n",
        "  video = BiliVideo(id=f\"BV17B4y1K7WV\", width=854, height=480, fs=1)\n",
        "  print(\"Video available at https://www.bilibili.com/video/{0}\".format(video.id))\n",
        "  display(video)\n",
        "\n",
        "out1 = widgets.Output()\n",
        "with out1:\n",
        "  from IPython.display import YouTubeVideo\n",
        "  video = YouTubeVideo(id=f\"jJqEv8hpRa4\", width=854, height=480, fs=1, rel=0)\n",
        "  print(\"Video available at https://youtube.com/watch?v=\" + video.id)\n",
        "  display(video)\n",
        "\n",
        "out = widgets.Tab([out1, out2])\n",
        "out.set_title(0, 'Youtube')\n",
        "out.set_title(1, 'Bilibili')\n",
        "\n",
        "display(out)"
      ]
    },
    {
      "cell_type": "markdown",
      "metadata": {
        "execution": {},
        "id": "X8ntsBMuVv8Z"
      },
      "source": [
        "One application of large CNNs is **facial recognition**. The problem formulation in facial recognition is a little different from the image classification we've seen so far. In facial recognition, we don't want to have a fixed number of individuals that the model can learn. If that were the case then to learn a new person it would be necessary to modify the output portion of the architecture and retrain to account for the new person.\n",
        "\n",
        "Instead, we train a model to learn an **embedding** where images from the same individual are close to each other in an embedded space, and images corresponding to different people are far apart. When the model is trained, it takes as input an image and outputs an embedding vector corresponding to the image. \n",
        "\n",
        "To achieve this, facial recognitions typically use a **triplet loss** that compares two images from the same individual (i.e., \"anchor\" and \"positive\" images) and a negative image from a different individual (i.e., \"negative\" image). The loss requires the distance between the anchor and negative points to be greater than a margin $\\alpha$ + the distance between the anchor and positive points."
      ]
    },
    {
      "cell_type": "markdown",
      "metadata": {
        "execution": {},
        "id": "dQXIc0DnVv8a"
      },
      "source": [
        "## Section 1.2: View and transform the data\n",
        "\n",
        "A well-trained facial recognition system should be able to map different images of the same individual relatively close together. We will load 15 images of three individuals (maybe you know them - then you can see that your brain is quite well in facial recognition).\n",
        "\n",
        "After viewing the images, we will transform them: MTCNN ([github repo](https://github.com/ipazc/mtcnn)) detects the face and crops the image around the face. Then we stack all the images together in a tensor."
      ]
    },
    {
      "cell_type": "code",
      "execution_count": null,
      "metadata": {
        "cellView": "form",
        "execution": {},
        "id": "GL3gXXyOVv8a"
      },
      "outputs": [],
      "source": [
        "# @title Display Images\n",
        "# @markdown Here are the source images of Bruce Lee, Neil Patrick Harris, and Pam Grier\n",
        "train_transform = transforms.Compose((transforms.Resize((256, 256)),\n",
        "                                      transforms.ToTensor()))\n",
        "\n",
        "face_dataset = ImageFolder('faces', transform=train_transform)\n",
        "\n",
        "image_count = len(face_dataset)\n",
        "\n",
        "face_loader = torch.utils.data.DataLoader(face_dataset,\n",
        "                                          batch_size=45,\n",
        "                                          shuffle=False)\n",
        "\n",
        "dataiter = iter(face_loader)\n",
        "images, labels = next(dataiter)\n",
        "\n",
        "# Show images\n",
        "plt.figure(figsize=(15, 15))\n",
        "plt.imshow(make_grid(images, nrow=15).permute(1, 2, 0))\n",
        "plt.axis('off')\n",
        "plt.show()"
      ]
    },
    {
      "cell_type": "code",
      "execution_count": null,
      "metadata": {
        "cellView": "form",
        "execution": {},
        "id": "DM-jnFqiVv8b"
      },
      "outputs": [],
      "source": [
        "# @title Image Preprocessing Function\n",
        "def process_images(image_dir: str, size=256):\n",
        "  \"\"\"\n",
        "  This function returns two tensors for the\n",
        "  given image dir: one usable for inputting into the\n",
        "  facenet model, and one that is [0,1] scaled for\n",
        "  visualizing\n",
        "\n",
        "  Parameters:\n",
        "    image_dir: string\n",
        "      The glob corresponding to images in a directory\n",
        "    size: int\n",
        "      Size [default: 256]\n",
        "\n",
        "  Returns:\n",
        "    model_tensor: torch.tensor\n",
        "      A image_count x channels x height x width\n",
        "      tensor scaled to between -1 and 1,\n",
        "      with the faces detected and cropped to the center\n",
        "      using mtcnn\n",
        "    display_tensor: torch.tensor\n",
        "      A transformed version of the model\n",
        "      tensor scaled to between 0 and 1\n",
        "  \"\"\"\n",
        "  mtcnn = MTCNN(image_size=size, margin=32)\n",
        "  images = []\n",
        "  for img_path in glob.glob(image_dir):\n",
        "    img = Image.open(img_path)\n",
        "    # Normalize and crop image\n",
        "    img_cropped = mtcnn(img)\n",
        "    images.append(img_cropped)\n",
        "\n",
        "  model_tensor = torch.stack(images)\n",
        "  display_tensor = model_tensor / (model_tensor.max() * 2)\n",
        "  display_tensor += .5\n",
        "\n",
        "  return model_tensor, display_tensor"
      ]
    },
    {
      "cell_type": "markdown",
      "metadata": {
        "execution": {},
        "id": "kyINpl7yVv8b"
      },
      "source": [
        "Now that we have our images loaded, we need to preprocess them. To make the images easier for the network to learn, we crop them to include just faces."
      ]
    },
    {
      "cell_type": "code",
      "execution_count": null,
      "metadata": {
        "execution": {},
        "id": "7rE8CzKeVv8c"
      },
      "outputs": [],
      "source": [
        "bruce_tensor, bruce_display = process_images('faces/bruce/*.jpg')\n",
        "neil_tensor, neil_display = process_images('faces/neil/*.jpg')\n",
        "pam_tensor, pam_display = process_images('faces/pam/*.jpg')\n",
        "\n",
        "tensor_to_display = torch.cat((bruce_display, neil_display, pam_display))\n",
        "\n",
        "plt.figure(figsize=(15, 15))\n",
        "plt.imshow(make_grid(tensor_to_display, nrow=15).permute(1, 2, 0))\n",
        "plt.axis('off')\n",
        "plt.show()"
      ]
    },
    {
      "cell_type": "markdown",
      "metadata": {
        "execution": {},
        "id": "8lNBeHw_Vv8c"
      },
      "source": [
        "## Section 1.3: Embedding with a pretrained network \n",
        "\n",
        "We load a pretrained facial recognition model called [FaceNet](https://github.com/timesler/facenet-pytorch). It was trained on the [VGGFace2](https://github.com/ox-vgg/vgg_face2) dataset which contains 3.31 million images of 9131 individuals.\n",
        "\n",
        "We use the pretrained model to calculate embeddings for all of our input images."
      ]
    },
    {
      "cell_type": "code",
      "execution_count": null,
      "metadata": {
        "execution": {},
        "id": "T4_UWGmAVv8d"
      },
      "outputs": [],
      "source": [
        "resnet = InceptionResnetV1(pretrained='vggface2').eval().to(DEVICE)"
      ]
    },
    {
      "cell_type": "code",
      "execution_count": null,
      "metadata": {
        "execution": {},
        "id": "Nqg08d3KVv8d"
      },
      "outputs": [],
      "source": [
        "# Calculate embedding\n",
        "resnet.classify = False\n",
        "bruce_embeddings = resnet(bruce_tensor.to(DEVICE))\n",
        "neil_embeddings = resnet(neil_tensor.to(DEVICE))\n",
        "pam_embeddings = resnet(pam_tensor.to(DEVICE))"
      ]
    },
    {
      "cell_type": "markdown",
      "metadata": {
        "execution": {},
        "id": "4Vfc2oMbVv8d"
      },
      "source": [
        "### Quiz Questions 1 - 4\n",
        "\n",
        "We want to understand what happens when the model receives an image and returns the corresponding embedding vector.\n",
        "\n",
        "1. What are the height, width and number of channels of one input image?\n",
        "2. What are the dimensions of one stack of images (e.g. bruce_tensor)?\n",
        "3. What are the dimensions of the corresponding embedding (e.g. bruce_embeddings)?\n",
        "4. What would be the dimensions of the embedding of one input image?"
      ]
    },
    {
      "cell_type": "code",
      "execution_count": null,
      "metadata": {
        "cellView": "form",
        "execution": {},
        "id": "69xO476iVv8e"
      },
      "outputs": [],
      "source": [
        "chan_shape = \"\" #@param {type:\"string\"}\n",
        "stack_dim = \"\" #@param {type:\"string\"}\n",
        "emb_dim = \"\" #@param {type:\"string\"}\n",
        "one_emb_dim = \"\" #@param {type:\"string\"}"
      ]
    },
    {
      "cell_type": "markdown",
      "metadata": {
        "execution": {},
        "id": "jQ-8LLRJVv8e"
      },
      "source": [
        "We cannot show 512-dimensional vectors visually, but using **Principal Component Analysis (PCA)** we can project the 512 dimensions onto a 2-dimensional space while preserving the maximum amount of data variation possible. This is just a visual aid for us to understand the concept. Note that if you would like to do any calculation, like distances between two images, this would be done with the whole 512-dimensional embedding vectors."
      ]
    },
    {
      "cell_type": "code",
      "execution_count": null,
      "metadata": {
        "execution": {},
        "id": "q5uMufqUVv8e"
      },
      "outputs": [],
      "source": [
        "embedding_tensor = torch.cat((bruce_embeddings,\n",
        "                              neil_embeddings,\n",
        "                              pam_embeddings)).to(device='cpu')\n",
        "\n",
        "pca = sklearn.decomposition.PCA(n_components=2)\n",
        "pca_tensor = pca.fit_transform(embedding_tensor.detach().cpu().numpy())"
      ]
    },
    {
      "cell_type": "code",
      "execution_count": null,
      "metadata": {
        "execution": {},
        "id": "ebf96Y53Vv8f"
      },
      "outputs": [],
      "source": [
        "num = 15\n",
        "categs = 3\n",
        "colors = ['blue', 'orange', 'magenta']\n",
        "labels = ['Bruce Lee', 'Neil Patrick Harris', 'Pam Grier']\n",
        "markers = ['o', 'x', 's']\n",
        "plt.figure(figsize=(8, 8))\n",
        "for i in range(categs):\n",
        "   plt.scatter(pca_tensor[i*num:(i+1)*num, 0],\n",
        "               pca_tensor[i*num:(i+1)*num, 1],\n",
        "               c=colors[i],\n",
        "               marker=markers[i], label=labels[i])\n",
        "plt.legend()\n",
        "plt.title('PCA Representation of the Image Embeddings')\n",
        "plt.xlabel('PC 1')\n",
        "plt.ylabel('PC 2')\n",
        "plt.show()"
      ]
    },
    {
      "cell_type": "markdown",
      "metadata": {
        "execution": {},
        "id": "nbo3qkgaVv8f"
      },
      "source": [
        "Great! The images corresponding to each individual are separated from each other in the embedding space!\n",
        "\n",
        "If Neil Patrick Harris wants to unlock his phone with facial recognition, the phone takes the image from the camera, calculates the embedding and checks if it is close to the registered embeddings corresponding to Neil Patrick Harris."
      ]
    },
    {
      "cell_type": "markdown",
      "metadata": {
        "execution": {},
        "id": "PrGImFllVv8f"
      },
      "source": [
        "---\n",
        "# Section 2: Ethics – bias/discrimination due to pre-training datasets\n",
        "\n"
      ]
    },
    {
      "cell_type": "markdown",
      "metadata": {
        "execution": {},
        "id": "d3Ftvg9CVv8g"
      },
      "source": [
        "Popular facial recognition datasets like VGGFace2 and CASIA-WebFace consist primarily of caucasian faces. \n",
        "As a result, even state of the art facial recognition models [substantially underperform](https://openaccess.thecvf.com/content_ICCV_2019/papers/Wang_Racial_Faces_in_the_Wild_Reducing_Racial_Bias_by_Information_ICCV_2019_paper.pdf) when attempting to recognize faces of other races.\n",
        "\n",
        "Given the implications that poor model performance can have in fields like security and criminal justice, it's very important to be aware of these limitations if you're going to be building facial recognition systems.\n",
        "\n",
        "In this example we will work with a small subset from the [UTKFace](https://susanqq.github.io/UTKFace/) dataset with 49 pictures of black women and 49 picture of white women. We will use the same pretrained model as in Section 8 of Tutorial 1, see and discuss the consequences of the model being trained on an imbalanced dataset."
      ]
    },
    {
      "cell_type": "code",
      "execution_count": null,
      "metadata": {
        "cellView": "form",
        "execution": {},
        "id": "MpMlg_wzVv8g"
      },
      "outputs": [],
      "source": [
        "# @title Video 2: Ethical aspects\n",
        "from ipywidgets import widgets\n",
        "\n",
        "out2 = widgets.Output()\n",
        "with out2:\n",
        "  from IPython.display import IFrame\n",
        "  class BiliVideo(IFrame):\n",
        "    def __init__(self, id, page=1, width=400, height=300, **kwargs):\n",
        "      self.id=id\n",
        "      src = \"https://player.bilibili.com/player.html?bvid={0}&page={1}\".format(id, page)\n",
        "      super(BiliVideo, self).__init__(src, width, height, **kwargs)\n",
        "\n",
        "  video = BiliVideo(id=f\"BV1Jo4y1Q7K3\", width=854, height=480, fs=1)\n",
        "  print(\"Video available at https://www.bilibili.com/video/{0}\".format(video.id))\n",
        "  display(video)\n",
        "\n",
        "out1 = widgets.Output()\n",
        "with out1:\n",
        "  from IPython.display import YouTubeVideo\n",
        "  video = YouTubeVideo(id=f\"vYilJV3PqUM\", width=854, height=480, fs=1, rel=0)\n",
        "  print(\"Video available at https://youtube.com/watch?v=\" + video.id)\n",
        "  display(video)\n",
        "\n",
        "out = widgets.Tab([out1, out2])\n",
        "out.set_title(0, 'Youtube')\n",
        "out.set_title(1, 'Bilibili')\n",
        "\n",
        "display(out)"
      ]
    },
    {
      "cell_type": "markdown",
      "metadata": {
        "execution": {},
        "id": "SJHlrXAbVv8h"
      },
      "source": [
        "## Section 2.1: Download the Data"
      ]
    },
    {
      "cell_type": "code",
      "execution_count": null,
      "metadata": {
        "cellView": "form",
        "execution": {},
        "id": "MqX26xJxVv8h"
      },
      "outputs": [],
      "source": [
        "# @title Run this cell to get the data\n",
        "\n",
        "# Original link: https://github.com/richardvogg/face_sample.git\n",
        "url = 'https://osf.io/36wyh/download'\n",
        "fname = 'face_sample2'\n",
        "\n",
        "if not os.path.exists(fname+'zip'):\n",
        "  print(\"Data is being downloaded...\")\n",
        "  r = requests.get(url, stream=True)\n",
        "  z = zipfile.ZipFile(io.BytesIO(r.content))\n",
        "  z.extractall()\n",
        "  print(\"The download has been completed.\")\n",
        "else:\n",
        "  print(\"Data has already been downloaded.\")"
      ]
    },
    {
      "cell_type": "markdown",
      "metadata": {
        "execution": {},
        "id": "_1_557s0Vv8j"
      },
      "source": [
        "## Section 2.2: Load, view and transform the data"
      ]
    },
    {
      "cell_type": "code",
      "execution_count": null,
      "metadata": {
        "execution": {},
        "id": "Zelr4sy1Vv8j"
      },
      "outputs": [],
      "source": [
        "black_female_tensor, black_female_display = process_images('face_sample2/??_1_1_*.jpg', size=150)\n",
        "white_female_tensor, white_female_display = process_images('face_sample2/??_1_0_*.jpg', size=150)"
      ]
    },
    {
      "cell_type": "markdown",
      "metadata": {
        "execution": {},
        "id": "oXAIlLkPVv8l"
      },
      "source": [
        "We can check the dimensions of these tensors and see that for each group we have images of size $150 \\times 150$ and three channels (RGB) of 49 individuals.\n",
        "\n",
        "**Note:** Originally, the size of images was $200 \\times 200$, but due to RAM resources, we have reduced it. You can change it back, i.e., `size=200`."
      ]
    },
    {
      "cell_type": "code",
      "execution_count": null,
      "metadata": {
        "execution": {},
        "id": "yqafUWwrVv8l"
      },
      "outputs": [],
      "source": [
        "print(white_female_tensor.shape)\n",
        "print(black_female_tensor.shape)"
      ]
    },
    {
      "cell_type": "code",
      "execution_count": null,
      "metadata": {
        "cellView": "form",
        "execution": {},
        "id": "ZHjLj5eEVv8m"
      },
      "outputs": [],
      "source": [
        "# @title Visualize some example faces\n",
        "tensor_to_display = torch.cat((white_female_display[:15],\n",
        "                               black_female_display[:15]))\n",
        "\n",
        "plt.figure(figsize=(12, 12))\n",
        "plt.imshow(make_grid(tensor_to_display, nrow = 15).permute(1, 2, 0))\n",
        "plt.axis('off')\n",
        "plt.show()"
      ]
    },
    {
      "cell_type": "markdown",
      "metadata": {
        "execution": {},
        "id": "BtvXRNTUVv8m"
      },
      "source": [
        "## Section 2.3: Calculate embeddings\n",
        "\n",
        "We use the same pretrained facial recognition network as in section 8 to calculate embeddings. If you have memory issues running this part, go to `Edit > Notebook settings` and check if GPU is selected as `Hardware accelerator`. If this does not help you can restart the notebook, go to `Runtime -> Restart runtime`."
      ]
    },
    {
      "cell_type": "code",
      "execution_count": null,
      "metadata": {
        "execution": {},
        "id": "zafd8_PzVv8m"
      },
      "outputs": [],
      "source": [
        "resnet.classify = False\n",
        "black_female_embeddings = resnet(black_female_tensor.to(DEVICE))\n",
        "white_female_embeddings = resnet(white_female_tensor.to(DEVICE))"
      ]
    },
    {
      "cell_type": "markdown",
      "metadata": {
        "execution": {},
        "id": "hC-8ZaxVVv8n"
      },
      "source": [
        "We will use the embeddings to show that the model was trained on an imbalanced dataset. For this, we are going to calculate a distance matrix of all combinations of images, like in this small example with $n=3$ (in our case $n=98$).\n",
        "\n",
        "<img height=500 src=https://raw.githubusercontent.com/richardvogg/face_sample/main/04_DistanceMatrix.png>\n",
        "\n",
        "Calculate the distance between each pair of image embeddings in our tensor and visualize all the distances. Remember that two embeddings are vectors and the distance between two vectors is the Euclidean distance."
      ]
    },
    {
      "cell_type": "code",
      "execution_count": null,
      "metadata": {
        "cellView": "form",
        "execution": {},
        "id": "xGqn1v_4Vv8n"
      },
      "outputs": [],
      "source": [
        "# @title Function to calculate pairwise distances\n",
        "\n",
        "# @markdown [`torch.cdist`](https://pytorch.org/docs/stable/generated/torch.cdist.html) is used\n",
        "\n",
        "def calculate_pairwise_distances(embedding_tensor):\n",
        "  \"\"\"\n",
        "  This function calculates the distance\n",
        "  between each pair of image embeddings\n",
        "  in a tensor using the `torch.cdist`.\n",
        "\n",
        "  Parameters:\n",
        "    embedding_tensor : torch.Tensor\n",
        "      A num_images x embedding_dimension tensor\n",
        "\n",
        "  Returns:\n",
        "    distances : torch.Tensor\n",
        "      A num_images x num_images tensor\n",
        "      containing the pairwise distances between\n",
        "      each to image embedding\n",
        "  \"\"\"\n",
        "\n",
        "  distances = torch.cdist(embedding_tensor, embedding_tensor)\n",
        "\n",
        "  return distances"
      ]
    },
    {
      "cell_type": "code",
      "execution_count": null,
      "metadata": {
        "cellView": "form",
        "execution": {},
        "id": "AjgnJu4qVv8o"
      },
      "outputs": [],
      "source": [
        "# @title Visualize the distances\n",
        "\n",
        "embedding_tensor = torch.cat((black_female_embeddings,\n",
        "                              white_female_embeddings)).to(device='cpu')\n",
        "\n",
        "distances = calculate_pairwise_distances(embedding_tensor)\n",
        "\n",
        "plt.figure(figsize=(8, 8))\n",
        "plt.imshow(distances.detach().cpu().numpy())\n",
        "plt.annotate('Black female', (2, -0.5), fontsize=20, va='bottom')\n",
        "plt.annotate('White female', (52, -0.5), fontsize=20, va='bottom')\n",
        "plt.annotate('Black female', (-0.5, 45), fontsize=20, rotation=90, ha='right')\n",
        "plt.annotate('White female', (-0.5, 90), fontsize=20, rotation=90, ha='right')\n",
        "cbar = plt.colorbar()\n",
        "cbar.set_label('Distance', fontsize=16)\n",
        "plt.axis('off')\n",
        "plt.show()"
      ]
    },
    {
      "cell_type": "markdown",
      "metadata": {
        "execution": {},
        "id": "MTU27LVaVv8p"
      },
      "source": [
        "## Quiz Question 5\n",
        "\n",
        "What do you observe? The faces of which group are more similar to each other for the Face Detection algorithm?"
      ]
    },
    {
      "cell_type": "code",
      "execution_count": null,
      "metadata": {
        "cellView": "form",
        "execution": {},
        "id": "xS9ePnS_Vv8p"
      },
      "outputs": [],
      "source": [
        "sim_observation = \"\" #@param {type:\"string\"}"
      ]
    },
    {
      "cell_type": "markdown",
      "metadata": {
        "execution": {},
        "id": "gaw0yNRtVv8q"
      },
      "source": [
        "Lastly, to show the importance of the dataset which you use to pretrain your model, look at how much space white men and women take in different embeddings. *FairFace* is a dataset which is specifically created with completely balanced classes. The blue dots in all visualizations are white male and white female."
      ]
    },
    {
      "cell_type": "markdown",
      "metadata": {
        "execution": {},
        "id": "exe2JHuOVv8q"
      },
      "source": [
        "<img src=https://i.imgur.com/hCdCBOa.png>\n",
        "\n",
        "Adopted from [Kärkkäinen and Joo, 2019, arXiv](https://arxiv.org/abs/1908.04913)"
      ]
    },
    {
      "cell_type": "markdown",
      "metadata": {
        "execution": {},
        "id": "tdPkky0mVv8q"
      },
      "source": [
        "---\n",
        "# Section 3: Within Sum of Squares\n",
        "\n"
      ]
    },
    {
      "cell_type": "markdown",
      "metadata": {
        "execution": {},
        "id": "YVbh-crqVv8r"
      },
      "source": [
        "We can try to put this observation in numbers. For this we work with the embeddings.\n",
        "We want to calculate the centroid of each group, which is the average of the 49 embeddings of the group. As each embedding vector has a dimension of 512, the centroid will also have this dimension.\n",
        "\n",
        "Now we can calculate how far away the observations $x$ of each group $S_i$ are from the centroid $\\mu_i$. This concept is known as Within Sum of Squares (WSS) from cluster analysis.\n",
        "\n",
        "\\begin{equation}\n",
        "\\text{WSS} = \\sum_{x\\in S_i} ||x - \\mu_i||^2\n",
        "\\end{equation}\n",
        "\n",
        "where $|| \\cdot ||$ is the Euclidean norm.\n",
        "\n",
        "The Within Sum of Squares (WSS) is a number which measures this variability of a group in the embedding space. If all embeddings of one group were very close to each other, the WSS would be very small. In our case we see that the WSS for the black females is much smaller than for the white females. This means that it is much harder for the model to distinguish two black females than to distinguish two white females. The WSS complements the observation from the distance matrix, where we observed overall smaller pairwise distances between black females."
      ]
    },
    {
      "cell_type": "code",
      "execution_count": null,
      "metadata": {
        "cellView": "form",
        "execution": {},
        "id": "4Nu1kmgFVv8r"
      },
      "outputs": [],
      "source": [
        "# @title Function to calculate WSS\n",
        "\n",
        "def wss(group):\n",
        "  \"\"\"\n",
        "  This function returns the sum of squared distances\n",
        "  of the N vectors of a\n",
        "  group tensor (N x K) to its centroid (1 x K).\n",
        "   Hints:\n",
        "    - to calculate the centroid, torch.mean()\n",
        "      will be of use.\n",
        "    - We need the mean of the N=49 observations.\n",
        "      If our input tensor is of size\n",
        "      N x K, we expect the centroid to be of\n",
        "      dimensions 1 x K.\n",
        "      Use the axis argument within torch.mean\n",
        "\n",
        "  Args:\n",
        "    group: torch.tensor\n",
        "      A image_count x embedding_size tensor\n",
        "\n",
        "  Returns:\n",
        "    sum_sq: torch.tensor\n",
        "      A 1x1 tensor with the sum of squared distances.\n",
        "    \"\"\"\n",
        "\n",
        "  centroid = torch.mean(group, axis=0)\n",
        "  distance = torch.linalg.norm(group - centroid.view(1, -1), axis=1)\n",
        "  sum_sq = torch.sum(distance**2)\n",
        "  return sum_sq"
      ]
    },
    {
      "cell_type": "code",
      "execution_count": null,
      "metadata": {
        "cellView": "form",
        "execution": {},
        "id": "i_wpMaGIVv8r"
      },
      "outputs": [],
      "source": [
        "# @markdown Let's calculate the WSS for the two groups of our example.\n",
        "\n",
        "print(f\"Black female embedding WSS: {np.round(wss(black_female_embeddings).item(), 2)}\")\n",
        "print(f\"White female embedding WSS: {np.round(wss(white_female_embeddings).item(), 2)}\")"
      ]
    },
    {
      "cell_type": "markdown",
      "metadata": {
        "id": "Tas3I7t6iDq4"
      },
      "source": [
        "------\n"
      ]
    },
    {
      "cell_type": "markdown",
      "metadata": {
        "execution": {},
        "id": "ai489YI_Vv8r"
      },
      "source": [
        "# Submit your responses\n",
        "Please run the following cell and then press \"Submit\" so we can record your responses.\n"
      ]
    },
    {
      "cell_type": "code",
      "execution_count": null,
      "metadata": {
        "cellView": "form",
        "id": "EzCdbnx4iK3Y"
      },
      "outputs": [],
      "source": [
        "import time\n",
        "import numpy as np\n",
        "from IPython.display import IFrame\n",
        "#@markdown #Run Cell to Show Airtable Form\n",
        "#@markdown Confirm your answers and then click \"Submit\". If you're having issues, please use this link and manually fill in your answers: https://airtable.com/shrCbVzIjF8BoTXaN\n",
        "\n",
        "def prefill_form(src, fields: dict):\n",
        "  '''\n",
        "  src: the original src url to embed the form\n",
        "  fields: a dictionary of field:value pairs,\n",
        "  e.g. {\"pennkey\": my_pennkey, \"location\": my_location}\n",
        "  '''\n",
        "  prefills = \"&\".join([\"prefill_%s=%s\"%(key, fields[key]) for key in fields])\n",
        "  src = src + prefills\n",
        "  src = \"+\".join(src.split(\" \"))\n",
        "  return src\n",
        "\n",
        "\n",
        "#autofill time if it is not present\n",
        "try: t0;\n",
        "except NameError: t0 = time.time()\n",
        "try: t1;\n",
        "except NameError: t1 = time.time()\n",
        "\n",
        "#autofill fields if they are not present\n",
        "#a missing pennkey and pod will result in an Airtable warning\n",
        "#which is easily fixed user-side.\n",
        "try: my_pennkey;\n",
        "except NameError: my_pennkey = \"\"\n",
        "\n",
        "try: my_pod;\n",
        "except NameError: my_pod = \"Select\"\n",
        "\n",
        "try: my_email;\n",
        "except NameError: my_email = \"\"\n",
        "\n",
        "try: chan_shape;\n",
        "except NameError: chan_shape = \"\"\n",
        "\n",
        "try: stack_dim;\n",
        "except NameError: stack_dim = \"\"\n",
        "\n",
        "try: emb_dim;\n",
        "except NameError: emb_dim = \"\"\n",
        "\n",
        "try: one_emb_dim;\n",
        "except NameError: one_emb_dim = \"\"\n",
        "\n",
        "try: sim_observation;\n",
        "except NameError: sim_observation = \"\"\n",
        "\n",
        "times = np.array([t1])-t0\n",
        "\n",
        "fields = {\"pennkey\": my_pennkey,\n",
        "          \"pod\": my_pod,\n",
        "          \"tutorial\": tutorial,\n",
        "          \"email\": my_email,\n",
        "          \"chan_shape\": chan_shape,\n",
        "          \"stack_dim\":stack_dim,\n",
        "          \"emb_dim\": emb_dim,\n",
        "          \"one_emb_dim\":one_emb_dim,\n",
        "          \"sim_observation\":sim_observation,\n",
        "          \"cumulative_times\": times}\n",
        "\n",
        "src = \"https://airtable.com/embed/shrCbVzIjF8BoTXaN?\"\n",
        "\n",
        "#now instead of the original source url, we do: src = prefill_form(src, fields)\n",
        "display(IFrame(src = prefill_form(src, fields), width = 800, height = 400))"
      ]
    },
    {
      "cell_type": "markdown",
      "metadata": {
        "id": "__jcJwutiPII"
      },
      "source": [
        "## Feedback\n",
        "How could this session have been better? How happy are you in your group? How do you feel right now?\n",
        "\n",
        "Feel free to use the embeded form below or use this link:\n",
        "<a target=\"_blank\" rel=\"noopener noreferrer\" href=\"https://airtable.com/shr1TzujOOOY21kFQ\">https://airtable.com/shr1TzujOOOY21kFQ</a>"
      ]
    },
    {
      "cell_type": "code",
      "execution_count": null,
      "metadata": {
        "cellView": "form",
        "id": "BT5ZiNlSiSQc"
      },
      "outputs": [],
      "source": [
        "# @title Feedback form\n",
        "display(IFrame(src=\"https://airtable.com/embed/shr1TzujOOOY21kFQ\", width = 800, height = 400))"
      ]
    }
  ],
  "metadata": {
    "accelerator": "GPU",
    "colab": {
      "collapsed_sections": [],
      "name": "CIS_522_W7D2_Tutorial_–_Student_Version.ipynb",
      "provenance": [],
      "toc_visible": true
    },
    "kernel": {
      "display_name": "Python 3",
      "language": "python",
      "name": "python3"
    },
    "kernelspec": {
      "display_name": "scripting",
      "language": "python",
      "name": "python3"
    },
    "language_info": {
      "codemirror_mode": {
        "name": "ipython",
        "version": 3
      },
      "file_extension": ".py",
      "mimetype": "text/x-python",
      "name": "python",
      "nbconvert_exporter": "python",
      "pygments_lexer": "ipython3",
      "version": "3.9.7"
    },
    "nteract": {
      "version": "0.28.0"
    },
    "vscode": {
      "interpreter": {
        "hash": "410f6db90cc89b666adbd1b755ae7555dd227a2d7c11822f3d377845b87672a4"
      }
    }
  },
  "nbformat": 4,
  "nbformat_minor": 0
}
