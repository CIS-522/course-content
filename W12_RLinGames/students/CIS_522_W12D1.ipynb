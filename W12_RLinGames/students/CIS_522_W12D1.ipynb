{
  "cells": [
    {
      "cell_type": "markdown",
      "metadata": {
        "execution": {},
        "id": "gUHpCckqQTE0"
      },
      "source": [
        "# Tutorial 1: Learn to play games with RL\n",
        "\n",
        "**By Neuromatch Academy**"
      ]
    },
    {
      "cell_type": "code",
      "execution_count": null,
      "metadata": {},
      "outputs": [],
      "source": [
        "!pip3 install -U torch tqdm ipywidgets datatops vibecheck"
      ]
    },
    {
      "cell_type": "code",
      "execution_count": null,
      "metadata": {
        "cellView": "form",
        "id": "G6_ro90RWLjB"
      },
      "outputs": [],
      "source": [
        "#@markdown What is your Pennkey and pod? (text, not numbers, e.g. bfranklin)\n",
        "my_pennkey = '' #@param {type:\"string\"}\n",
        "my_pod = '' #@param {type:\"string\"}\n",
        "my_email = '' #@param {type:\"string\"}\n",
        "tutorial = 'W12D1'"
      ]
    },
    {
      "cell_type": "code",
      "execution_count": null,
      "metadata": {},
      "outputs": [],
      "source": [
        "from vibecheck import DatatopsContentReviewContainer\n",
        "from datatops import Datatops\n",
        "\n",
        "feedback_dtid = \"62a48t3w\"\n",
        "feedback_name = \"cis522_feedback\"\n",
        "quiz_dtid = \"lxx8szk1\"\n",
        "quiz_name = \"cis522_quiz\"\n",
        "dt_url = \"https://pmyvdlilci.execute-api.us-east-1.amazonaws.com/klab/\"\n",
        "\n",
        "# Instantiate the Datatops client\n",
        "dt = Datatops(dt_url)\n",
        "quizdt = dt.get_project(quiz_name, user_key=quiz_dtid)\n"
      ]
    },
    {
      "cell_type": "markdown",
      "metadata": {
        "execution": {},
        "id": "VKbrgXkAQTE5"
      },
      "source": [
        "---\n",
        "# Tutorial Objectives\n",
        "\n",
        "In this tutorial, you will learn how to implement a game loop and improve the performance of a random player. \n",
        "\n",
        "The specific objectives for this tutorial:\n",
        "*   Understand the format of two-players games\n",
        "*   Learn about value network and policy network\n",
        "\n",
        "In the Bonus sections you will learn about Monte Carlo Tree Search (MCTS) and compare its performance to policy-based and value-based players."
      ]
    },
    {
      "cell_type": "markdown",
      "metadata": {
        "execution": {},
        "id": "CAS6d3ibQTE9"
      },
      "source": [
        "---\n",
        "# Setup"
      ]
    },
    {
      "cell_type": "code",
      "execution_count": null,
      "metadata": {
        "cellView": "form",
        "execution": {},
        "id": "NspAcjyIQTE-"
      },
      "outputs": [],
      "source": [
        "# @title Install dependencies\n",
        "!pip install coloredlogs --quiet\n",
        "\n",
        "!pip install git+https://github.com/NeuromatchAcademy/evaltools --quiet"
      ]
    },
    {
      "cell_type": "code",
      "execution_count": null,
      "metadata": {
        "execution": {},
        "id": "eEzPO2PxQTE-"
      },
      "outputs": [],
      "source": [
        "# Imports\n",
        "import os\n",
        "import math\n",
        "import time\n",
        "import torch\n",
        "import random\n",
        "import logging\n",
        "import coloredlogs\n",
        "\n",
        "import numpy as np\n",
        "\n",
        "import torch.nn as nn\n",
        "import torch.optim as optim\n",
        "import torch.nn.functional as F\n",
        "\n",
        "from tqdm.notebook import tqdm\n",
        "from pickle import Unpickler\n",
        "\n",
        "log = logging.getLogger(__name__)\n",
        "coloredlogs.install(level=\"INFO\")  # Change this to DEBUG to see more info.\n"
      ]
    },
    {
      "cell_type": "code",
      "execution_count": null,
      "metadata": {
        "cellView": "form",
        "execution": {},
        "id": "SZimR4SlQTE_"
      },
      "outputs": [],
      "source": [
        "# @title Set random seed\n",
        "\n",
        "# @markdown Executing `set_seed(seed=seed)` you are setting the seed\n",
        "\n",
        "# For DL its critical to set the random seed so that students can have a\n",
        "# baseline to compare their results to expected results.\n",
        "# Read more here: https://pytorch.org/docs/stable/notes/randomness.html\n",
        "\n",
        "# Call `set_seed` function in the exercises to ensure reproducibility.\n",
        "import random\n",
        "import torch\n",
        "\n",
        "\n",
        "def set_seed(seed=None, seed_torch=True):\n",
        "    \"\"\"\n",
        "    Function that controls randomness. NumPy and random modules must be imported.\n",
        "\n",
        "    Args:\n",
        "      seed : Integer\n",
        "        A non-negative integer that defines the random state. Default is `None`.\n",
        "      seed_torch : Boolean\n",
        "        If `True` sets the random seed for pytorch tensors, so pytorch module\n",
        "        must be imported. Default is `True`.\n",
        "\n",
        "    Returns:\n",
        "      Nothing.\n",
        "    \"\"\"\n",
        "    if seed is None:\n",
        "        seed = np.random.choice(2**32)\n",
        "    random.seed(seed)\n",
        "    np.random.seed(seed)\n",
        "    if seed_torch:\n",
        "        torch.manual_seed(seed)\n",
        "        torch.cuda.manual_seed_all(seed)\n",
        "        torch.cuda.manual_seed(seed)\n",
        "        torch.backends.cudnn.benchmark = False\n",
        "        torch.backends.cudnn.deterministic = True\n",
        "\n",
        "    print(f\"Random seed {seed} has been set.\")\n",
        "\n",
        "\n",
        "# In case that `DataLoader` is used\n",
        "def seed_worker(worker_id):\n",
        "    \"\"\"\n",
        "    DataLoader will reseed workers following randomness in\n",
        "    multi-process data loading algorithm.\n",
        "\n",
        "    Args:\n",
        "      worker_id: integer\n",
        "        ID of subprocess to seed. 0 means that\n",
        "        the data will be loaded in the main process\n",
        "        Refer: https://pytorch.org/docs/stable/data.html#data-loading-randomness for more details\n",
        "\n",
        "    Returns:\n",
        "      Nothing\n",
        "    \"\"\"\n",
        "    worker_seed = torch.initial_seed() % 2**32\n",
        "    np.random.seed(worker_seed)\n",
        "    random.seed(worker_seed)\n"
      ]
    },
    {
      "cell_type": "code",
      "execution_count": null,
      "metadata": {
        "cellView": "form",
        "execution": {},
        "id": "eaKWrUeWQTFA"
      },
      "outputs": [],
      "source": [
        "# @title Set device (GPU or CPU). Execute `set_device()`\n",
        "# especially if torch modules used.\n",
        "\n",
        "# Inform the user if the notebook uses GPU or CPU.\n",
        "\n",
        "\n",
        "def set_device():\n",
        "    \"\"\"\n",
        "    Set the device. CUDA if available, CPU otherwise\n",
        "\n",
        "    Args:\n",
        "      None\n",
        "\n",
        "    Returns:\n",
        "      Nothing\n",
        "    \"\"\"\n",
        "    device = \"cuda\" if torch.cuda.is_available() else \"cpu\"\n",
        "    if device != \"cuda\":\n",
        "        print(\n",
        "            \"WARNING: For this notebook to perform best, \"\n",
        "            \"if possible, in the menu under `Runtime` -> \"\n",
        "            \"`Change runtime type.`  select `GPU` \"\n",
        "        )\n",
        "    else:\n",
        "        print(\"GPU is enabled in this notebook.\")\n",
        "\n",
        "    return device\n"
      ]
    },
    {
      "cell_type": "code",
      "execution_count": null,
      "metadata": {
        "execution": {},
        "id": "obDVe8dHQTFC"
      },
      "outputs": [],
      "source": [
        "SEED = 2021\n",
        "set_seed(seed=SEED)\n",
        "DEVICE = set_device()"
      ]
    },
    {
      "cell_type": "code",
      "execution_count": null,
      "metadata": {
        "cellView": "form",
        "execution": {},
        "id": "W5yaO0K3QTFC"
      },
      "outputs": [],
      "source": [
        "# @title Download the modules\n",
        "\n",
        "# @markdown Run this cell!\n",
        "\n",
        "# Download from OSF. Original repo: https://github.com/raymondchua/nma_rl_games.git\n",
        "\n",
        "import os, io, sys, shutil, zipfile\n",
        "from urllib.request import urlopen\n",
        "\n",
        "# download from github repo directly\n",
        "#!git clone git://github.com/raymondchua/nma_rl_games.git --quiet\n",
        "REPO_PATH = \"nma_rl_games\"\n",
        "\n",
        "if os.path.exists(REPO_PATH):\n",
        "    download_string = \"Redownloading\"\n",
        "    shutil.rmtree(REPO_PATH)\n",
        "else:\n",
        "    download_string = \"Downloading\"\n",
        "\n",
        "zipurl = \"https://osf.io/kf4p9/download\"\n",
        "print(f\"{download_string} and unzipping the file... Please wait.\")\n",
        "with urlopen(zipurl) as zipresp:\n",
        "    with zipfile.ZipFile(io.BytesIO(zipresp.read())) as zfile:\n",
        "        zfile.extractall()\n",
        "print(\"Download completed.\")\n",
        "\n",
        "print(f\"Add the {REPO_PATH} in the path and import the modules.\")\n",
        "# add the repo in the path\n",
        "sys.path.append(\"nma_rl_games/alpha-zero\")\n",
        "\n",
        "# @markdown Import modules designed for use in this notebook\n",
        "import Arena\n",
        "\n",
        "from utils import *\n",
        "from Game import Game\n",
        "from MCTS import MCTS\n",
        "from NeuralNet import NeuralNet\n",
        "\n",
        "from othello.OthelloPlayers import *\n",
        "from othello.OthelloLogic import Board\n",
        "from othello.OthelloGame import OthelloGame\n",
        "from othello.pytorch.NNet import NNetWrapper as NNet\n"
      ]
    },
    {
      "cell_type": "markdown",
      "metadata": {
        "execution": {},
        "id": "0_ftNPe5QTFD"
      },
      "source": [
        "The hyperparameters used throughout the notebook."
      ]
    },
    {
      "cell_type": "code",
      "execution_count": null,
      "metadata": {
        "execution": {},
        "id": "oH6qvOYLQTFE"
      },
      "outputs": [],
      "source": [
        "args = dotdict(\n",
        "    {\n",
        "        \"numIters\": 1,  # In training, number of iterations = 1000 and num of episodes = 100\n",
        "        \"numEps\": 1,  # Number of complete self-play games to simulate during a new iteration.\n",
        "        \"tempThreshold\": 15,  # To control exploration and exploitation\n",
        "        \"updateThreshold\": 0.6,  # During arena playoff, new neural net will be accepted if threshold or more of games are won.\n",
        "        \"maxlenOfQueue\": 200,  # Number of game examples to train the neural networks.\n",
        "        \"numMCTSSims\": 15,  # Number of games moves for MCTS to simulate.\n",
        "        \"arenaCompare\": 10,  # Number of games to play during arena play to determine if new net will be accepted.\n",
        "        \"cpuct\": 1,\n",
        "        \"maxDepth\": 5,  # Maximum number of rollouts\n",
        "        \"numMCsims\": 5,  # Number of monte carlo simulations\n",
        "        \"mc_topk\": 3,  # Top k actions for monte carlo rollout\n",
        "        \"checkpoint\": \"./temp/\",\n",
        "        \"load_model\": False,\n",
        "        \"load_folder_file\": (\"/dev/models/8x100x50\", \"best.pth.tar\"),\n",
        "        \"numItersForTrainExamplesHistory\": 20,\n",
        "        # Define neural network arguments\n",
        "        \"lr\": 0.001,  # lr: Learning Rate\n",
        "        \"dropout\": 0.3,\n",
        "        \"epochs\": 10,\n",
        "        \"batch_size\": 64,\n",
        "        \"device\": DEVICE,\n",
        "        \"num_channels\": 512,\n",
        "    }\n",
        ")\n"
      ]
    },
    {
      "cell_type": "markdown",
      "metadata": {
        "execution": {},
        "id": "jyOGuqchQTFE"
      },
      "source": [
        "---\n",
        "# Section 0: Introduction"
      ]
    },
    {
      "cell_type": "code",
      "execution_count": null,
      "metadata": {
        "cellView": "form",
        "execution": {},
        "id": "uo89f4sAQTFF"
      },
      "outputs": [],
      "source": [
        "# @title Video 0: Introduction\n",
        "from ipywidgets import widgets\n",
        "\n",
        "out1 = widgets.Output()\n",
        "with out1:\n",
        "    from IPython.display import YouTubeVideo\n",
        "\n",
        "    video = YouTubeVideo(id=f\"710MdAhq4ZY\", width=854, height=480, fs=1, rel=0)\n",
        "    print(\"Video available at https://youtube.com/watch?v=\" + video.id)\n",
        "    display(video)\n",
        "\n",
        "out = widgets.Tab([out1])\n",
        "out.set_title(0, \"Youtube\")\n",
        "\n",
        "\n",
        "display(out)\n"
      ]
    },
    {
      "cell_type": "markdown",
      "metadata": {
        "id": "Ty4LyDLFjP2Y"
      },
      "source": [
        "**NOTE:** We have converted some of the original exercises to regular code blocks to lift the workload a bit this week. Some videos still reference these as exercises – just make sure you understand the code we provided, no need to actively code anything in these parts youself :) "
      ]
    },
    {
      "cell_type": "markdown",
      "metadata": {
        "execution": {},
        "id": "Nd0DYFY0QTFG"
      },
      "source": [
        "---\n",
        "# Section 1: Create a game/agent loop for RL"
      ]
    },
    {
      "cell_type": "code",
      "execution_count": null,
      "metadata": {
        "cellView": "form",
        "execution": {},
        "id": "3XQcSzkCQTFH"
      },
      "outputs": [],
      "source": [
        "# @title Video 1: A game loop for RL\n",
        "from ipywidgets import widgets\n",
        "\n",
        "out2 = widgets.Output()\n",
        "with out2:\n",
        "    from IPython.display import IFrame\n",
        "\n",
        "    class BiliVideo(IFrame):\n",
        "        def __init__(self, id, page=1, width=400, height=300, **kwargs):\n",
        "            self.id = id\n",
        "            src = \"https://player.bilibili.com/player.html?bvid={0}&page={1}\".format(\n",
        "                id, page\n",
        "            )\n",
        "            super(BiliVideo, self).__init__(src, width, height, **kwargs)\n",
        "\n",
        "    video = BiliVideo(id=f\"BV1Wy4y1V7bt\", width=854, height=480, fs=1)\n",
        "    print(\"Video available at https://www.bilibili.com/video/{0}\".format(video.id))\n",
        "    display(video)\n",
        "\n",
        "out1 = widgets.Output()\n",
        "with out1:\n",
        "    from IPython.display import YouTubeVideo\n",
        "\n",
        "    video = YouTubeVideo(id=f\"aH2Hs8f6KrQ\", width=854, height=480, fs=1, rel=0)\n",
        "    print(\"Video available at https://youtube.com/watch?v=\" + video.id)\n",
        "    display(video)\n",
        "\n",
        "out = widgets.Tab([out1, out2])\n",
        "out.set_title(0, \"Youtube\")\n",
        "out.set_title(1, \"Bilibili\")\n",
        "\n",
        "display(out)\n"
      ]
    },
    {
      "cell_type": "markdown",
      "metadata": {
        "execution": {},
        "id": "ZxmncGoiQTFI"
      },
      "source": [
        "### Introduction to OthelloGame\n",
        "\n",
        "**Game Components**: \n",
        "1. A square 8x8 board (you could use a chess board)\n",
        "2. 64 discs coloured black on one side and white on the opposite side.\n",
        "\n",
        "**Setup**:\n",
        "The board will start with 2 black discs and 2 white discs at the centre of the board. They are arranged with black forming a North-East to South-West direction. White is forming a North-West to South-East direction. The goal is to get the majority of colour discs on the board at the end of the game.\n",
        "\n",
        "**Strategy**:\n",
        "Two players ~ each player gets 32 discs and black always starts the game. Then the game alternates between white and black until:\n",
        "\n",
        "    - One player can not make a valid move to outflank the opponent.\n",
        "    - Both players have no valid moves.\n",
        "\n",
        "When a player has no valid moves, he pass his turn and the opponent continues.\n",
        "A player can not voluntarily forfeit his turn.\n",
        "When both players can not make a valid move the game ends.\n",
        "\n",
        "You can play Othello online: https://www.eothello.com/ if you like!"
      ]
    },
    {
      "cell_type": "markdown",
      "metadata": {
        "execution": {},
        "id": "zvXwclpRQTFJ"
      },
      "source": [
        "\n",
        "***Goal***: How to setup a game environment with multiple players for reinforcement learning experiments.\n",
        "\n",
        "***Steps***: \n",
        "\n",
        "*   Build an agent that plays random moves\n",
        "*   Connect with connect 4 game\n",
        "*   Generate games including wins and losses"
      ]
    },
    {
      "cell_type": "code",
      "execution_count": null,
      "metadata": {
        "execution": {},
        "id": "4V5kqK14QTFJ"
      },
      "outputs": [],
      "source": [
        "class OthelloGame(Game):\n",
        "    \"\"\"\n",
        "    Instantiate Othello Game\n",
        "    \"\"\"\n",
        "\n",
        "    square_content = {-1: \"X\", +0: \"-\", +1: \"O\"}\n",
        "\n",
        "    @staticmethod\n",
        "    def getSquarePiece(piece):\n",
        "        return OthelloGame.square_content[piece]\n",
        "\n",
        "    def __init__(self, n):\n",
        "        self.n = n\n",
        "\n",
        "    def getInitBoard(self):\n",
        "        # Return initial board (numpy board)\n",
        "        b = Board(self.n)\n",
        "        return np.array(b.pieces)\n",
        "\n",
        "    def getBoardSize(self):\n",
        "        # (a,b) tuple\n",
        "        return (self.n, self.n)\n",
        "\n",
        "    def getActionSize(self):\n",
        "        # Return number of actions, n is the board size and +1 is for no-op action\n",
        "        return self.n * self.n + 1\n",
        "\n",
        "    def getCanonicalForm(self, board, player):\n",
        "        # Return state if player==1, else return -state if player==-1\n",
        "        return player * board\n",
        "\n",
        "    def stringRepresentation(self, board):\n",
        "        return board.tobytes()\n",
        "\n",
        "    def stringRepresentationReadable(self, board):\n",
        "        board_s = \"\".join(\n",
        "            self.square_content[square] for row in board for square in row\n",
        "        )\n",
        "        return board_s\n",
        "\n",
        "    def getScore(self, board, player):\n",
        "        b = Board(self.n)\n",
        "        b.pieces = np.copy(board)\n",
        "        return b.countDiff(player)\n",
        "\n",
        "    @staticmethod\n",
        "    def display(board):\n",
        "        n = board.shape[0]\n",
        "        print(\"   \", end=\"\")\n",
        "        for y in range(n):\n",
        "            print(y, end=\" \")\n",
        "        print(\"\")\n",
        "        print(\"-----------------------\")\n",
        "        for y in range(n):\n",
        "            print(y, \"|\", end=\"\")  # Print the row\n",
        "            for x in range(n):\n",
        "                piece = board[y][x]  # Get the piece to print\n",
        "                print(OthelloGame.square_content[piece], end=\" \")\n",
        "            print(\"|\")\n",
        "        print(\"-----------------------\")\n",
        "\n",
        "    def getNextState(self, board, player, action):\n",
        "        \"\"\"\n",
        "        Helper function to make valid move\n",
        "        If player takes action on board, return next (board,player)\n",
        "        and action must be a valid move\n",
        "\n",
        "        Args:\n",
        "          board: np.ndarray\n",
        "            Board of size n x n [6x6 in this case]\n",
        "          player: Integer\n",
        "            ID of current player\n",
        "          action: np.ndarray\n",
        "            Space of actions\n",
        "\n",
        "        Returns:\n",
        "          (board,player) tuple signifying next state\n",
        "        \"\"\"\n",
        "        if action == self.n * self.n:\n",
        "            return (board, -player)\n",
        "        b = Board(self.n)\n",
        "        b.pieces = np.copy(board)\n",
        "        move = (int(action / self.n), action % self.n)\n",
        "        b.execute_move(move, player)\n",
        "        return (b.pieces, -player)\n",
        "\n",
        "    def getValidMoves(self, board, player):\n",
        "        \"\"\"\n",
        "        Helper function to make valid move\n",
        "        If player takes action on board, return next (board,player)\n",
        "        and action must be a valid move\n",
        "\n",
        "        Args:\n",
        "          board: np.ndarray\n",
        "            Board of size n x n [6x6 in this case]\n",
        "          player: Integer\n",
        "            ID of current player\n",
        "          action: np.ndarray\n",
        "            Space of action\n",
        "\n",
        "        Returns:\n",
        "          valids: np.ndarray\n",
        "            Returns a fixed size binary vector\n",
        "        \"\"\"\n",
        "        valids = [0] * self.getActionSize()\n",
        "        b = Board(self.n)\n",
        "        b.pieces = np.copy(board)\n",
        "        legalMoves = b.get_legal_moves(player)\n",
        "        if len(legalMoves) == 0:\n",
        "            valids[-1] = 1\n",
        "            return np.array(valids)\n",
        "        for x, y in legalMoves:\n",
        "            valids[self.n * x + y] = 1\n",
        "        return np.array(valids)\n",
        "\n",
        "    def getGameEnded(self, board, player):\n",
        "        \"\"\"\n",
        "        Helper function to signify if game has ended\n",
        "\n",
        "        Args:\n",
        "          board: np.ndarray\n",
        "            Board of size n x n [6x6 in this case]\n",
        "          player: Integer\n",
        "            ID of current player\n",
        "\n",
        "        Returns:\n",
        "          0 if not ended, 1 if player 1 won, -1 if player 1 lost\n",
        "        \"\"\"\n",
        "        b = Board(self.n)\n",
        "        b.pieces = np.copy(board)\n",
        "        if b.has_legal_moves(player):\n",
        "            return 0\n",
        "        if b.has_legal_moves(-player):\n",
        "            return 0\n",
        "        if b.countDiff(player) > 0:\n",
        "            return 1\n",
        "        return -1\n",
        "\n",
        "    def getSymmetries(self, board, pi):\n",
        "        \"\"\"\n",
        "        Get mirror/rotational configurations of board\n",
        "\n",
        "        Args:\n",
        "          board: np.ndarray\n",
        "            Board of size n x n [6x6 in this case]\n",
        "          pi: np.ndarray\n",
        "            Dimension of board\n",
        "\n",
        "        Returns:\n",
        "          l: list\n",
        "            90 degree of board, 90 degree of pi_board\n",
        "        \"\"\"\n",
        "        assert len(pi) == self.n**2 + 1  # 1 for pass\n",
        "        pi_board = np.reshape(pi[:-1], (self.n, self.n))\n",
        "        l = []\n",
        "\n",
        "        for i in range(1, 5):\n",
        "            for j in [True, False]:\n",
        "                newB = np.rot90(board, i)\n",
        "                newPi = np.rot90(pi_board, i)\n",
        "                if j:\n",
        "                    newB = np.fliplr(newB)\n",
        "                    newPi = np.fliplr(newPi)\n",
        "                l += [(newB, list(newPi.ravel()) + [pi[-1]])]\n",
        "        return l\n"
      ]
    },
    {
      "cell_type": "markdown",
      "metadata": {
        "execution": {},
        "id": "3y_u5gPvQTFK"
      },
      "source": [
        "## Section 1.1: Create a random player"
      ]
    },
    {
      "cell_type": "code",
      "execution_count": null,
      "metadata": {
        "id": "DAbkS9RWnmzZ"
      },
      "outputs": [],
      "source": [
        "class RandomPlayer:\n",
        "    # Simulates Random Player\n",
        "\n",
        "    def __init__(self, game):\n",
        "        self.game = game\n",
        "\n",
        "    def play(self, board):\n",
        "        \"\"\"Simulates game play\n",
        "        Args:\n",
        "         board: np.ndarray\n",
        "            Board of size n x n [6x6 in this case]\n",
        "        Returns:\n",
        "          a: int\n",
        "            Randomly chosen move\"\"\"\n",
        "\n",
        "        valids = self.game.getValidMoves(board, 1)\n",
        "        prob = valids / valids.sum()\n",
        "        a = np.random.choice(self.game.getActionSize(), p=prob)\n",
        "        return a\n"
      ]
    },
    {
      "cell_type": "markdown",
      "metadata": {
        "execution": {},
        "id": "P9-RuXIMQTFM"
      },
      "source": [
        "## Section 1.2. Initiate the game board\n"
      ]
    },
    {
      "cell_type": "code",
      "execution_count": null,
      "metadata": {
        "execution": {},
        "id": "0bqs56JhQTFN"
      },
      "outputs": [],
      "source": [
        "# Display the board\n",
        "set_seed(seed=SEED)\n",
        "game = OthelloGame(6)\n",
        "board = game.getInitBoard()\n",
        "game.display(board)\n"
      ]
    },
    {
      "cell_type": "code",
      "execution_count": null,
      "metadata": {
        "execution": {},
        "id": "lKiK-JzjQTFN"
      },
      "outputs": [],
      "source": [
        "# Observe the game board size\n",
        "print(f\"Board size = {game.getBoardSize()}\")\n",
        "\n",
        "# Observe the action size\n",
        "print(f\"Action size = {game.getActionSize()}\")\n"
      ]
    },
    {
      "cell_type": "markdown",
      "metadata": {
        "execution": {},
        "id": "sKvXnzxdQTFN"
      },
      "source": [
        "## Section 1.3. Create two random agents to play against each other"
      ]
    },
    {
      "cell_type": "code",
      "execution_count": null,
      "metadata": {
        "execution": {},
        "id": "TT_foLjxQTFO"
      },
      "outputs": [],
      "source": [
        "# Define the random player\n",
        "player1 = RandomPlayer(game).play  # Player 1 is a random player\n",
        "player2 = RandomPlayer(game).play  # Player 2 is a random player\n",
        "\n",
        "# Define number of games\n",
        "num_games = 20\n",
        "\n",
        "# Start the competition\n",
        "set_seed(seed=SEED)\n",
        "arena = Arena.Arena(\n",
        "    player1, player2, game, display=None\n",
        ")  # To see the steps of the competition set \"display=OthelloGame.display\"\n",
        "result = arena.playGames(\n",
        "    num_games, verbose=False\n",
        ")  # return  ( number of games won by player1, num of games won by player2, num of games won by nobody)\n",
        "print(f\"\\n\\n{result}\")\n"
      ]
    },
    {
      "cell_type": "markdown",
      "metadata": {
        "execution": {},
        "id": "lm18VFvFQTFO"
      },
      "source": [
        "## Section 1.4. Compute win rate for the random player (player 1)"
      ]
    },
    {
      "cell_type": "code",
      "execution_count": null,
      "metadata": {
        "execution": {},
        "id": "-YPEPO5JQTFP"
      },
      "outputs": [],
      "source": [
        "print(\n",
        "    f\"Number of games won by player1 = {result[0]}, \"\n",
        "    f\"Number of games won by player2 = {result[1]} out of {num_games} games\"\n",
        ")\n",
        "win_rate_player1 = result[0] / num_games\n",
        "print(f\"\\nWin rate for player1 over 20 games: {round(win_rate_player1*100, 1)}%\")\n"
      ]
    },
    {
      "cell_type": "code",
      "execution_count": null,
      "metadata": {},
      "outputs": [],
      "source": [
        "#@title .\n",
        "DatatopsContentReviewContainer(\n",
        "    \"\",\n",
        "    \"W12D1_RandomVsRandom\",\n",
        "    {\n",
        "        \"url\": dt_url,\n",
        "        \"name\": feedback_name,\n",
        "        \"user_key\": feedback_dtid,\n",
        "    }\n",
        ").render()"
      ]
    },
    {
      "cell_type": "markdown",
      "metadata": {
        "execution": {},
        "id": "N5wtzs-TQTFT"
      },
      "source": [
        "---\n",
        "# Section 2: Train a value function from expert game data\n",
        "\n"
      ]
    },
    {
      "cell_type": "markdown",
      "metadata": {
        "execution": {},
        "id": "KX-34nghQTFU"
      },
      "source": [
        "**Goal:** Learn how to train a value function from a dataset of games played by an expert.\n",
        "\n",
        "**Exercise:** \n",
        "\n",
        "* Load a dataset of expert generated games.\n",
        "* Train a network to minimize MSE for win/loss predictions given board states sampled throughout the game. This will be done on a very small number of games. We will provide a network trained on a larger dataset."
      ]
    },
    {
      "cell_type": "code",
      "execution_count": null,
      "metadata": {
        "cellView": "form",
        "execution": {},
        "id": "tVm1__9nQTFV"
      },
      "outputs": [],
      "source": [
        "# @title Video 2: Train a value function\n",
        "from ipywidgets import widgets\n",
        "\n",
        "out2 = widgets.Output()\n",
        "with out2:\n",
        "    from IPython.display import IFrame\n",
        "\n",
        "    class BiliVideo(IFrame):\n",
        "        def __init__(self, id, page=1, width=400, height=300, **kwargs):\n",
        "            self.id = id\n",
        "            src = \"https://player.bilibili.com/player.html?bvid={0}&page={1}\".format(\n",
        "                id, page\n",
        "            )\n",
        "            super(BiliVideo, self).__init__(src, width, height, **kwargs)\n",
        "\n",
        "    video = BiliVideo(id=f\"BV1pg411j7f7\", width=854, height=480, fs=1)\n",
        "    print(\"Video available at https://www.bilibili.com/video/{0}\".format(video.id))\n",
        "    display(video)\n",
        "\n",
        "out1 = widgets.Output()\n",
        "with out1:\n",
        "    from IPython.display import YouTubeVideo\n",
        "\n",
        "    video = YouTubeVideo(id=f\"f9lZq0WQJFg\", width=854, height=480, fs=1, rel=0)\n",
        "    print(\"Video available at https://youtube.com/watch?v=\" + video.id)\n",
        "    display(video)\n",
        "\n",
        "out = widgets.Tab([out1, out2])\n",
        "out.set_title(0, \"Youtube\")\n",
        "out.set_title(1, \"Bilibili\")\n",
        "\n",
        "display(out)\n"
      ]
    },
    {
      "cell_type": "markdown",
      "metadata": {
        "execution": {},
        "id": "hqivQVd3QTFW"
      },
      "source": [
        "## Section 2.1. Load expert data"
      ]
    },
    {
      "cell_type": "code",
      "execution_count": null,
      "metadata": {
        "execution": {},
        "id": "sM-zJnZCQTFW"
      },
      "outputs": [],
      "source": [
        "def loadTrainExamples(folder, filename):\n",
        "    \"\"\"\n",
        "    Helper function to load Training examples\n",
        "\n",
        "    Args:\n",
        "      folder: string\n",
        "        Path specifying training examples\n",
        "      filename: string\n",
        "        File name of training examples\n",
        "\n",
        "    Returns:\n",
        "      trainExamplesHistory: list\n",
        "        Returns examples based on the model were already collected (loaded)\n",
        "    \"\"\"\n",
        "    trainExamplesHistory = []\n",
        "    modelFile = os.path.join(folder, filename)\n",
        "    examplesFile = modelFile + \".examples\"\n",
        "    if not os.path.isfile(examplesFile):\n",
        "        print(f'File \"{examplesFile}\" with trainExamples not found!')\n",
        "        r = input(\"Continue? [y|n]\")\n",
        "        if r != \"y\":\n",
        "            sys.exit()\n",
        "    else:\n",
        "        print(\"File with train examples found. Loading it...\")\n",
        "        with open(examplesFile, \"rb\") as f:\n",
        "            trainExamplesHistory = Unpickler(f).load()\n",
        "        print(\"Loading done!\")\n",
        "        return trainExamplesHistory\n"
      ]
    },
    {
      "cell_type": "code",
      "execution_count": null,
      "metadata": {
        "execution": {},
        "id": "m5UPM3RzQTFX"
      },
      "outputs": [],
      "source": [
        "path = \"nma_rl_games/alpha-zero/pretrained_models/data/\"\n",
        "loaded_games = loadTrainExamples(folder=path, filename=\"checkpoint_1.pth.tar\")\n"
      ]
    },
    {
      "cell_type": "markdown",
      "metadata": {
        "execution": {},
        "id": "OrCM_buuQTFY"
      },
      "source": [
        "## Section 2.2. Define the Neural Network Architecture for Othello\n"
      ]
    },
    {
      "cell_type": "markdown",
      "metadata": {
        "execution": {},
        "id": "C3ZbYuCOQTFY"
      },
      "source": [
        "### Coding Exercise 2.2: Implement the NN `OthelloNNet` for Othello"
      ]
    },
    {
      "cell_type": "code",
      "execution_count": null,
      "metadata": {
        "execution": {},
        "id": "ht04aCwiQTFZ"
      },
      "outputs": [],
      "source": [
        "class OthelloNNet(nn.Module):\n",
        "    \"\"\"\n",
        "    Instantiate Othello Neural Net with the following configuration\n",
        "    nn.Conv2d(1, args.num_channels, 3, stride=1, padding=1) # Convolutional Layer 1\n",
        "    nn.Conv2d(args.num_channels, args.num_channels, 3, stride=1, padding=1) # Convolutional Layer 2\n",
        "    nn.Conv2d(args.num_channels, args.num_channels, 3, stride=1) # Convolutional Layer 3\n",
        "    nn.Conv2d(args.num_channels, args.num_channels, 3, stride=1) # Convolutional Layer 4\n",
        "    nn.BatchNorm2d(args.num_channels) X 4\n",
        "    nn.Linear(args.num_channels * (self.board_x - 4) * (self.board_y - 4), 1024) # Fully-connected Layer 1\n",
        "    nn.Linear(1024, 512) # Fully-connected Layer 2\n",
        "    nn.Linear(512, self.action_size) # Fully-connected Layer 3\n",
        "    nn.Linear(512, 1) # Fully-connected Layer 4\n",
        "    \"\"\"\n",
        "\n",
        "    def __init__(self, game, args):\n",
        "        \"\"\"\n",
        "        Initialise game parameters\n",
        "\n",
        "        Args:\n",
        "          game: OthelloGame instance\n",
        "            Instance of the OthelloGame class above;\n",
        "          args: dictionary\n",
        "            Instantiates number of iterations and episodes, controls temperature threshold, queue length,\n",
        "            arena, checkpointing, and neural network parameters:\n",
        "            learning-rate: 0.001, dropout: 0.3, epochs: 10, batch_size: 64,\n",
        "            num_channels: 512\n",
        "\n",
        "        Returns:\n",
        "          Nothing\n",
        "        \"\"\"\n",
        "        self.board_x, self.board_y = game.getBoardSize()\n",
        "        self.action_size = game.getActionSize()\n",
        "        self.args = args\n",
        "\n",
        "        super(OthelloNNet, self).__init__()\n",
        "        self.conv1 = nn.Conv2d(1, args.num_channels, 3, stride=1, padding=1)\n",
        "        self.conv2 = nn.Conv2d(\n",
        "            args.num_channels, args.num_channels, 3, stride=1, padding=1\n",
        "        )\n",
        "        self.conv3 = nn.Conv2d(args.num_channels, args.num_channels, 3, stride=1)\n",
        "        self.conv4 = nn.Conv2d(args.num_channels, args.num_channels, 3, stride=1)\n",
        "\n",
        "        self.bn1 = nn.BatchNorm2d(args.num_channels)\n",
        "        self.bn2 = nn.BatchNorm2d(args.num_channels)\n",
        "        self.bn3 = nn.BatchNorm2d(args.num_channels)\n",
        "        self.bn4 = nn.BatchNorm2d(args.num_channels)\n",
        "\n",
        "        self.fc1 = nn.Linear(\n",
        "            args.num_channels * (self.board_x - 4) * (self.board_y - 4), 1024\n",
        "        )\n",
        "        self.fc_bn1 = nn.BatchNorm1d(1024)\n",
        "\n",
        "        self.fc2 = nn.Linear(1024, 512)\n",
        "        self.fc_bn2 = nn.BatchNorm1d(512)\n",
        "\n",
        "        self.fc3 = nn.Linear(512, self.action_size)\n",
        "\n",
        "        self.fc4 = nn.Linear(512, 1)\n",
        "\n",
        "    def forward(self, s):\n",
        "        \"\"\"\n",
        "        Controls forward pass of OthelloNNet\n",
        "\n",
        "        Args:\n",
        "          s: np.ndarray\n",
        "            Array of size (batch_size x board_x x board_y)\n",
        "\n",
        "        Returns:\n",
        "          Probability distribution over actions at the current state and the value of the current state.\n",
        "        \"\"\"\n",
        "        s = s.view(\n",
        "            -1, 1, self.board_x, self.board_y\n",
        "        )  # batch_size x 1 x board_x x board_y\n",
        "        s = F.relu(\n",
        "            self.bn1(self.conv1(s))\n",
        "        )  # batch_size x num_channels x board_x x board_y\n",
        "        s = F.relu(\n",
        "            self.bn2(self.conv2(s))\n",
        "        )  # batch_size x num_channels x board_x x board_y\n",
        "        s = F.relu(\n",
        "            self.bn3(self.conv3(s))\n",
        "        )  # batch_size x num_channels x (board_x-2) x (board_y-2)\n",
        "        s = F.relu(\n",
        "            self.bn4(self.conv4(s))\n",
        "        )  # batch_size x num_channels x (board_x-4) x (board_y-4)\n",
        "        s = s.view(-1, self.args.num_channels * (self.board_x - 4) * (self.board_y - 4))\n",
        "\n",
        "        s = F.dropout(\n",
        "            F.relu(self.fc_bn1(self.fc1(s))),\n",
        "            p=self.args.dropout,\n",
        "            training=self.training,\n",
        "        )  # batch_size x 1024\n",
        "        s = F.dropout(\n",
        "            F.relu(self.fc_bn2(self.fc2(s))),\n",
        "            p=self.args.dropout,\n",
        "            training=self.training,\n",
        "        )  # batch_size x 512\n",
        "\n",
        "        pi = self.fc3(s)  # batch_size x action_size\n",
        "        v = self.fc4(s)  # batch_size x 1\n",
        "        #################################################\n",
        "        ## TODO for students: Please compute a probability distribution over 'pi' using log softmax (for numerical stability)\n",
        "        # Fill out function and remove\n",
        "        raise NotImplementedError(\n",
        "            \"Calculate the probability distribution and the value\"\n",
        "        )\n",
        "        #################################################\n",
        "        # Returns probability distribution over actions at the current state and the value of the current state.\n",
        "        return ..., ...\n"
      ]
    },
    {
      "cell_type": "markdown",
      "metadata": {
        "execution": {},
        "id": "6V5zT3VyQTFc"
      },
      "source": [
        "## Section 2.3. Define the Value network\n",
        " During training, the ground truth will be uploaded from the **MCTS simulations** available at `checkpoint_x.path.tar.examples`."
      ]
    },
    {
      "cell_type": "markdown",
      "metadata": {
        "execution": {},
        "id": "0MDjx_uzQTFc"
      },
      "source": [
        "### Coding Exercise 2.3: Implement the `ValueNetwork`"
      ]
    },
    {
      "cell_type": "code",
      "execution_count": null,
      "metadata": {
        "execution": {},
        "id": "GgrFc726QTFd"
      },
      "outputs": [],
      "source": [
        "class ValueNetwork(NeuralNet):\n",
        "    \"\"\"\n",
        "    Initiates the Value Network\n",
        "    \"\"\"\n",
        "\n",
        "    def __init__(self, game):\n",
        "        \"\"\"\n",
        "        Initialise network parameters\n",
        "\n",
        "        Args:\n",
        "          game: OthelloGame instance\n",
        "            Instance of the OthelloGame class above;\n",
        "\n",
        "        Returns:\n",
        "          Nothing\n",
        "        \"\"\"\n",
        "        self.nnet = OthelloNNet(game, args)\n",
        "        self.board_x, self.board_y = game.getBoardSize()\n",
        "        self.action_size = game.getActionSize()\n",
        "        self.nnet.to(args.device)\n",
        "\n",
        "    def train(self, games):\n",
        "        \"\"\"\n",
        "        Function to train value network\n",
        "\n",
        "        Args:\n",
        "          games: list\n",
        "            List of examples with each example is of form (board, pi, v)\n",
        "\n",
        "        Returns:\n",
        "          Nothing\n",
        "        \"\"\"\n",
        "        optimizer = optim.Adam(self.nnet.parameters())\n",
        "        for examples in games:\n",
        "            for epoch in range(args.epochs):\n",
        "                print(\"EPOCH ::: \" + str(epoch + 1))\n",
        "                self.nnet.train()\n",
        "                v_losses = []  # To store the losses per epoch\n",
        "                batch_count = int(\n",
        "                    len(examples) / args.batch_size\n",
        "                )  # len(examples)=200, batch-size=64, batch_count=3\n",
        "                t = tqdm(range(batch_count), desc=\"Training Value Network\")\n",
        "                for _ in t:\n",
        "                    sample_ids = np.random.randint(\n",
        "                        len(examples), size=args.batch_size\n",
        "                    )  # Read the ground truth information from MCTS simulation using the loaded examples\n",
        "                    boards, pis, vs = list(\n",
        "                        zip(*[examples[i] for i in sample_ids])\n",
        "                    )  # Length of boards, pis, vis = 64\n",
        "                    boards = torch.FloatTensor(np.array(boards).astype(np.float64))\n",
        "                    target_vs = torch.FloatTensor(np.array(vs).astype(np.float64))\n",
        "\n",
        "                    # Predict\n",
        "                    # To run on GPU if available\n",
        "                    boards, target_vs = boards.contiguous().to(\n",
        "                        args.device\n",
        "                    ), target_vs.contiguous().to(args.device)\n",
        "\n",
        "                    #################################################\n",
        "                    ## TODO for students:\n",
        "                    ## 1. Compute the value predicted by OthelloNNet() ##\n",
        "                    ## 2. First implement the loss_v() function below and then use it to update the value loss. ##\n",
        "                    # Fill out function and remove\n",
        "                    raise NotImplementedError(\"Compute the output\")\n",
        "                    #################################################\n",
        "                    # Compute output\n",
        "                    _, out_v = ...\n",
        "                    l_v = ...  # Total loss\n",
        "\n",
        "                    # Record loss\n",
        "                    v_losses.append(l_v.item())\n",
        "                    t.set_postfix(Loss_v=l_v.item())\n",
        "\n",
        "                    # Compute gradient and do SGD step\n",
        "                    optimizer.zero_grad()\n",
        "                    l_v.backward()\n",
        "                    optimizer.step()\n",
        "\n",
        "    def predict(self, board):\n",
        "        \"\"\"\n",
        "        Function to perform prediction\n",
        "\n",
        "        Args:\n",
        "          board: np.ndarray\n",
        "            Board of size n x n [6x6 in this case]\n",
        "\n",
        "        Returns:\n",
        "          v: OthelloNet instance\n",
        "            Data of the OthelloNet class instance above;\n",
        "        \"\"\"\n",
        "        # Timing\n",
        "        start = time.time()\n",
        "\n",
        "        # Preparing input\n",
        "        board = torch.FloatTensor(board.astype(np.float64))\n",
        "        board = board.contiguous().to(args.device)\n",
        "        board = board.view(1, self.board_x, self.board_y)\n",
        "        self.nnet.eval()\n",
        "        with torch.no_grad():\n",
        "            _, v = self.nnet(board)\n",
        "        return v.data.cpu().numpy()[0]\n",
        "\n",
        "    def loss_v(self, targets, outputs):\n",
        "        \"\"\"\n",
        "        Calculates Mean squared error\n",
        "\n",
        "        Args:\n",
        "          targets: np.ndarray\n",
        "            Ground Truth variables corresponding to input\n",
        "          outputs: np.ndarray\n",
        "            Predictions of Network\n",
        "\n",
        "        Returns:\n",
        "          MSE Loss calculated as: square of the difference between your model's predictions\n",
        "          and the ground truth and average across the whole dataset\n",
        "        \"\"\"\n",
        "        #################################################\n",
        "        ## TODO for students: Please compute Mean squared error and return as output. ##\n",
        "        # Fill out function and remove\n",
        "        raise NotImplementedError(\"Calculate the loss\")\n",
        "        #################################################\n",
        "        # Mean squared error (MSE)\n",
        "        return ...\n",
        "\n",
        "    def save_checkpoint(self, folder=\"checkpoint\", filename=\"checkpoint.pth.tar\"):\n",
        "        \"\"\"\n",
        "        Code Checkpointing\n",
        "\n",
        "        Args:\n",
        "          folder: string\n",
        "            Path specifying training examples\n",
        "          filename: string\n",
        "            File name of training examples\n",
        "\n",
        "        Returns:\n",
        "          Nothing\n",
        "        \"\"\"\n",
        "        filepath = os.path.join(folder, filename)\n",
        "        if not os.path.exists(folder):\n",
        "            print(\n",
        "                \"Checkpoint Directory does not exist! Making directory {}\".format(\n",
        "                    folder\n",
        "                )\n",
        "            )\n",
        "            os.mkdir(folder)\n",
        "        else:\n",
        "            print(\"Checkpoint Directory exists! \")\n",
        "        torch.save(\n",
        "            {\n",
        "                \"state_dict\": self.nnet.state_dict(),\n",
        "            },\n",
        "            filepath,\n",
        "        )\n",
        "        print(\"Model saved! \")\n",
        "\n",
        "    def load_checkpoint(self, folder=\"checkpoint\", filename=\"checkpoint.pth.tar\"):\n",
        "        \"\"\"\n",
        "        Load code checkpoint\n",
        "\n",
        "        Args:\n",
        "          folder: string\n",
        "            Path specifying training examples\n",
        "          filename: string\n",
        "            File name of training examples\n",
        "\n",
        "        Returns:\n",
        "          Nothing\n",
        "        \"\"\"\n",
        "        # https://github.com/pytorch/examples/blob/master/imagenet/main.py#L98\n",
        "        filepath = os.path.join(folder, filename)\n",
        "        if not os.path.exists(filepath):\n",
        "            raise (\"No model in path {}\".format(filepath))\n",
        "\n",
        "        checkpoint = torch.load(filepath, map_location=args.device)\n",
        "        self.nnet.load_state_dict(checkpoint[\"state_dict\"])\n"
      ]
    },
    {
      "cell_type": "markdown",
      "metadata": {
        "execution": {},
        "id": "8wGTtmROQTFe"
      },
      "source": [
        "## Section 2.4. Train the value network and observe the MSE loss progress\n",
        "\n",
        "**Important:** Run this cell ONLY if you do not have access to the pretrained models in the `rl_for_games` repository."
      ]
    },
    {
      "cell_type": "code",
      "execution_count": null,
      "metadata": {
        "execution": {},
        "id": "ftxkQCNqQTFf"
      },
      "outputs": [],
      "source": [
        "if not os.listdir(\"nma_rl_games/alpha-zero/pretrained_models/models/\"):\n",
        "    set_seed(seed=SEED)\n",
        "    game = OthelloGame(6)\n",
        "    vnet = ValueNetwork(game)\n",
        "    vnet.train(loaded_games)\n"
      ]
    },
    {
      "cell_type": "code",
      "execution_count": null,
      "metadata": {},
      "outputs": [],
      "source": [
        "#@title .\n",
        "DatatopsContentReviewContainer(\n",
        "    \"\",\n",
        "    \"W12D1_NeuralOthello\",\n",
        "    {\n",
        "        \"url\": dt_url,\n",
        "        \"name\": feedback_name,\n",
        "        \"user_key\": feedback_dtid,\n",
        "    }\n",
        ").render()"
      ]
    },
    {
      "cell_type": "markdown",
      "metadata": {
        "execution": {},
        "id": "HTMRq8B-QTFg"
      },
      "source": [
        "---\n",
        "# Section 3: Use a trained value network to play games\n"
      ]
    },
    {
      "cell_type": "markdown",
      "metadata": {
        "execution": {},
        "id": "ohxHKEA5QTFg"
      },
      "source": [
        "**Goal**: Learn how to use a value function in order to make a player that works better than a random player.\n",
        "\n",
        "**Exercise:**\n",
        "* Sample random valid moves and use the value function to rank them\n",
        "* Choose the best move as the action and play it\n",
        "Show that doing so beats the random player\n",
        "\n",
        "**Hint:** You might need to change the sign of the value based on the player."
      ]
    },
    {
      "cell_type": "code",
      "execution_count": null,
      "metadata": {
        "cellView": "form",
        "execution": {},
        "id": "_B2D4TsXQTFh"
      },
      "outputs": [],
      "source": [
        "# @title Video 3: Play games using a value function\n",
        "from ipywidgets import widgets\n",
        "\n",
        "out2 = widgets.Output()\n",
        "with out2:\n",
        "    from IPython.display import IFrame\n",
        "\n",
        "    class BiliVideo(IFrame):\n",
        "        def __init__(self, id, page=1, width=400, height=300, **kwargs):\n",
        "            self.id = id\n",
        "            src = \"https://player.bilibili.com/player.html?bvid={0}&page={1}\".format(\n",
        "                id, page\n",
        "            )\n",
        "            super(BiliVideo, self).__init__(src, width, height, **kwargs)\n",
        "\n",
        "    video = BiliVideo(id=f\"BV1Ug411j7ig\", width=854, height=480, fs=1)\n",
        "    print(\"Video available at https://www.bilibili.com/video/{0}\".format(video.id))\n",
        "    display(video)\n",
        "\n",
        "out1 = widgets.Output()\n",
        "with out1:\n",
        "    from IPython.display import YouTubeVideo\n",
        "\n",
        "    video = YouTubeVideo(id=f\"tvmzVHPBKKs\", width=854, height=480, fs=1, rel=0)\n",
        "    print(\"Video available at https://youtube.com/watch?v=\" + video.id)\n",
        "    display(video)\n",
        "\n",
        "out = widgets.Tab([out1, out2])\n",
        "out.set_title(0, \"Youtube\")\n",
        "out.set_title(1, \"Bilibili\")\n",
        "\n",
        "display(out)\n"
      ]
    },
    {
      "cell_type": "markdown",
      "metadata": {
        "execution": {},
        "id": "TNbXdCnJQTFh"
      },
      "source": [
        "## Coding Exercise 3: Value-based player"
      ]
    },
    {
      "cell_type": "code",
      "execution_count": null,
      "metadata": {
        "execution": {},
        "id": "YHZevdTAQTFh"
      },
      "outputs": [],
      "source": [
        "model_save_name = \"ValueNetwork.pth.tar\"\n",
        "path = \"nma_rl_games/alpha-zero/pretrained_models/models/\"\n",
        "set_seed(seed=SEED)\n",
        "game = OthelloGame(6)\n",
        "vnet = ValueNetwork(game)\n",
        "vnet.load_checkpoint(folder=path, filename=model_save_name)\n"
      ]
    },
    {
      "cell_type": "code",
      "execution_count": null,
      "metadata": {
        "execution": {},
        "id": "qYaxqZC9QTFi"
      },
      "outputs": [],
      "source": [
        "class ValueBasedPlayer:\n",
        "    \"\"\"\n",
        "    Simulate Value Based Player\n",
        "    \"\"\"\n",
        "\n",
        "    def __init__(self, game, vnet):\n",
        "        \"\"\"\n",
        "        Initialise value based player parameters\n",
        "\n",
        "        Args:\n",
        "          game: OthelloGame instance\n",
        "            Instance of the OthelloGame class above;\n",
        "          vnet: Value Network instance\n",
        "            Instance of the Value Network class above;\n",
        "\n",
        "        Returns:\n",
        "          Nothing\n",
        "        \"\"\"\n",
        "        self.game = game\n",
        "        self.vnet = vnet\n",
        "\n",
        "    def play(self, board):\n",
        "        \"\"\"\n",
        "        Simulate game play\n",
        "\n",
        "        Args:\n",
        "          board: np.ndarray\n",
        "            Board of size n x n [6x6 in this case]\n",
        "\n",
        "        Returns:\n",
        "          candidates: List\n",
        "            Collection of tuples describing action and values of future predicted states\n",
        "        \"\"\"\n",
        "        valids = self.game.getValidMoves(board, 1)\n",
        "        candidates = []\n",
        "        max_num_actions = 4\n",
        "        va = np.where(valids)[0]\n",
        "        va_list = va.tolist()\n",
        "        random.shuffle(va_list)\n",
        "        #################################################\n",
        "        ## TODO for students: In the first part, please return the next board state using getNextState(), then predict\n",
        "        ## the value of next state using value network, and finally add the value and action as a tuple to the candidate list.\n",
        "        ## Note that you need to reverse the sign of the value. In zero-sum games the players flip every turn. In detail, we train\n",
        "        ## a value function to think about the game from one player's (either black or white) perspective. In order to use the same\n",
        "        ## value function to estimate how good the position is for the other player, we need to take the negative of the output of\n",
        "        ## the function. E.g., if the value function is trained for white's perspective and says that white is likely to win the game\n",
        "        ## from the current state with an output of 0.75, this similarly means that it would suggest that black is very unlikely (-0.75)\n",
        "        ## to win the game from the current state.##\n",
        "        # Fill out function and remove\n",
        "        raise NotImplementedError(\"Implement the value-based player\")\n",
        "        #################################################\n",
        "        for a in va_list:\n",
        "            # Return next board state using getNextState() function\n",
        "            nextBoard, _ = ...\n",
        "            # Predict the value of next state using value network\n",
        "            value = ...\n",
        "            # Add the value and the action as a tuple to the candidate lists, note that you might need to change the sign of the value based on the player\n",
        "            candidates += ...\n",
        "\n",
        "            if len(candidates) == max_num_actions:\n",
        "                break\n",
        "\n",
        "        candidates.sort()\n",
        "\n",
        "        return candidates[0][1]\n",
        "\n",
        "\n",
        "# Playing games between a value-based player and a random player\n",
        "set_seed(seed=SEED)\n",
        "num_games = 20\n",
        "player1 = ValueBasedPlayer(game, vnet).play\n",
        "player2 = RandomPlayer(game).play\n",
        "arena = Arena.Arena(player1, player2, game, display=OthelloGame.display)\n",
        "## Uncomment the code below to check your code!\n",
        "# result = arena.playGames(num_games, verbose=False)\n",
        "# print(f\"\\n\\n{result}\")\n"
      ]
    },
    {
      "cell_type": "markdown",
      "metadata": {
        "execution": {},
        "id": "wmUTn6hrQTFi"
      },
      "source": [
        "**Result of pitting a value-based player against a random player**"
      ]
    },
    {
      "cell_type": "code",
      "execution_count": null,
      "metadata": {
        "execution": {},
        "id": "emrmuv28QTFi"
      },
      "outputs": [],
      "source": [
        "print(\n",
        "    f\"Number of games won by player1 = {result[0]}, \"\n",
        "    f\"Number of games won by player2 = {result[1]}, out of {num_games} games\"\n",
        ")\n",
        "win_rate_player1 = (\n",
        "    result[0] / num_games\n",
        ")  # result[0] is the number of times that player 1 wins\n",
        "print(\n",
        "    f\"\\nWin rate for player1 over {num_games} games: {round(win_rate_player1*100, 1)}%\"\n",
        ")\n"
      ]
    },
    {
      "cell_type": "code",
      "execution_count": null,
      "metadata": {},
      "outputs": [],
      "source": [
        "#@title .\n",
        "DatatopsContentReviewContainer(\n",
        "    \"\",\n",
        "    \"W12D1_ValuePlayer\",\n",
        "    {\n",
        "        \"url\": dt_url,\n",
        "        \"name\": feedback_name,\n",
        "        \"user_key\": feedback_dtid,\n",
        "    }\n",
        ").render()"
      ]
    },
    {
      "cell_type": "markdown",
      "metadata": {
        "execution": {},
        "id": "Z94dAd68QTFj"
      },
      "source": [
        "---\n",
        "# Section 4: Train a policy network from expert game data\n"
      ]
    },
    {
      "cell_type": "markdown",
      "metadata": {
        "execution": {},
        "id": "HZDGBKJeQTFj"
      },
      "source": [
        "**Goal**: How to train a policy network via supervised learning / behavioural cloning.\n",
        "\n",
        "**Steps**:\n",
        "* Train a network to predict the next move in an expert dataset by maximizing the log likelihood of the next action."
      ]
    },
    {
      "attachments": {},
      "cell_type": "markdown",
      "metadata": {},
      "source": [
        "## Quiz!\n",
        "\n",
        "Before you run the code, let's explore our intuitions. \n",
        "\n",
        "**We provide this model with experts' behavior, and the model uses this to learn how to play the game. If we instead trained the model on _deliberately bad_ moves, and then continued training on new (unsupervised) games as before, how would you expect the model to perform as #-epochs goes to infinity? Would the model perform poorly forever? Or would it eventually learn to play well? Explain your intuition in one or two sentences.**"
      ]
    },
    {
      "cell_type": "code",
      "execution_count": null,
      "metadata": {},
      "outputs": [],
      "source": [
        "eventual_othello_bad_training = \"\" #@param {type:\"string\"}"
      ]
    },
    {
      "cell_type": "code",
      "execution_count": null,
      "metadata": {
        "cellView": "form",
        "execution": {},
        "id": "ogmtBWiSQTFj"
      },
      "outputs": [],
      "source": [
        "# @title Video 4: Train a policy network\n",
        "from ipywidgets import widgets\n",
        "\n",
        "out2 = widgets.Output()\n",
        "with out2:\n",
        "    from IPython.display import IFrame\n",
        "\n",
        "    class BiliVideo(IFrame):\n",
        "        def __init__(self, id, page=1, width=400, height=300, **kwargs):\n",
        "            self.id = id\n",
        "            src = \"https://player.bilibili.com/player.html?bvid={0}&page={1}\".format(\n",
        "                id, page\n",
        "            )\n",
        "            super(BiliVideo, self).__init__(src, width, height, **kwargs)\n",
        "\n",
        "    video = BiliVideo(id=f\"BV1hQ4y127GJ\", width=854, height=480, fs=1)\n",
        "    print(\"Video available at https://www.bilibili.com/video/{0}\".format(video.id))\n",
        "    display(video)\n",
        "\n",
        "out1 = widgets.Output()\n",
        "with out1:\n",
        "    from IPython.display import YouTubeVideo\n",
        "\n",
        "    video = YouTubeVideo(id=f\"vj9gKNJ19D8\", width=854, height=480, fs=1, rel=0)\n",
        "    print(\"Video available at https://youtube.com/watch?v=\" + video.id)\n",
        "    display(video)\n",
        "\n",
        "out = widgets.Tab([out1, out2])\n",
        "out.set_title(0, \"Youtube\")\n",
        "out.set_title(1, \"Bilibili\")\n",
        "\n",
        "display(out)\n"
      ]
    },
    {
      "cell_type": "markdown",
      "metadata": {
        "execution": {},
        "id": "4fdPIsZFQTFj"
      },
      "source": [
        "## Section 4.1. Implement `PolicyNetwork`\n",
        "\n",
        "In this section, we'll implement the policy network."
      ]
    },
    {
      "cell_type": "code",
      "execution_count": null,
      "metadata": {
        "id": "JdOlxmDxXlLi"
      },
      "outputs": [],
      "source": [
        "class PolicyNetwork(NeuralNet):\n",
        "    \"\"\"\n",
        "    Initialise Policy Network\n",
        "    \"\"\"\n",
        "\n",
        "    def __init__(self, game):\n",
        "        \"\"\"\n",
        "        Initalise policy network paramaters\n",
        "\n",
        "        Args:\n",
        "          game: OthelloGame instance\n",
        "            Instance of the OthelloGame class above;\n",
        "\n",
        "        Returns:\n",
        "          Nothing\n",
        "        \"\"\"\n",
        "        self.nnet = OthelloNNet(game, args)\n",
        "        self.board_x, self.board_y = game.getBoardSize()\n",
        "        self.action_size = game.getActionSize()\n",
        "        self.nnet.to(args.device)\n",
        "\n",
        "    def train(self, games):\n",
        "        \"\"\"\n",
        "        Function for Policy Network Training\n",
        "\n",
        "        Args:\n",
        "          games: list\n",
        "            List of examples where each example is of form (board, pi, v)\n",
        "\n",
        "        Return:\n",
        "          Nothing\n",
        "        \"\"\"\n",
        "        optimizer = optim.Adam(self.nnet.parameters())\n",
        "\n",
        "        for examples in games:\n",
        "            for epoch in range(args.epochs):\n",
        "                print(\"EPOCH ::: \" + str(epoch + 1))\n",
        "                self.nnet.train()\n",
        "                pi_losses = []\n",
        "\n",
        "                batch_count = int(len(examples) / args.batch_size)\n",
        "\n",
        "                t = tqdm(range(batch_count), desc=\"Training Policy Network\")\n",
        "                for _ in t:\n",
        "                    sample_ids = np.random.randint(len(examples), size=args.batch_size)\n",
        "                    boards, pis, _ = list(zip(*[examples[i] for i in sample_ids]))\n",
        "                    boards = torch.FloatTensor(np.array(boards).astype(np.float64))\n",
        "                    target_pis = torch.FloatTensor(np.array(pis))\n",
        "\n",
        "                    # Predict\n",
        "                    boards, target_pis = boards.contiguous().to(\n",
        "                        args.device\n",
        "                    ), target_pis.contiguous().to(args.device)\n",
        "\n",
        "                    # Compute output\n",
        "                    out_pi, _ = self.nnet(boards)\n",
        "                    l_pi = self.loss_pi(target_pis, out_pi)\n",
        "\n",
        "                    # Record loss\n",
        "                    pi_losses.append(l_pi.item())\n",
        "                    t.set_postfix(Loss_pi=l_pi.item())\n",
        "\n",
        "                    # Compute gradient and do SGD step\n",
        "                    optimizer.zero_grad()\n",
        "                    l_pi.backward()\n",
        "                    optimizer.step()\n",
        "\n",
        "    def predict(self, board):\n",
        "        \"\"\"\n",
        "        Function to perform prediction\n",
        "\n",
        "        Args:\n",
        "          board: np.ndarray\n",
        "            Board of size n x n [6x6 in this case]\n",
        "\n",
        "        Returns:\n",
        "          Data from the OthelloNet class instance above;\n",
        "        \"\"\"\n",
        "        # Timing\n",
        "        start = time.time()\n",
        "\n",
        "        # Preparing input\n",
        "        board = torch.FloatTensor(board.astype(np.float64))\n",
        "        board = board.contiguous().to(args.device)\n",
        "        board = board.view(1, self.board_x, self.board_y)\n",
        "        self.nnet.eval()\n",
        "        with torch.no_grad():\n",
        "            pi, _ = self.nnet(board)\n",
        "        return torch.exp(pi).data.cpu().numpy()[0]\n",
        "\n",
        "    def loss_pi(self, targets, outputs):\n",
        "        \"\"\"\n",
        "        Calculates Negative Log Likelihood(NLL) of Targets\n",
        "\n",
        "        Args:\n",
        "          targets: np.ndarray\n",
        "            Ground Truth variables corresponding to input\n",
        "          outputs: np.ndarray\n",
        "            Predictions of Network\n",
        "\n",
        "        Returns:\n",
        "          Negative Log Likelihood calculated as: When training a model, we aspire to find the minima of a\n",
        "          loss function given a set of parameters (in a neural network, these are the weights and biases).\n",
        "          Sum the loss function to all the correct classes. So, whenever the network assigns high confidence at\n",
        "          the correct class, the NLL is low, but when the network assigns low confidence at the correct class,\n",
        "          the NLL is high.\n",
        "        \"\"\"\n",
        "        ## To implement the loss function, please compute and return the negative log likelihood of targets.\n",
        "        ## For more information, here is a reference that connects the expression to the neg-log-prob: https://gombru.github.io/2018/05/23/cross_entropy_loss/\n",
        "        return -torch.sum(targets * outputs) / targets.size()[0]\n",
        "\n",
        "    def save_checkpoint(self, folder=\"checkpoint\", filename=\"checkpoint.pth.tar\"):\n",
        "        \"\"\"\n",
        "        Code Checkpointing\n",
        "\n",
        "        Args:\n",
        "          folder: string\n",
        "            Path specifying training examples\n",
        "          filename: string\n",
        "            File name of training examples\n",
        "\n",
        "        Returns:\n",
        "          Nothing\n",
        "        \"\"\"\n",
        "        filepath = os.path.join(folder, filename)\n",
        "        if not os.path.exists(folder):\n",
        "            print(\n",
        "                \"Checkpoint Directory does not exist! Making directory {}\".format(\n",
        "                    folder\n",
        "                )\n",
        "            )\n",
        "            os.mkdir(folder)\n",
        "        else:\n",
        "            print(\"Checkpoint Directory exists! \")\n",
        "        torch.save(\n",
        "            {\n",
        "                \"state_dict\": self.nnet.state_dict(),\n",
        "            },\n",
        "            filepath,\n",
        "        )\n",
        "        print(\"Model saved! \")\n",
        "\n",
        "    def load_checkpoint(self, folder=\"checkpoint\", filename=\"checkpoint.pth.tar\"):\n",
        "        \"\"\"\n",
        "        Load code checkpoint\n",
        "\n",
        "        Args:\n",
        "          folder: string\n",
        "            Path specifying training examples\n",
        "          filename: string\n",
        "            File name of training examples\n",
        "\n",
        "        Returns:\n",
        "          Nothing\n",
        "        \"\"\"\n",
        "        # https://github.com/pytorch/examples/blob/master/imagenet/main.py#L98\n",
        "        filepath = os.path.join(folder, filename)\n",
        "        if not os.path.exists(filepath):\n",
        "            raise (\"No model in path {}\".format(filepath))\n",
        "\n",
        "        checkpoint = torch.load(filepath, map_location=args.device)\n",
        "        self.nnet.load_state_dict(checkpoint[\"state_dict\"])\n"
      ]
    },
    {
      "cell_type": "markdown",
      "metadata": {
        "execution": {},
        "id": "zVpsHPw4QTFl"
      },
      "source": [
        "### Train the policy network\n",
        "\n",
        "**Important:** Only run this cell if you do not have access to the pretrained models in the `rl_for_games` repository."
      ]
    },
    {
      "cell_type": "code",
      "execution_count": null,
      "metadata": {
        "execution": {},
        "id": "L5CaiXPpQTFl"
      },
      "outputs": [],
      "source": [
        "if not os.listdir(\"nma_rl_games/alpha-zero/pretrained_models/models/\"):\n",
        "    set_seed(seed=SEED)\n",
        "    game = OthelloGame(6)\n",
        "    pnet = PolicyNetwork(game)\n",
        "    pnet.train(loaded_games)\n"
      ]
    },
    {
      "cell_type": "markdown",
      "metadata": {
        "execution": {},
        "id": "7kYG7qF2QTFl"
      },
      "source": [
        "---\n",
        "# Section 5: Use a trained policy network to play games\n",
        "\n"
      ]
    },
    {
      "cell_type": "markdown",
      "metadata": {
        "execution": {},
        "id": "8qkct2O9QTFl"
      },
      "source": [
        "**Goal**: How to use a policy network to play games.\n",
        "\n",
        "**Exercise:** \n",
        "* Use the policy network to give probabilities for the next move.\n",
        "* Build a player that takes the move given the maximum probability by the network.\n",
        "* Compare this to another player that samples moves according to the probability distribution output by the network."
      ]
    },
    {
      "cell_type": "code",
      "execution_count": null,
      "metadata": {
        "cellView": "form",
        "execution": {},
        "id": "ZG-tbD2hQTFm"
      },
      "outputs": [],
      "source": [
        "# @title Video 5: Play games using a policy network\n",
        "from ipywidgets import widgets\n",
        "\n",
        "out2 = widgets.Output()\n",
        "with out2:\n",
        "    from IPython.display import IFrame\n",
        "\n",
        "    class BiliVideo(IFrame):\n",
        "        def __init__(self, id, page=1, width=400, height=300, **kwargs):\n",
        "            self.id = id\n",
        "            src = \"https://player.bilibili.com/player.html?bvid={0}&page={1}\".format(\n",
        "                id, page\n",
        "            )\n",
        "            super(BiliVideo, self).__init__(src, width, height, **kwargs)\n",
        "\n",
        "    video = BiliVideo(id=f\"BV1aq4y1S7o4\", width=854, height=480, fs=1)\n",
        "    print(\"Video available at https://www.bilibili.com/video/{0}\".format(video.id))\n",
        "    display(video)\n",
        "\n",
        "out1 = widgets.Output()\n",
        "with out1:\n",
        "    from IPython.display import YouTubeVideo\n",
        "\n",
        "    video = YouTubeVideo(id=f\"yHtVqT2Nstk\", width=854, height=480, fs=1, rel=0)\n",
        "    print(\"Video available at https://youtube.com/watch?v=\" + video.id)\n",
        "    display(video)\n",
        "\n",
        "out = widgets.Tab([out1, out2])\n",
        "out.set_title(0, \"Youtube\")\n",
        "out.set_title(1, \"Bilibili\")\n",
        "\n",
        "display(out)\n"
      ]
    },
    {
      "cell_type": "markdown",
      "metadata": {
        "execution": {},
        "id": "kk6dvhAgQTFm"
      },
      "source": [
        "## Coding Exercise 5: Implement the `PolicyBasedPlayer`"
      ]
    },
    {
      "cell_type": "code",
      "execution_count": null,
      "metadata": {
        "execution": {},
        "id": "0AMbnm7FQTFn"
      },
      "outputs": [],
      "source": [
        "model_save_name = \"PolicyNetwork.pth.tar\"\n",
        "path = \"nma_rl_games/alpha-zero/pretrained_models/models/\"\n",
        "set_seed(seed=SEED)\n",
        "game = OthelloGame(6)\n",
        "pnet = PolicyNetwork(game)\n",
        "pnet.load_checkpoint(folder=path, filename=model_save_name)\n"
      ]
    },
    {
      "cell_type": "code",
      "execution_count": null,
      "metadata": {
        "execution": {},
        "id": "wIs57PIHQTFn"
      },
      "outputs": [],
      "source": [
        "class PolicyBasedPlayer:\n",
        "    \"\"\"\n",
        "    Simulate Policy Based Player\n",
        "    \"\"\"\n",
        "\n",
        "    def __init__(self, game, pnet, greedy=True):\n",
        "        \"\"\"\n",
        "        Initialize Policy based player parameters\n",
        "\n",
        "        Args:\n",
        "          game: OthelloGame instance\n",
        "            Instance of the OthelloGame class above;\n",
        "          pnet: Policy Network instance\n",
        "            Instance of the Policy Network class above\n",
        "          greedy: Boolean\n",
        "            If true, implement greedy approach\n",
        "            Else, implement random sample policy based player\n",
        "\n",
        "        Returns:\n",
        "          Nothing\n",
        "        \"\"\"\n",
        "        self.game = game\n",
        "        self.pnet = pnet\n",
        "        self.greedy = greedy\n",
        "\n",
        "    def play(self, board):\n",
        "        \"\"\"\n",
        "        Simulate game play\n",
        "\n",
        "        Args:\n",
        "          board: np.ndarray\n",
        "            Board of size n x n [6x6 in this case]\n",
        "\n",
        "        Returns:\n",
        "          a: np.ndarray\n",
        "            If greedy, implement greedy policy player\n",
        "            Else, implement random sample policy based player\n",
        "        \"\"\"\n",
        "        valids = self.game.getValidMoves(board, 1)\n",
        "        #################################################\n",
        "        ## TODO for students:  ##\n",
        "        ## 1. Compute the action probabilities using policy network pnet()\n",
        "        ## 2. Mask invalid moves using valids variable and the action probabilites computed above.\n",
        "        ## 3. Compute the sum over valid actions and store them in sum_vap.\n",
        "        # Fill out function and remove\n",
        "        raise NotImplementedError(\"Define the play\")\n",
        "        #################################################\n",
        "        action_probs = ...\n",
        "        vap = ...  # Masking invalid moves\n",
        "        sum_vap = ...\n",
        "\n",
        "        if sum_vap > 0:\n",
        "            vap /= sum_vap  # Renormalize\n",
        "        else:\n",
        "            # If all valid moves were masked we make all valid moves equally probable\n",
        "            print(\"All valid moves were masked, doing a workaround.\")\n",
        "            vap = vap + valids\n",
        "            vap /= np.sum(vap)\n",
        "\n",
        "        if self.greedy:\n",
        "            # Greedy policy player\n",
        "            a = np.where(vap == np.max(vap))[0][0]\n",
        "        else:\n",
        "            # Sample-based policy player\n",
        "            a = np.random.choice(self.game.getActionSize(), p=vap)\n",
        "\n",
        "        return a\n",
        "\n",
        "\n",
        "# Playing games\n",
        "set_seed(seed=SEED)\n",
        "num_games = 20\n",
        "player1 = PolicyBasedPlayer(game, pnet, greedy=True).play\n",
        "player2 = RandomPlayer(game).play\n",
        "arena = Arena.Arena(player1, player2, game, display=OthelloGame.display)\n",
        "## Uncomment below to test!\n",
        "# result = arena.playGames(num_games, verbose=False)\n",
        "# print(f\"\\n\\n{result}\")\n",
        "# win_rate_player1 = result[0] / num_games\n",
        "# print(f\"\\nWin rate for player1 over {num_games} games: {round(win_rate_player1*100, 1)}%\")\n"
      ]
    },
    {
      "cell_type": "code",
      "execution_count": null,
      "metadata": {
        "execution": {},
        "id": "CvhOrRoBQTFo"
      },
      "outputs": [],
      "source": [
        "model_save_name = \"PolicyNetwork.pth.tar\"\n",
        "path = \"nma_rl_games/alpha-zero/pretrained_models/models/\"\n",
        "set_seed(seed=SEED)\n",
        "game = OthelloGame(6)\n",
        "pnet = PolicyNetwork(game)\n",
        "pnet.load_checkpoint(folder=path, filename=model_save_name)\n"
      ]
    },
    {
      "cell_type": "markdown",
      "metadata": {
        "execution": {},
        "id": "OjeCtxjqQTFo"
      },
      "source": [
        "### Comparing a policy based player versus a random player\n",
        "\n",
        "There's often randomness in the results as we are running the players for a low number of games (only 20 games due compute + time costs). So, when students are running the cells they might not get the expected result. To better measure the strength of players you can run more games!"
      ]
    },
    {
      "cell_type": "code",
      "execution_count": null,
      "metadata": {
        "execution": {},
        "id": "iu4tOZ0PQTFp"
      },
      "outputs": [],
      "source": [
        "set_seed(seed=SEED)\n",
        "num_games = 20\n",
        "game = OthelloGame(6)\n",
        "player1 = PolicyBasedPlayer(game, pnet, greedy=False).play\n",
        "player2 = RandomPlayer(game).play\n",
        "arena = Arena.Arena(player1, player2, game, display=OthelloGame.display)\n",
        "result = arena.playGames(num_games, verbose=False)\n",
        "print(f\"\\n\\n{result}\")\n"
      ]
    },
    {
      "cell_type": "code",
      "execution_count": null,
      "metadata": {
        "execution": {},
        "id": "4YKVxntrQTFp"
      },
      "outputs": [],
      "source": [
        "win_rate_player1 = result[0] / num_games\n",
        "print(f\"Win rate for player1 over {num_games} games: {round(win_rate_player1*100, 1)}%\")\n"
      ]
    },
    {
      "cell_type": "markdown",
      "metadata": {
        "execution": {},
        "id": "8xeZBZS2QTFp"
      },
      "source": [
        "### Compare greedy policy based player versus value based player "
      ]
    },
    {
      "cell_type": "code",
      "execution_count": null,
      "metadata": {
        "execution": {},
        "id": "bKfhRwE6QTFp"
      },
      "outputs": [],
      "source": [
        "set_seed(seed=SEED)\n",
        "num_games = 20\n",
        "game = OthelloGame(6)\n",
        "player1 = PolicyBasedPlayer(game, pnet).play\n",
        "player2 = ValueBasedPlayer(game, vnet).play\n",
        "arena = Arena.Arena(player1, player2, game, display=OthelloGame.display)\n",
        "result = arena.playGames(num_games, verbose=False)\n",
        "print(f\"\\n\\n{result}\")\n"
      ]
    },
    {
      "cell_type": "code",
      "execution_count": null,
      "metadata": {
        "execution": {},
        "id": "nKiQ8y_mQTFq"
      },
      "outputs": [],
      "source": [
        "win_rate_player1 = result[0] / num_games\n",
        "print(\n",
        "    f\"Win rate for player 1 over {num_games} games: {round(win_rate_player1*100, 1)}%\"\n",
        ")\n"
      ]
    },
    {
      "cell_type": "markdown",
      "metadata": {
        "execution": {},
        "id": "gCQHN_a8QTFq"
      },
      "source": [
        "### Compare greedy policy based player versus sample-based policy player "
      ]
    },
    {
      "cell_type": "code",
      "execution_count": null,
      "metadata": {
        "execution": {},
        "id": "W0EYHkctQTFq"
      },
      "outputs": [],
      "source": [
        "set_seed(seed=SEED)\n",
        "num_games = 20\n",
        "game = OthelloGame(6)\n",
        "player1 = PolicyBasedPlayer(game, pnet).play  # greedy player\n",
        "player2 = PolicyBasedPlayer(game, pnet, greedy=False).play  # sample-based player\n",
        "arena = Arena.Arena(player1, player2, game, display=OthelloGame.display)\n",
        "result = arena.playGames(num_games, verbose=False)\n",
        "print(f\"\\n\\n{result}\")\n"
      ]
    },
    {
      "cell_type": "code",
      "execution_count": null,
      "metadata": {
        "execution": {},
        "id": "CKLkSV0XQTFq"
      },
      "outputs": [],
      "source": [
        "win_rate_player1 = result[0] / num_games\n",
        "print(\n",
        "    f\"Win rate for player 1 over {num_games} games: {round(win_rate_player1*100, 1)}%\"\n",
        ")\n"
      ]
    },
    {
      "cell_type": "code",
      "execution_count": null,
      "metadata": {},
      "outputs": [],
      "source": [
        "#@title .\n",
        "DatatopsContentReviewContainer(\n",
        "    \"\",\n",
        "    \"W12D1_PolicyNetwork\",\n",
        "    {\n",
        "        \"url\": dt_url,\n",
        "        \"name\": feedback_name,\n",
        "        \"user_key\": feedback_dtid,\n",
        "    }\n",
        ").render()"
      ]
    },
    {
      "cell_type": "markdown",
      "metadata": {
        "execution": {},
        "id": "f_utz82UQTFr"
      },
      "source": [
        "---\n",
        "# Section 6: Plan using Monte Carlo Rollouts\n",
        "\n"
      ]
    },
    {
      "cell_type": "markdown",
      "metadata": {
        "execution": {},
        "id": "nSgvZ3Q_QTFr"
      },
      "source": [
        "**Goal**: Teach the students the core idea behind using simulated rollouts to understand the future and value actions.\n",
        "\n",
        "**Steps**:\n",
        "* Build a loop to run Monte Carlo simulations using the policy network.\n",
        "* Use this to obtain better estimates of the value of moves."
      ]
    },
    {
      "cell_type": "code",
      "execution_count": null,
      "metadata": {
        "cellView": "form",
        "execution": {},
        "id": "qPzGvo8VQTFr"
      },
      "outputs": [],
      "source": [
        "# @title Video 6: Play using Monte-Carlo rollouts\n",
        "from ipywidgets import widgets\n",
        "\n",
        "out2 = widgets.Output()\n",
        "with out2:\n",
        "    from IPython.display import IFrame\n",
        "\n",
        "    class BiliVideo(IFrame):\n",
        "        def __init__(self, id, page=1, width=400, height=300, **kwargs):\n",
        "            self.id = id\n",
        "            src = \"https://player.bilibili.com/player.html?bvid={0}&page={1}\".format(\n",
        "                id, page\n",
        "            )\n",
        "            super(BiliVideo, self).__init__(src, width, height, **kwargs)\n",
        "\n",
        "    video = BiliVideo(id=f\"BV1Rb4y1U7BW\", width=854, height=480, fs=1)\n",
        "    print(\"Video available at https://www.bilibili.com/video/{0}\".format(video.id))\n",
        "    display(video)\n",
        "\n",
        "out1 = widgets.Output()\n",
        "with out1:\n",
        "    from IPython.display import YouTubeVideo\n",
        "\n",
        "    video = YouTubeVideo(id=f\"DtCWDIlSo18\", width=854, height=480, fs=1, rel=0)\n",
        "    print(\"Video available at https://youtube.com/watch?v=\" + video.id)\n",
        "    display(video)\n",
        "\n",
        "out = widgets.Tab([out1, out2])\n",
        "out.set_title(0, \"Youtube\")\n",
        "out.set_title(1, \"Bilibili\")\n",
        "\n",
        "display(out)\n"
      ]
    },
    {
      "cell_type": "markdown",
      "metadata": {
        "execution": {},
        "id": "ZsDYdUUIQTFr"
      },
      "source": [
        "## Section 6.1. `MonteCarlo` "
      ]
    },
    {
      "cell_type": "code",
      "execution_count": null,
      "metadata": {
        "id": "F96-zngoYCOk"
      },
      "outputs": [],
      "source": [
        "class MonteCarlo:\n",
        "    \"\"\"\n",
        "    Implementation of Monte Carlo Algorithm\n",
        "    \"\"\"\n",
        "\n",
        "    def __init__(self, game, nnet, args):\n",
        "        \"\"\"\n",
        "        Initialize Monte Carlo Parameters\n",
        "\n",
        "        Args:\n",
        "          game: OthelloGame instance\n",
        "            Instance of the OthelloGame class above;\n",
        "          nnet: OthelloNet instance\n",
        "            Instance of the OthelloNNet class above;\n",
        "          args: dictionary\n",
        "            Instantiates number of iterations and episodes, controls temperature threshold, queue length,\n",
        "            arena, checkpointing, and neural network parameters:\n",
        "            learning-rate: 0.001, dropout: 0.3, epochs: 10, batch_size: 64,\n",
        "            num_channels: 512\n",
        "\n",
        "        Returns:\n",
        "          Nothing\n",
        "        \"\"\"\n",
        "        self.game = game\n",
        "        self.nnet = nnet\n",
        "        self.args = args\n",
        "\n",
        "        self.Ps = {}  # Stores initial policy (returned by neural net)\n",
        "        self.Es = {}  # Stores game.getGameEnded ended for board s\n",
        "\n",
        "    # Call this rollout\n",
        "    def simulate(self, canonicalBoard):\n",
        "        \"\"\"\n",
        "        Helper function to simulate one Monte Carlo rollout\n",
        "\n",
        "        Args:\n",
        "          canonicalBoard: np.ndarray\n",
        "            Canonical Board of size n x n [6x6 in this case]\n",
        "\n",
        "        Returns:\n",
        "          temp_v:\n",
        "            Terminal State\n",
        "        \"\"\"\n",
        "        s = self.game.stringRepresentation(canonicalBoard)\n",
        "        init_start_state = s\n",
        "        temp_v = 0\n",
        "        isfirstAction = None\n",
        "\n",
        "        for i in range(self.args.maxDepth):  # maxDepth\n",
        "            if s not in self.Es:\n",
        "                self.Es[s] = self.game.getGameEnded(canonicalBoard, 1)\n",
        "            if self.Es[s] != 0:\n",
        "                # Terminal state\n",
        "                temp_v = -self.Es[s]\n",
        "                break\n",
        "\n",
        "            self.Ps[s], v = self.nnet.predict(canonicalBoard)\n",
        "            valids = self.game.getValidMoves(canonicalBoard, 1)\n",
        "            self.Ps[s] = self.Ps[s] * valids  # Masking invalid moves\n",
        "            sum_Ps_s = np.sum(self.Ps[s])\n",
        "\n",
        "            if sum_Ps_s > 0:\n",
        "                self.Ps[s] /= sum_Ps_s  # Renormalize\n",
        "            else:\n",
        "                # If all valid moves were masked make all valid moves equally probable\n",
        "                # NB! All valid moves may be masked if either your NNet architecture is insufficient or you've get overfitting or something else.\n",
        "                # If you have got dozens or hundreds of these messages you should pay attention to your NNet and/or training process.\n",
        "                log.error(\"All valid moves were masked, doing a workaround.\")\n",
        "                self.Ps[s] = self.Ps[s] + valids\n",
        "                self.Ps[s] /= np.sum(self.Ps[s])\n",
        "\n",
        "            # Take a random action\n",
        "            a = np.random.choice(self.game.getActionSize(), p=self.Ps[s])\n",
        "            # Find the next state and the next player\n",
        "            next_s, next_player = self.game.getNextState(canonicalBoard, 1, a)\n",
        "            next_s = self.game.getCanonicalForm(next_s, next_player)\n",
        "\n",
        "            s = self.game.stringRepresentation(next_s)\n",
        "            temp_v = v\n",
        "\n",
        "        return temp_v\n"
      ]
    },
    {
      "cell_type": "markdown",
      "metadata": {
        "execution": {},
        "id": "bX4c82q2QTFs"
      },
      "source": [
        "---\n",
        "# Section 7: Use Monte Carlo simulations to play games"
      ]
    },
    {
      "cell_type": "markdown",
      "metadata": {
        "execution": {},
        "id": "L2Xk7TUlQTFs"
      },
      "source": [
        "**Goal:** Teach students how to use simple Monte Carlo planning to play games."
      ]
    },
    {
      "cell_type": "code",
      "execution_count": null,
      "metadata": {
        "cellView": "form",
        "execution": {},
        "id": "onF8sMEqQTFs"
      },
      "outputs": [],
      "source": [
        "# @title Video 7: Play with planning\n",
        "from ipywidgets import widgets\n",
        "\n",
        "out2 = widgets.Output()\n",
        "with out2:\n",
        "  from IPython.display import IFrame\n",
        "  class BiliVideo(IFrame):\n",
        "    def __init__(self, id, page=1, width=400, height=300, **kwargs):\n",
        "      self.id=id\n",
        "      src = \"https://player.bilibili.com/player.html?bvid={0}&page={1}\".format(id, page)\n",
        "      super(BiliVideo, self).__init__(src, width, height, **kwargs)\n",
        "\n",
        "  video = BiliVideo(id=f\"BV1bh411B7S4\", width=854, height=480, fs=1)\n",
        "  print(\"Video available at https://www.bilibili.com/video/{0}\".format(video.id))\n",
        "  display(video)\n",
        "\n",
        "out1 = widgets.Output()\n",
        "with out1:\n",
        "  from IPython.display import YouTubeVideo\n",
        "  video = YouTubeVideo(id=f\"plmFzAy3H5s\", width=854, height=480, fs=1, rel=0)\n",
        "  print(\"Video available at https://youtube.com/watch?v=\" + video.id)\n",
        "  display(video)\n",
        "\n",
        "out = widgets.Tab([out1, out2])\n",
        "out.set_title(0, 'Youtube')\n",
        "out.set_title(1, 'Bilibili')\n",
        "\n",
        "display(out)"
      ]
    },
    {
      "cell_type": "markdown",
      "metadata": {
        "execution": {},
        "id": "xsWPnfR-QTFt"
      },
      "source": [
        "## Coding Exercise 7: Monte-Carlo simulations\n",
        "\n",
        "* Incorporate Monte Carlo simulations into an agent.\n",
        "* Run the resulting player versus the random, value-based, and policy-based players."
      ]
    },
    {
      "cell_type": "code",
      "execution_count": null,
      "metadata": {
        "execution": {},
        "id": "b-FNqrz9QTFt"
      },
      "outputs": [],
      "source": [
        "# Load MC model from the repository\n",
        "mc_model_save_name = \"MC.pth.tar\"\n",
        "path = \"nma_rl_games/alpha-zero/pretrained_models/models/\"\n"
      ]
    },
    {
      "cell_type": "code",
      "execution_count": null,
      "metadata": {
        "execution": {},
        "id": "zjaxq-3VQTFt"
      },
      "outputs": [],
      "source": [
        "class MonteCarloBasedPlayer:\n",
        "    \"\"\"\n",
        "    Simulate Player based on Monte Carlo Algorithm\n",
        "    \"\"\"\n",
        "\n",
        "    def __init__(self, game, nnet, args):\n",
        "        \"\"\"\n",
        "        Initialize Monte Carlo Parameters\n",
        "\n",
        "        Args:\n",
        "          game: OthelloGame instance\n",
        "            Instance of the OthelloGame class above;\n",
        "          nnet: OthelloNet instance\n",
        "            Instance of the OthelloNNet class above;\n",
        "          args: dictionary\n",
        "            Instantiates number of iterations and episodes, controls temperature threshold, queue length,\n",
        "            arena, checkpointing, and neural network parameters:\n",
        "            learning-rate: 0.001, dropout: 0.3, epochs: 10, batch_size: 64,\n",
        "            num_channels: 512\n",
        "\n",
        "        Returns:\n",
        "          Nothing\n",
        "        \"\"\"\n",
        "        self.game = game\n",
        "        self.nnet = nnet\n",
        "        self.args = args\n",
        "        self.mc = MonteCarlo(game, nnet, args)\n",
        "        self.K = self.args.mc_topk\n",
        "\n",
        "    def play(self, canonicalBoard):\n",
        "        \"\"\"\n",
        "        Simulate Play on Canonical Board\n",
        "\n",
        "        Args:\n",
        "          canonicalBoard: np.ndarray\n",
        "            Canonical Board of size n x n [6x6 in this case]\n",
        "\n",
        "        Returns:\n",
        "          best_action: tuple\n",
        "            (avg_value, action) i.e., Average value associated with corresponding action\n",
        "            i.e., Action with the highest topK probability\n",
        "        \"\"\"\n",
        "        self.qsa = []\n",
        "        s = self.game.stringRepresentation(canonicalBoard)\n",
        "        Ps, v = self.nnet.predict(canonicalBoard)\n",
        "        valids = self.game.getValidMoves(canonicalBoard, 1)\n",
        "        Ps = Ps * valids  # Masking invalid moves\n",
        "        sum_Ps_s = np.sum(Ps)\n",
        "\n",
        "        if sum_Ps_s > 0:\n",
        "            Ps /= sum_Ps_s  # Renormalize\n",
        "        else:\n",
        "            # If all valid moves were masked make all valid moves equally probable\n",
        "            # NB! All valid moves may be masked if either your NNet architecture is insufficient or you've get overfitting or something else.\n",
        "            # If you have got dozens or hundreds of these messages you should pay attention to your NNet and/or training process.\n",
        "            log = logging.getLogger(__name__)\n",
        "            log.error(\"All valid moves were masked, doing a workaround.\")\n",
        "            Ps = Ps + valids\n",
        "            Ps /= np.sum(Ps)\n",
        "\n",
        "        num_valid_actions = np.shape(np.nonzero(Ps))[1]\n",
        "\n",
        "        if num_valid_actions < self.K:\n",
        "            top_k_actions = np.argpartition(Ps, -num_valid_actions)[-num_valid_actions:]\n",
        "        else:\n",
        "            top_k_actions = np.argpartition(Ps, -self.K)[\n",
        "                -self.K :\n",
        "            ]  # To get actions that belongs to top k prob\n",
        "        #################################################\n",
        "        ## TODO for students:\n",
        "        ## 1. For each action in the top-k actions\n",
        "        ## 2. Get the next state using getNextState() function. You can find the implementation of this function in Section 1 in the OthelloGame() class.\n",
        "        ## 3. Get the canonical form of the getNextState().\n",
        "        # Fill out function and remove\n",
        "        raise NotImplementedError(\"Loop for the top actions\")\n",
        "        #################################################\n",
        "        for action in ...:\n",
        "            next_s, next_player = self.game.getNextState(..., ..., ...)\n",
        "            next_s = self.game.getCanonicalForm(..., ...)\n",
        "\n",
        "            values = []\n",
        "\n",
        "            # Do some rollouts\n",
        "            for rollout in range(self.args.numMCsims):\n",
        "                value = self.mc.simulate(canonicalBoard)\n",
        "                values.append(value)\n",
        "\n",
        "            # Average out values\n",
        "            avg_value = np.mean(values)\n",
        "            self.qsa.append((avg_value, action))\n",
        "\n",
        "        self.qsa.sort(key=lambda a: a[0])\n",
        "        self.qsa.reverse()\n",
        "        best_action = self.qsa[0][1]\n",
        "        return best_action\n",
        "\n",
        "    def getActionProb(self, canonicalBoard, temp=1):\n",
        "        \"\"\"\n",
        "        Helper function to get probabilities associated with each action\n",
        "\n",
        "        Args:\n",
        "          canonicalBoard: np.ndarray\n",
        "            Canonical Board of size n x n [6x6 in this case]\n",
        "          temp: Integer\n",
        "            Signifies if game is in terminal state\n",
        "\n",
        "        Returns:\n",
        "          action_probs: List\n",
        "            Probability associated with corresponding action\n",
        "        \"\"\"\n",
        "        if self.game.getGameEnded(canonicalBoard, 1) != 0:\n",
        "            return np.zeros((self.game.getActionSize()))\n",
        "\n",
        "        else:\n",
        "            action_probs = np.zeros((self.game.getActionSize()))\n",
        "            best_action = self.play(canonicalBoard)\n",
        "            action_probs[best_action] = 1\n",
        "\n",
        "        return action_probs\n",
        "\n",
        "\n",
        "set_seed(seed=SEED)\n",
        "game = OthelloGame(6)\n",
        "# Run the resulting player versus the random player\n",
        "rp = RandomPlayer(game).play\n",
        "num_games = 20  # Feel free to change this number\n",
        "\n",
        "n1 = NNet(game)  # nNet players\n",
        "n1.load_checkpoint(folder=path, filename=mc_model_save_name)\n",
        "args1 = dotdict({\"numMCsims\": 10, \"maxRollouts\": 5, \"maxDepth\": 5, \"mc_topk\": 3})\n",
        "\n",
        "## Uncomment below to check Monte Carlo agent!\n",
        "# print('\\n******MC player versus random player******')\n",
        "# mc1 = MonteCarloBasedPlayer(game, n1, args1)\n",
        "# n1p = lambda x: np.argmax(mc1.getActionProb(x))\n",
        "# arena = Arena.Arena(n1p, rp, game, display=OthelloGame.display)\n",
        "# MC_result = arena.playGames(num_games, verbose=False)\n",
        "# print(f\"\\n\\n{MC_result}\")\n",
        "# print(f\"\\nNumber of games won by player1 = {MC_result[0]}, \"\n",
        "#       f\"number of games won by player2 = {MC_result[1]}, out of {num_games} games\")\n",
        "# win_rate_player1 = MC_result[0]/num_games\n",
        "# print(f\"\\nWin rate for player1 over {num_games} games: {round(win_rate_player1*100, 1)}%\")\n"
      ]
    },
    {
      "cell_type": "markdown",
      "metadata": {
        "execution": {},
        "id": "SEp1xEYmQTFv"
      },
      "source": [
        "### Monte-Carlo player against Value-based player"
      ]
    },
    {
      "cell_type": "code",
      "execution_count": null,
      "metadata": {
        "execution": {},
        "id": "JhgDw7q6QTFv"
      },
      "outputs": [],
      "source": [
        "print(\"\\n******MC player versus value-based player******\")\n",
        "set_seed(seed=SEED)\n",
        "vp = ValueBasedPlayer(game, vnet).play  # Value-based player\n",
        "arena = Arena.Arena(n1p, vp, game, display=OthelloGame.display)\n",
        "MC_result = arena.playGames(num_games, verbose=False)\n",
        "print(f\"\\n\\n{MC_result}\")\n",
        "print(\n",
        "    f\"\\nNumber of games won by player1 = {MC_result[0]}, \"\n",
        "    f\"number of games won by player2 = {MC_result[1]}, out of {num_games} games\"\n",
        ")\n",
        "win_rate_player1 = MC_result[0] / num_games\n",
        "print(\n",
        "    f\"\\nWin rate for player1 over {num_games} games: {round(win_rate_player1*100, 1)}%\"\n",
        ")\n"
      ]
    },
    {
      "cell_type": "markdown",
      "metadata": {
        "execution": {},
        "id": "DB24IECbQTFw"
      },
      "source": [
        "### Monte-Carlo player against Policy-based player"
      ]
    },
    {
      "cell_type": "code",
      "execution_count": null,
      "metadata": {
        "execution": {},
        "id": "IWyir7U9QTFx"
      },
      "outputs": [],
      "source": [
        "print(\"\\n******MC player versus policy-based player******\")\n",
        "set_seed(seed=SEED)\n",
        "pp = PolicyBasedPlayer(game, pnet).play  # Policy player\n",
        "arena = Arena.Arena(n1p, pp, game, display=OthelloGame.display)\n",
        "MC_result = arena.playGames(num_games, verbose=False)\n",
        "print(f\"\\n\\n{MC_result}\")\n",
        "print(\n",
        "    f\"\\nNumber of games won by player1 = {MC_result[0]}, \"\n",
        "    f\"number of games won by player2 = {MC_result[1]}, out of {num_games} games\"\n",
        ")\n",
        "win_rate_player1 = MC_result[0] / num_games\n",
        "print(\n",
        "    f\"\\nWin rate for player1 over {num_games} games: {round(win_rate_player1*100, 1)}%\"\n",
        ")\n"
      ]
    },
    {
      "cell_type": "code",
      "execution_count": null,
      "metadata": {},
      "outputs": [],
      "source": [
        "#@title .\n",
        "DatatopsContentReviewContainer(\n",
        "    \"\",\n",
        "    \"W12D1_MonteCarlo\",\n",
        "    {\n",
        "        \"url\": dt_url,\n",
        "        \"name\": feedback_name,\n",
        "        \"user_key\": feedback_dtid,\n",
        "    }\n",
        ").render()"
      ]
    },
    {
      "cell_type": "markdown",
      "metadata": {
        "execution": {},
        "id": "1tjTtUiMQTFx"
      },
      "source": [
        "---\n",
        "# Section 8: Ethical aspects"
      ]
    },
    {
      "cell_type": "code",
      "execution_count": null,
      "metadata": {
        "cellView": "form",
        "execution": {},
        "id": "Qo7vWmJ9QTFx"
      },
      "outputs": [],
      "source": [
        "# @title Video 8: Unstoppable opponents\n",
        "from ipywidgets import widgets\n",
        "\n",
        "out2 = widgets.Output()\n",
        "with out2:\n",
        "    from IPython.display import IFrame\n",
        "\n",
        "    class BiliVideo(IFrame):\n",
        "        def __init__(self, id, page=1, width=400, height=300, **kwargs):\n",
        "            self.id = id\n",
        "            src = \"https://player.bilibili.com/player.html?bvid={0}&page={1}\".format(\n",
        "                id, page\n",
        "            )\n",
        "            super(BiliVideo, self).__init__(src, width, height, **kwargs)\n",
        "\n",
        "    video = BiliVideo(id=f\"BV1WA411w7mw\", width=854, height=480, fs=1)\n",
        "    print(\"Video available at https://www.bilibili.com/video/{0}\".format(video.id))\n",
        "    display(video)\n",
        "\n",
        "out1 = widgets.Output()\n",
        "with out1:\n",
        "    from IPython.display import YouTubeVideo\n",
        "\n",
        "    video = YouTubeVideo(id=f\"q7181lvoNpM\", width=854, height=480, fs=1, rel=0)\n",
        "    print(\"Video available at https://youtube.com/watch?v=\" + video.id)\n",
        "    display(video)\n",
        "\n",
        "out = widgets.Tab([out1, out2])\n",
        "out.set_title(0, \"Youtube\")\n",
        "out.set_title(1, \"Bilibili\")\n",
        "\n",
        "display(out)\n"
      ]
    },
    {
      "attachments": {},
      "cell_type": "markdown",
      "metadata": {},
      "source": [
        "## Quiz\n",
        "\n",
        "**Modern reinforcement learning is now commonly used to refine the behavior of large language models, with reward signals granted by human annotators (see [this article on RLHF](https://huggingface.co/blog/rlhf)). Ignoring implementation details and technical challenges, what are TWO ethical concerns you have about this approach? Explain in a few sentences.**"
      ]
    },
    {
      "cell_type": "code",
      "execution_count": null,
      "metadata": {},
      "outputs": [],
      "source": [
        "rlhf_ethics_concerns = \"\" #@param {type:\"string\"}"
      ]
    },
    {
      "cell_type": "markdown",
      "metadata": {
        "execution": {},
        "id": "7mf4cGyTQTFx"
      },
      "source": [
        "---\n",
        "# Summary\n",
        "\n",
        "In this tutorial, you have learned how to implement a game loop and improve the performance of a random player. More specifically, you are now able to understand the format of two-players games. We learned about value-based and policy-based players, and we compared them with the MCTS method."
      ]
    },
    {
      "cell_type": "code",
      "execution_count": null,
      "metadata": {
        "cellView": "form",
        "execution": {},
        "id": "fNSveXMhQTFz"
      },
      "outputs": [],
      "source": [
        "# @title Video 9: Outro\n",
        "from ipywidgets import widgets\n",
        "\n",
        "out1 = widgets.Output()\n",
        "with out1:\n",
        "    from IPython.display import YouTubeVideo\n",
        "\n",
        "    video = YouTubeVideo(id=f\"uEe5ErMpH_U\", width=854, height=480, fs=1, rel=0)\n",
        "    print(\"Video available at https://youtube.com/watch?v=\" + video.id)\n",
        "    display(video)\n",
        "\n",
        "out = widgets.Tab([out1])\n",
        "out.set_title(0, \"Youtube\")\n",
        "\n",
        "\n",
        "display(out)\n"
      ]
    },
    {
      "cell_type": "markdown",
      "metadata": {
        "id": "acu_nh2PaOKS"
      },
      "source": [
        "---\n",
        "## Wrap-up"
      ]
    },
    {
      "cell_type": "code",
      "execution_count": null,
      "metadata": {},
      "outputs": [],
      "source": [
        "#@markdown Submit your answers (run this to submit)\n",
        "quizdt.store(\n",
        "    {\n",
        "        \"my_pennkey\": my_pennkey,\n",
        "        \"my_pod\": my_pod,\n",
        "        \"my_email\": my_email,\n",
        "        \"tutorial\": tutorial,\n",
        "        \"eventual_othello_bad_training\": eventual_othello_bad_training,\n",
        "        \"rlhf_ethics_concerns\": rlhf_ethics_concerns,\n",
        "    }\n",
        ")"
      ]
    },
    {
      "cell_type": "markdown",
      "metadata": {
        "id": "_FOZIjbkZ9vJ"
      },
      "source": [
        "## Feedback\n",
        "How could this session have been better? How happy are you in your group? How do you feel right now?\n",
        "\n",
        "Feel free to use the embeded form below or use this link:\n",
        "<a target=\"_blank\" rel=\"noopener noreferrer\" href=\"https://airtable.com/shr1TzujOOOY21kFQ\">https://airtable.com/shr1TzujOOOY21kFQ</a>"
      ]
    },
    {
      "cell_type": "code",
      "execution_count": null,
      "metadata": {
        "cellView": "form",
        "id": "Vu2o8If9Z9Jg"
      },
      "outputs": [],
      "source": [
        "# @title Feedback form\n",
        "display(\n",
        "    IFrame(src=\"https://airtable.com/embed/shr1TzujOOOY21kFQ\", width=800, height=400)\n",
        ")\n"
      ]
    },
    {
      "cell_type": "markdown",
      "metadata": {
        "execution": {},
        "id": "ZdW-iaJcQTFz"
      },
      "source": [
        "---\n",
        "# Bonus 1: Plan using Monte Carlo Tree Search (MCTS)\n",
        "\n",
        "*Time estimate: ~30mins"
      ]
    },
    {
      "cell_type": "markdown",
      "metadata": {
        "execution": {},
        "id": "WjDqfZc-QTF0"
      },
      "source": [
        "**Goal:** Teach students to understand the core ideas behind Monte Carlo Tree Search (MCTS)."
      ]
    },
    {
      "cell_type": "code",
      "execution_count": null,
      "metadata": {
        "cellView": "form",
        "execution": {},
        "id": "tu8Nw2RyQTF0"
      },
      "outputs": [],
      "source": [
        "# @title Video 10: Plan with MCTS\n",
        "from ipywidgets import widgets\n",
        "\n",
        "out2 = widgets.Output()\n",
        "with out2:\n",
        "    from IPython.display import IFrame\n",
        "\n",
        "    class BiliVideo(IFrame):\n",
        "        def __init__(self, id, page=1, width=400, height=300, **kwargs):\n",
        "            self.id = id\n",
        "            src = \"https://player.bilibili.com/player.html?bvid={0}&page={1}\".format(\n",
        "                id, page\n",
        "            )\n",
        "            super(BiliVideo, self).__init__(src, width, height, **kwargs)\n",
        "\n",
        "    video = BiliVideo(id=f\"BV1yQ4y127Sr\", width=854, height=480, fs=1)\n",
        "    print(\"Video available at https://www.bilibili.com/video/{0}\".format(video.id))\n",
        "    display(video)\n",
        "\n",
        "out1 = widgets.Output()\n",
        "with out1:\n",
        "    from IPython.display import YouTubeVideo\n",
        "\n",
        "    video = YouTubeVideo(id=f\"Hhw6Ed0Zmco\", width=854, height=480, fs=1, rel=0)\n",
        "    print(\"Video available at https://youtube.com/watch?v=\" + video.id)\n",
        "    display(video)\n",
        "\n",
        "out = widgets.Tab([out1, out2])\n",
        "out.set_title(0, \"Youtube\")\n",
        "out.set_title(1, \"Bilibili\")\n",
        "\n",
        "display(out)\n"
      ]
    },
    {
      "cell_type": "markdown",
      "metadata": {
        "execution": {},
        "id": "8n7mWAZ5QTF0"
      },
      "source": [
        "## Bonus Coding Exercise 1: MCTS planner\n",
        "\n",
        "* Plug together pre-built Selection, Expansion & Backpropagation code to complete an MCTS planner.\n",
        "* Deploy the MCTS planner to understand an interesting position, producing value estimates and action counts."
      ]
    },
    {
      "cell_type": "code",
      "execution_count": null,
      "metadata": {
        "execution": {},
        "id": "IkpZp8UNQTF0"
      },
      "outputs": [],
      "source": [
        "class MCTS:\n",
        "    \"\"\"\n",
        "    This class handles MCTS (Monte Carlo Tree Search).\n",
        "    \"\"\"\n",
        "\n",
        "    def __init__(self, game, nnet, args):\n",
        "        \"\"\"\n",
        "        Initialize parameters of MCTS\n",
        "\n",
        "        Args:\n",
        "          game: OthelloGame instance\n",
        "            Instance of the OthelloGame class above;\n",
        "          nnet: OthelloNet instance\n",
        "            Instance of the OthelloNNet class above;\n",
        "          args: dictionary\n",
        "            Instantiates number of iterations and episodes, controls temperature threshold, queue length,\n",
        "            arena, checkpointing, and neural network parameters:\n",
        "            learning-rate: 0.001, dropout: 0.3, epochs: 10, batch_size: 64,\n",
        "            num_channels: 512\n",
        "\n",
        "        Returns:\n",
        "          Nothing\n",
        "        \"\"\"\n",
        "        self.game = game\n",
        "        self.nnet = nnet\n",
        "        self.args = args\n",
        "        self.Qsa = {}  # Stores Q values for s,a (as defined in the paper)\n",
        "        self.Nsa = {}  # Stores #times edge s,a was visited\n",
        "        self.Ns = {}  # Stores #times board s was visited\n",
        "        self.Ps = {}  # Stores initial policy (returned by neural net)\n",
        "        self.Es = {}  # Stores game.getGameEnded ended for board s\n",
        "        self.Vs = {}  # Stores game.getValidMoves for board s\n",
        "\n",
        "    def search(self, canonicalBoard):\n",
        "        \"\"\"\n",
        "        This function performs one iteration of MCTS. It is recursively called\n",
        "        till a leaf node is found. The action chosen at each node is one that\n",
        "        has the maximum upper confidence bound as in the paper.\n",
        "        Once a leaf node is found, the neural network is called to return an\n",
        "        initial policy P and a value v for the state. This value is propagated\n",
        "        up the search path. In case the leaf node is a terminal state, the\n",
        "        outcome is propagated up the search path. The values of Ns, Nsa, Qsa are\n",
        "        updated.\n",
        "        NOTE: the return values are the negative of the value of the current\n",
        "        state. This is done since v is in [-1,1] and if v is the value of a\n",
        "        state for the current player, then its value is -v for the other player.\n",
        "\n",
        "        Args:\n",
        "          canonicalBoard: np.ndarray\n",
        "            Canonical Board of size n x n [6x6 in this case]\n",
        "\n",
        "        Returns:\n",
        "            v: Float\n",
        "              The negative of the value of the current canonicalBoard\n",
        "        \"\"\"\n",
        "        s = self.game.stringRepresentation(canonicalBoard)\n",
        "\n",
        "        if s not in self.Es:\n",
        "            self.Es[s] = self.game.getGameEnded(canonicalBoard, 1)\n",
        "        if self.Es[s] != 0:\n",
        "            # Terminal node\n",
        "            return -self.Es[s]\n",
        "\n",
        "        if s not in self.Ps:\n",
        "            # Leaf node\n",
        "            self.Ps[s], v = self.nnet.predict(canonicalBoard)\n",
        "            valids = self.game.getValidMoves(canonicalBoard, 1)\n",
        "            self.Ps[s] = self.Ps[s] * valids  # Masking invalid moves\n",
        "            sum_Ps_s = np.sum(self.Ps[s])\n",
        "            if sum_Ps_s > 0:\n",
        "                self.Ps[s] /= sum_Ps_s  # Renormalize\n",
        "            else:\n",
        "                # If all valid moves were masked make all valid moves equally probable\n",
        "                # NB! All valid moves may be masked if either your NNet architecture is insufficient or you've get overfitting or something else.\n",
        "                # If you have got dozens or hundreds of these messages you should pay attention to your NNet and/or training process.\n",
        "                log = logging.getLogger(__name__)\n",
        "                log.error(\"All valid moves were masked, doing a workaround.\")\n",
        "                self.Ps[s] = self.Ps[s] + valids\n",
        "                self.Ps[s] /= np.sum(self.Ps[s])\n",
        "\n",
        "            self.Vs[s] = valids\n",
        "            self.Ns[s] = 0\n",
        "\n",
        "            return -v\n",
        "\n",
        "        valids = self.Vs[s]\n",
        "        cur_best = -float(\"inf\")\n",
        "        best_act = -1\n",
        "\n",
        "        #################################################\n",
        "        ## TODO for students:\n",
        "        ## Implement the highest upper confidence bound depending whether we observed the state-action pair which is stored in self.Qsa[(s, a)]. You can find the formula in the slide 52 in video 8 above.\n",
        "        # Fill out function and remove\n",
        "        raise NotImplementedError(\"Complete the for loop\")\n",
        "        #################################################\n",
        "        # Pick the action with the highest upper confidence bound\n",
        "        for a in range(self.game.getActionSize()):\n",
        "            if valids[a]:\n",
        "                if (s, a) in self.Qsa:\n",
        "                    u = ... + ... * ... * math.sqrt(...) / (1 + ...)\n",
        "                else:\n",
        "                    u = ... * ... * math.sqrt(... + 1e-8)\n",
        "\n",
        "                if u > cur_best:\n",
        "                    cur_best = u\n",
        "                    best_act = a\n",
        "\n",
        "        a = best_act\n",
        "        next_s, next_player = self.game.getNextState(canonicalBoard, 1, a)\n",
        "        next_s = self.game.getCanonicalForm(next_s, next_player)\n",
        "\n",
        "        v = self.search(next_s)\n",
        "\n",
        "        if (s, a) in self.Qsa:\n",
        "            self.Qsa[(s, a)] = (self.Nsa[(s, a)] * self.Qsa[(s, a)] + v) / (\n",
        "                self.Nsa[(s, a)] + 1\n",
        "            )\n",
        "            self.Nsa[(s, a)] += 1\n",
        "\n",
        "        else:\n",
        "            self.Qsa[(s, a)] = v\n",
        "            self.Nsa[(s, a)] = 1\n",
        "\n",
        "        self.Ns[s] += 1\n",
        "        return -v\n",
        "\n",
        "    def getNsa(self):\n",
        "        return self.Nsa\n"
      ]
    },
    {
      "cell_type": "markdown",
      "metadata": {
        "execution": {},
        "id": "Sm2r0Z_PQTF0"
      },
      "source": [
        "[*Click for solution*](https://github.com/NeuromatchAcademy/course-content-dl/tree/main//tutorials/W3D3_ReinforcementLearningForGames/solutions/W3D3_Tutorial1_Solution_6150f11c.py)\n",
        "\n"
      ]
    },
    {
      "cell_type": "markdown",
      "metadata": {
        "execution": {},
        "id": "NorVCiGsQTF1"
      },
      "source": [
        "---\n",
        "# Bonus 2: Use MCTS to play games\n",
        "\n",
        "*Time estimate: ~10mins*\n"
      ]
    },
    {
      "cell_type": "markdown",
      "metadata": {
        "execution": {},
        "id": "AYPGws_zQTF1"
      },
      "source": [
        "**Goal:** Teach the students how to use the results of MCTS to play games.\n",
        "\n",
        "**Exercise:** \n",
        "* Plug the MCTS planner into an agent.\n",
        "* Play games against other agents.\n",
        "* Explore the contributions of prior network, value function, number of simulations/time to play and explore/exploit parameters."
      ]
    },
    {
      "cell_type": "code",
      "execution_count": null,
      "metadata": {
        "cellView": "form",
        "execution": {},
        "id": "pgPc7IDqQTF1"
      },
      "outputs": [],
      "source": [
        "# @title Video 11: Play with MCTS\n",
        "from ipywidgets import widgets\n",
        "\n",
        "out2 = widgets.Output()\n",
        "with out2:\n",
        "    from IPython.display import IFrame\n",
        "\n",
        "    class BiliVideo(IFrame):\n",
        "        def __init__(self, id, page=1, width=400, height=300, **kwargs):\n",
        "            self.id = id\n",
        "            src = \"https://player.bilibili.com/player.html?bvid={0}&page={1}\".format(\n",
        "                id, page\n",
        "            )\n",
        "            super(BiliVideo, self).__init__(src, width, height, **kwargs)\n",
        "\n",
        "    video = BiliVideo(id=f\"BV13q4y1H7H6\", width=854, height=480, fs=1)\n",
        "    print(\"Video available at https://www.bilibili.com/video/{0}\".format(video.id))\n",
        "    display(video)\n",
        "\n",
        "out1 = widgets.Output()\n",
        "with out1:\n",
        "    from IPython.display import YouTubeVideo\n",
        "\n",
        "    video = YouTubeVideo(id=f\"1BRXb-igKAU\", width=854, height=480, fs=1, rel=0)\n",
        "    print(\"Video available at https://youtube.com/watch?v=\" + video.id)\n",
        "    display(video)\n",
        "\n",
        "out = widgets.Tab([out1, out2])\n",
        "out.set_title(0, \"Youtube\")\n",
        "out.set_title(1, \"Bilibili\")\n",
        "\n",
        "display(out)\n"
      ]
    },
    {
      "cell_type": "markdown",
      "metadata": {
        "execution": {},
        "id": "wRHkinONQTF2"
      },
      "source": [
        "## Bonus Coding Exercise 2: Agent that uses an MCTS planner\n",
        "\n",
        "* Plug the MCTS planner into an agent.\n",
        "* Play games against other agents.\n",
        "* Explore the contributions of prior network, value function, number of simulations/time to play and explore/exploit parameters."
      ]
    },
    {
      "cell_type": "code",
      "execution_count": null,
      "metadata": {
        "execution": {},
        "id": "ORgekNLiQTF2"
      },
      "outputs": [],
      "source": [
        "# Load MCTS model from the repository\n",
        "mcts_model_save_name = \"MCTS.pth.tar\"\n",
        "path = \"nma_rl_games/alpha-zero/pretrained_models/models/\"\n"
      ]
    },
    {
      "cell_type": "code",
      "execution_count": null,
      "metadata": {
        "execution": {},
        "id": "2thN2sNkQTF2"
      },
      "outputs": [],
      "source": [
        "class MonteCarloTreeSearchBasedPlayer:\n",
        "    \"\"\"\n",
        "    Simulate Player based on MCTS\n",
        "    \"\"\"\n",
        "\n",
        "    def __init__(self, game, nnet, args):\n",
        "        \"\"\"\n",
        "        Initialize parameters of MCTS\n",
        "\n",
        "        Args:\n",
        "          game: OthelloGame instance\n",
        "            Instance of the OthelloGame class above;\n",
        "          nnet: OthelloNet instance\n",
        "            Instance of the OthelloNNet class above;\n",
        "          args: dictionary\n",
        "            Instantiates number of iterations and episodes, controls temperature threshold, queue length,\n",
        "            arena, checkpointing, and neural network parameters:\n",
        "            learning-rate: 0.001, dropout: 0.3, epochs: 10, batch_size: 64,\n",
        "            num_channels: 512\n",
        "\n",
        "        Returns:\n",
        "          Nothing\n",
        "        \"\"\"\n",
        "        self.game = game\n",
        "        self.nnet = nnet\n",
        "        self.args = args\n",
        "        self.mcts = MCTS(game, nnet, args)\n",
        "\n",
        "    def play(self, canonicalBoard, temp=1):\n",
        "        \"\"\"\n",
        "        Simulate Play on Canonical Board\n",
        "\n",
        "        Args:\n",
        "          canonicalBoard: np.ndarray\n",
        "            Canonical Board of size n x n [6x6 in this case]\n",
        "          temp: Integer\n",
        "            Signifies if game is in terminal state\n",
        "\n",
        "        Returns:\n",
        "          List of probabilities for all actions if temp is 0\n",
        "          Best action based on max probability otherwise\n",
        "        \"\"\"\n",
        "        for i in range(self.args.numMCTSSims):\n",
        "            #################################################\n",
        "            ## TODO for students:\n",
        "            #  Run MCTS search function.\n",
        "            #  Fill out function and remove\n",
        "            raise NotImplementedError(\"Plug the planner\")\n",
        "            #################################################\n",
        "            ...\n",
        "\n",
        "        s = self.game.stringRepresentation(canonicalBoard)\n",
        "        #################################################\n",
        "        ## TODO for students:\n",
        "        #  Call the Nsa function from MCTS class and store it in the self.Nsa\n",
        "        #  Fill out function and remove\n",
        "        raise NotImplementedError(\"Compute Nsa (number of times edge s,a was visited)\")\n",
        "        #################################################\n",
        "        self.Nsa = ...\n",
        "        self.counts = [\n",
        "            self.Nsa[(s, a)] if (s, a) in self.Nsa else 0\n",
        "            for a in range(self.game.getActionSize())\n",
        "        ]\n",
        "\n",
        "        if temp == 0:\n",
        "            bestAs = np.array(np.argwhere(self.counts == np.max(self.counts))).flatten()\n",
        "            bestA = np.random.choice(bestAs)\n",
        "            probs = [0] * len(self.counts)\n",
        "            probs[bestA] = 1\n",
        "            return probs\n",
        "\n",
        "        self.counts = [x ** (1.0 / temp) for x in self.counts]\n",
        "        self.counts_sum = float(sum(self.counts))\n",
        "        probs = [x / self.counts_sum for x in self.counts]\n",
        "        return np.argmax(probs)\n",
        "\n",
        "    def getActionProb(self, canonicalBoard, temp=1):\n",
        "        \"\"\"\n",
        "        Helper function to get probabilities associated with each action\n",
        "\n",
        "        Args:\n",
        "          canonicalBoard: np.ndarray\n",
        "            Canonical Board of size n x n [6x6 in this case]\n",
        "          temp: Integer\n",
        "            Signifies if game is in terminal state\n",
        "\n",
        "        Returns:\n",
        "          action_probs: List\n",
        "            Probability associated with corresponding action\n",
        "        \"\"\"\n",
        "        action_probs = np.zeros((self.game.getActionSize()))\n",
        "        best_action = self.play(canonicalBoard)\n",
        "        action_probs[best_action] = 1\n",
        "\n",
        "        return action_probs\n",
        "\n",
        "\n",
        "set_seed(seed=SEED)\n",
        "game = OthelloGame(6)\n",
        "rp = RandomPlayer(game).play  # All players\n",
        "num_games = 20  # Games\n",
        "n1 = NNet(game)  # nnet players\n",
        "n1.load_checkpoint(folder=path, filename=mcts_model_save_name)\n",
        "args1 = dotdict({\"numMCTSSims\": 50, \"cpuct\": 1.0})\n",
        "\n",
        "## Uncomment below to check your agent!\n",
        "# print('\\n******MCTS player versus random player******')\n",
        "# mcts1 = MonteCarloTreeSearchBasedPlayer(game, n1, args1)\n",
        "# n1p = lambda x: np.argmax(mcts1.getActionProb(x, temp=0))\n",
        "# arena = Arena.Arena(n1p, rp, game, display=OthelloGame.display)\n",
        "# MCTS_result = arena.playGames(num_games, verbose=False)\n",
        "# print(f\"\\n\\n{MCTS_result}\")\n",
        "# print(f\"\\nNumber of games won by player1 = {MCTS_result[0]}, \"\n",
        "#       f\"number of games won by player2 = {MCTS_result[1]}, out of {num_games} games\")\n",
        "# win_rate_player1 = MCTS_result[0]/num_games\n",
        "# print(f\"\\nWin rate for player1 over {num_games} games: {round(win_rate_player1*100, 1)}%\")\n"
      ]
    },
    {
      "cell_type": "markdown",
      "metadata": {
        "execution": {},
        "id": "sRNrsrW_QTF2"
      },
      "source": [
        "[*Click for solution*](https://github.com/NeuromatchAcademy/course-content-dl/tree/main//tutorials/W3D3_ReinforcementLearningForGames/solutions/W3D3_Tutorial1_Solution_e2bee612.py)\n",
        "\n"
      ]
    },
    {
      "cell_type": "markdown",
      "metadata": {
        "execution": {},
        "id": "K47_NBz4QTF3"
      },
      "source": [
        "```\n",
        "Number of games won by player1 = 19, num of games won by player2 = 1, out of 20 games\n",
        "\n",
        "Win rate for player1 over 20 games: 95.0%\n",
        "```"
      ]
    },
    {
      "cell_type": "markdown",
      "metadata": {
        "execution": {},
        "id": "1oICDiK7QTF3"
      },
      "source": [
        "### MCTS player against Value-based player"
      ]
    },
    {
      "cell_type": "code",
      "execution_count": null,
      "metadata": {
        "execution": {},
        "id": "hvxn9rGrQTF3"
      },
      "outputs": [],
      "source": [
        "print(\"\\n******MCTS player versus value-based player******\")\n",
        "set_seed(seed=SEED)\n",
        "vp = ValueBasedPlayer(game, vnet).play  # Value-based player\n",
        "arena = Arena.Arena(n1p, vp, game, display=OthelloGame.display)\n",
        "MC_result = arena.playGames(num_games, verbose=False)\n",
        "print(f\"\\n\\n{MC_result}\")\n",
        "print(\n",
        "    f\"\\nNumber of games won by player1 = {MC_result[0]}, \"\n",
        "    f\"number of games won by player2 = {MC_result[1]}, out of {num_games} games\"\n",
        ")\n",
        "win_rate_player1 = MC_result[0] / num_games\n",
        "print(\n",
        "    f\"\\nWin rate for player1 over {num_games} games: {round(win_rate_player1*100, 1)}%\"\n",
        ")\n"
      ]
    },
    {
      "cell_type": "markdown",
      "metadata": {
        "execution": {},
        "id": "6FZeP1sZQTF3"
      },
      "source": [
        "```\n",
        "Number of games won by player1 = 14, number of games won by player2 = 6, out of 20 games\n",
        "\n",
        "Win rate for player1 over 20 games: 70.0%\n",
        "```"
      ]
    },
    {
      "cell_type": "markdown",
      "metadata": {
        "execution": {},
        "id": "uLso3PH9QTF3"
      },
      "source": [
        "### MCTS player against Policy-based player"
      ]
    },
    {
      "cell_type": "code",
      "execution_count": null,
      "metadata": {
        "execution": {},
        "id": "--10H8llQTF3"
      },
      "outputs": [],
      "source": [
        "print(\"\\n******MCTS player versus policy-based player******\")\n",
        "set_seed(seed=SEED)\n",
        "pp = PolicyBasedPlayer(game, pnet).play  # Policy-based player\n",
        "arena = Arena.Arena(n1p, pp, game, display=OthelloGame.display)\n",
        "MC_result = arena.playGames(num_games, verbose=False)\n",
        "print(f\"\\n\\n{MC_result}\")\n",
        "print(\n",
        "    f\"\\nNumber of games won by player1 = {MC_result[0]}, \"\n",
        "    f\"number of games won by player2 = {MC_result[1]}, out of {num_games} games\"\n",
        ")\n",
        "win_rate_player1 = MC_result[0] / num_games\n",
        "print(\n",
        "    f\"\\nWin rate for player1 over {num_games} games: {round(win_rate_player1*100, 1)}%\"\n",
        ")\n"
      ]
    },
    {
      "cell_type": "markdown",
      "metadata": {
        "execution": {},
        "id": "PgAm5brnQTF3"
      },
      "source": [
        "```\n",
        "Number of games won by player1 = 20, number of games won by player2 = 0, out of 20 games\n",
        "\n",
        "Win rate for player1 over 20 games: 100.0%\n",
        "```"
      ]
    },
    {
      "cell_type": "code",
      "execution_count": null,
      "metadata": {},
      "outputs": [],
      "source": [
        "#@title .\n",
        "DatatopsContentReviewContainer(\n",
        "    \"\",\n",
        "    \"W12D1_MCTS\",\n",
        "    {\n",
        "        \"url\": dt_url,\n",
        "        \"name\": feedback_name,\n",
        "        \"user_key\": feedback_dtid,\n",
        "    }\n",
        ").render()"
      ]
    }
  ],
  "metadata": {
    "accelerator": "GPU",
    "colab": {
      "collapsed_sections": [],
      "name": "CIS_522_W13D1_Tutorial_–_Student_Version.ipynb",
      "provenance": [],
      "toc_visible": true
    },
    "kernel": {
      "display_name": "Python 3",
      "language": "python",
      "name": "python3"
    },
    "kernelspec": {
      "display_name": "Python 3",
      "name": "python3"
    },
    "language_info": {
      "codemirror_mode": {
        "name": "ipython",
        "version": 3
      },
      "file_extension": ".py",
      "mimetype": "text/x-python",
      "name": "python",
      "nbconvert_exporter": "python",
      "pygments_lexer": "ipython3",
      "version": "3.10.6"
    }
  },
  "nbformat": 4,
  "nbformat_minor": 0
}
