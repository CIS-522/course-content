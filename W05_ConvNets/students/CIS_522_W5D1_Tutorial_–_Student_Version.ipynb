{
  "cells": [
    {
      "attachments": {},
      "cell_type": "markdown",
      "metadata": {
        "id": "X2kPrtVyXtaP"
      },
      "source": [
        "# CIS-522 Week 5 Part 1\n",
        "# Convolutional Neural Networks : The Fundamentals\n",
        "\n",
        "__Instructor__: Konrad Kording\n",
        "\n",
        "__Content creators:__ Hmrishav Bandyopadhyay, Rahul Shekhar, Tejas Srivastava\n",
        "\n",
        "__Content reviewers:__  Tejas Srivastava, Ann-Katrin Reuel"
      ]
    },
    {
      "cell_type": "code",
      "execution_count": 2,
      "metadata": {
        "cellView": "form",
        "id": "e6GnDC12UtUD",
        "vscode": {
          "languageId": "python"
        }
      },
      "outputs": [],
      "source": [
        "#@markdown What is your Pennkey and pod? (text, not numbers, e.g. bfranklin)\n",
        "my_pennkey = '' #@param {type:\"string\"}\n",
        "my_pod = \"Select\"  # @param [\"Factorial Ferrets\", \"Causal Crows\", \"Recursive Roosters\", \"Bayesian Bighorns\", \"Probabilistic Pronghorns\", \"Hashing Hares\", \"Multiplicative Mustangs\", \"Curiosity Capybaras\", \"Subspace Salamanders\"]\n",
        "my_email = '' #@param {type:\"string\"}\n",
        "tutorial = 'W6D1'\n",
        "\n",
        "# start timing\n",
        "import time\n",
        "try:t0;\n",
        "except NameError: t0 = time.time()"
      ]
    },
    {
      "cell_type": "markdown",
      "metadata": {
        "id": "p2DuJddRXxYY"
      },
      "source": [
        "---\n",
        "# Tutorial Objectives\n",
        "At the end of this tutorial, we will be able to:\n",
        "- be able to implement convolution as an operation\n",
        "- be able to define what convolution is.\n",
        "- be able to understand pooling\n",
        "- be able to code a simple CNN in Pytorch\n",
        "\n",
        " "
      ]
    },
    {
      "cell_type": "markdown",
      "metadata": {
        "id": "vgOQxVS1X2dB"
      },
      "source": [
        "---\n",
        "# Setup"
      ]
    },
    {
      "cell_type": "code",
      "execution_count": 2,
      "metadata": {
        "cellView": "form",
        "id": "azn8UA_IgJT4",
        "vscode": {
          "languageId": "python"
        }
      },
      "outputs": [],
      "source": [
        "#@title Dependencies\n",
        "!pip install livelossplot --quiet"
      ]
    },
    {
      "cell_type": "code",
      "execution_count": 3,
      "metadata": {
        "colab": {
          "base_uri": "https://localhost:8080/"
        },
        "id": "fZue0ldzOv_J",
        "outputId": "c1506c8d-014c-4c8a-a0e3-6b1c99d5a23f",
        "vscode": {
          "languageId": "python"
        }
      },
      "outputs": [
        {
          "data": {
            "text/plain": [
              "(device(type='cuda'), 1)"
            ]
          },
          "execution_count": 3,
          "metadata": {},
          "output_type": "execute_result"
        }
      ],
      "source": [
        "# Imports\n",
        "\n",
        "import os\n",
        "import cv2\n",
        "from tqdm.auto import tqdm\n",
        "\n",
        "import time\n",
        "import torch\n",
        "import pathlib\n",
        "import numpy as np\n",
        "import matplotlib.pyplot as plt\n",
        "\n",
        "import torch.nn as nn\n",
        "import torch.optim as optim\n",
        "import torch.nn.functional as F\n",
        "import torchvision.transforms as transforms\n",
        "from torchvision.datasets import ImageFolder\n",
        "import torchvision.datasets as datasets\n",
        "from torch.utils.data import DataLoader, TensorDataset\n",
        "from torchvision.utils import make_grid\n",
        "from IPython.display import HTML, display\n",
        "\n",
        "from tqdm.notebook import tqdm, trange\n",
        "from time import sleep\n",
        "\n",
        "device = torch.device(\"cuda\" if torch.cuda.is_available() else \"cpu\")\n",
        "device, torch.get_num_threads()"
      ]
    },
    {
      "cell_type": "code",
      "execution_count": 4,
      "metadata": {
        "cellView": "form",
        "id": "YRZ-A9qBMDWF",
        "vscode": {
          "languageId": "python"
        }
      },
      "outputs": [],
      "source": [
        "# @title Figure Settings\n",
        "%config InlineBackend.figure_format = 'retina'\n",
        "%matplotlib inline \n",
        "\n",
        "fig_w, fig_h = (8, 6)\n",
        "plt.rcParams.update({'figure.figsize': (fig_w, fig_h)})\n",
        "\n",
        "plt.rcParams[\"mpl_toolkits.legacy_colorbar\"] = False\n",
        "\n",
        "import warnings\n",
        "warnings.filterwarnings(\"ignore\", category=UserWarning, module=\"matplotlib\")\n",
        "\n",
        "\n",
        "plt.style.use(\"https://raw.githubusercontent.com/NeuromatchAcademy/\"\n",
        "              \"course-content/master/nma.mplstyle\")"
      ]
    },
    {
      "cell_type": "code",
      "execution_count": 5,
      "metadata": {
        "cellView": "form",
        "colab": {
          "base_uri": "https://localhost:8080/"
        },
        "id": "d0xGiq-bL_Qk",
        "outputId": "b142690d-ecf9-4a05-ec03-2021f5d27996",
        "vscode": {
          "languageId": "python"
        }
      },
      "outputs": [
        {
          "name": "stdout",
          "output_type": "stream",
          "text": [
            "Seed has been set.\n"
          ]
        }
      ],
      "source": [
        "# @title Set seed for reproducibility\n",
        "seed = 2021\n",
        "torch.manual_seed(seed)\n",
        "torch.cuda.manual_seed_all(seed)\n",
        "torch.cuda.manual_seed(seed)\n",
        "np.random.seed(seed)\n",
        "torch.backends.cudnn.deterministic = True\n",
        "torch.backends.cudnn.benchmark = False\n",
        "def seed_worker(worker_id):\n",
        "  worker_seed = torch.initial_seed() % 2**32\n",
        "  np.random.seed(worker_seed)\n",
        "  random.seed(worker_seed)\n",
        "\n",
        "print ('Seed has been set.')"
      ]
    },
    {
      "cell_type": "markdown",
      "metadata": {
        "id": "SG3iPDUaxSLv"
      },
      "source": [
        "---\n",
        "# Recap the Experience from Last Week\n",
        "\n",
        "Last week we saw how overparametrized ANNs are efficient universal approximators due to adaptive basis functions and also how ANN’s memorize some but generalize well. We also looked at several regularization techniques such as *L1*, *L2*, *Data Augmentation*, and *Dropout*. \n",
        "\n",
        "\n",
        "\n"
      ]
    },
    {
      "cell_type": "code",
      "execution_count": 6,
      "metadata": {
        "cellView": "form",
        "colab": {
          "base_uri": "https://localhost:8080/",
          "height": 518
        },
        "id": "pXIP2n6DtpSh",
        "outputId": "68b09f92-786f-48ad-9322-19ca2ef0e489",
        "vscode": {
          "languageId": "python"
        }
      },
      "outputs": [
        {
          "name": "stdout",
          "output_type": "stream",
          "text": [
            "Video available at https://youtube.com/watch?v=xMKKVMjQNhY\n"
          ]
        },
        {
          "data": {
            "image/jpeg": "[encoded data removed]",
            "text/html": [
              "\n",
              "        <iframe\n",
              "            width=\"854\"\n",
              "            height=\"480\"\n",
              "            src=\"https://www.youtube.com/embed/xMKKVMjQNhY?fs=1\"\n",
              "            frameborder=\"0\"\n",
              "            allowfullscreen\n",
              "        ></iframe>\n",
              "        "
            ],
            "text/plain": [
              "<IPython.lib.display.YouTubeVideo at 0x7f627827ffd0>"
            ]
          },
          "execution_count": 6,
          "metadata": {},
          "output_type": "execute_result"
        }
      ],
      "source": [
        "#@title Video: Discussing Week 5 - Regularization\n",
        "import time\n",
        "try: t0;\n",
        "except NameError: t0=time.time()\n",
        "\n",
        "from IPython.display import YouTubeVideo\n",
        "\n",
        "video = YouTubeVideo(id=\"xMKKVMjQNhY\", width=854, height=480, fs=1)\n",
        "print(\"Video available at https://youtube.com/watch?v=\" + video.id)\n",
        "\n",
        "video"
      ]
    },
    {
      "cell_type": "markdown",
      "metadata": {
        "id": "GPRsrvzvbuGY"
      },
      "source": [
        "---\n",
        "# Section 1: Background on CNNs "
      ]
    },
    {
      "cell_type": "code",
      "execution_count": 8,
      "metadata": {
        "colab": {
          "base_uri": "https://localhost:8080/",
          "height": 518
        },
        "id": "E3r0QSfiw7b_",
        "outputId": "e38f3e19-d361-48f9-f880-225ef7dcfb9e",
        "vscode": {
          "languageId": "python"
        }
      },
      "outputs": [
        {
          "name": "stdout",
          "output_type": "stream",
          "text": [
            "Video available at https://youtube.com/watch?v=x-SYSSBmEX4\n"
          ]
        },
        {
          "data": {
            "image/jpeg": "[encoded data removed]",
            "text/html": [
              "\n",
              "        <iframe\n",
              "            width=\"854\"\n",
              "            height=\"480\"\n",
              "            src=\"https://www.youtube.com/embed/x-SYSSBmEX4?fs=1\"\n",
              "            frameborder=\"0\"\n",
              "            allowfullscreen\n",
              "        ></iframe>\n",
              "        "
            ],
            "text/plain": [
              "<IPython.lib.display.YouTubeVideo at 0x7f627827fd10>"
            ]
          },
          "execution_count": 8,
          "metadata": {},
          "output_type": "execute_result"
        }
      ],
      "source": [
        "#@title Video: History of CNNs and Good Representations\n",
        "import time\n",
        "try: t1;\n",
        "except NameError: t1=time.time()\n",
        "\n",
        "from IPython.display import YouTubeVideo\n",
        "\n",
        "video = YouTubeVideo(id=\"x-SYSSBmEX4\", width=854, height=480, fs=1)\n",
        "print(\"Video available at https://youtube.com/watch?v=\" + video.id)\n",
        "\n",
        "video"
      ]
    },
    {
      "cell_type": "markdown",
      "metadata": {
        "id": "fbNdrkv-Ja18"
      },
      "source": [
        "At a high level, a CNN attempts to generate a feature representation of an image that can be used to determine what the object is. This means that the network will try to decipher which characteristics - for a human, it could be the detection of two legs and structure of the face - are important to differentiate between objects. "
      ]
    },
    {
      "cell_type": "code",
      "execution_count": 9,
      "metadata": {
        "cellView": "form",
        "id": "2NIEVs2kapmK",
        "vscode": {
          "languageId": "python"
        }
      },
      "outputs": [],
      "source": [
        "#@title Quiz Question 1\n",
        "#@markdown ImageNet is one of the largest image databases. Let us take 4 categories within this dataset - animal, plant, activity, and food. What features do you think you would use to classify an image into one of these categories?\n",
        "imagenet_features = '' #@param {type:\"string\"}"
      ]
    },
    {
      "cell_type": "markdown",
      "metadata": {
        "id": "nfn_ge-PN4jL"
      },
      "source": [
        "---\n",
        "# Section 2: Neural Analogy"
      ]
    },
    {
      "cell_type": "code",
      "execution_count": 10,
      "metadata": {
        "cellView": "form",
        "colab": {
          "base_uri": "https://localhost:8080/",
          "height": 518
        },
        "id": "EpMayL-qNnIj",
        "outputId": "cb4df371-7a44-4508-f270-0c66dffe4c7d",
        "vscode": {
          "languageId": "python"
        }
      },
      "outputs": [
        {
          "name": "stdout",
          "output_type": "stream",
          "text": [
            "Video available at https://youtube.com/watch?v=cndkwecg52M\n"
          ]
        },
        {
          "data": {
            "image/jpeg": "[encoded data removed]",
            "text/html": [
              "\n",
              "        <iframe\n",
              "            width=\"854\"\n",
              "            height=\"480\"\n",
              "            src=\"https://www.youtube.com/embed/cndkwecg52M?fs=1\"\n",
              "            frameborder=\"0\"\n",
              "            allowfullscreen\n",
              "        ></iframe>\n",
              "        "
            ],
            "text/plain": [
              "<IPython.lib.display.YouTubeVideo at 0x7f638b8d6150>"
            ]
          },
          "execution_count": 10,
          "metadata": {},
          "output_type": "execute_result"
        }
      ],
      "source": [
        "#@title Video: Electrophysiology Introduction\n",
        "import time\n",
        "try: t2;\n",
        "except NameError: t2=time.time()\n",
        "\n",
        "from IPython.display import YouTubeVideo\n",
        "\n",
        "video = YouTubeVideo(id=\"cndkwecg52M\", width=854, height=480, fs=1)\n",
        "print(\"Video available at https://youtube.com/watch?v=\" + video.id)\n",
        "\n",
        "video"
      ]
    },
    {
      "cell_type": "markdown",
      "metadata": {
        "id": "lkuxYZ_-lJIr"
      },
      "source": [
        "---\n",
        "# Section 3: Spatial Invariance\n",
        "Imagine that you want to detect an object in an image. It seems reasonable that whatever method we use to recognize objects should not be overly concerned with the precise location of the object in the image. Ideally, our system should exploit this knowledge. Pigs usually do not fly and planes usually do not swim. Nonetheless, we should still recognize a pig was the one to appear at the top of the image. This is what we refer to as *spatial invariance* i.e the position of the object in the image does not play a role in recognizing the object itself.\n"
      ]
    },
    {
      "cell_type": "code",
      "execution_count": 11,
      "metadata": {
        "cellView": "form",
        "id": "LVPuyjQXZz43",
        "vscode": {
          "languageId": "python"
        }
      },
      "outputs": [],
      "source": [
        "#@title ## Quiz Question 2\n",
        "#@markdown Do you think that fully connected networks that you have been using till now accomplish this task? Why/Why not?\n",
        "fcn_invariance = '' #@param {type:\"string\"}"
      ]
    },
    {
      "cell_type": "markdown",
      "metadata": {
        "id": "vZWoqL2jbZbx"
      },
      "source": [
        "---\n",
        "#Section 4: Convolutions"
      ]
    },
    {
      "cell_type": "code",
      "execution_count": 12,
      "metadata": {
        "cellView": "form",
        "colab": {
          "base_uri": "https://localhost:8080/",
          "height": 518
        },
        "id": "xyYq3oxdJmm2",
        "outputId": "b6982865-a77b-417e-bbe3-7841bda95395",
        "vscode": {
          "languageId": "python"
        }
      },
      "outputs": [
        {
          "name": "stdout",
          "output_type": "stream",
          "text": [
            "Video available at https://youtube.com/watch?v=5cbf6wRjvJc\n"
          ]
        },
        {
          "data": {
            "image/jpeg": "[encoded data removed]",
            "text/html": [
              "\n",
              "        <iframe\n",
              "            width=\"854\"\n",
              "            height=\"480\"\n",
              "            src=\"https://www.youtube.com/embed/5cbf6wRjvJc?fs=1\"\n",
              "            frameborder=\"0\"\n",
              "            allowfullscreen\n",
              "        ></iframe>\n",
              "        "
            ],
            "text/plain": [
              "<IPython.lib.display.YouTubeVideo at 0x7f627829e9d0>"
            ]
          },
          "execution_count": 12,
          "metadata": {},
          "output_type": "execute_result"
        }
      ],
      "source": [
        "#@title Video: How to Perform Convolutions?\n",
        "import time\n",
        "try: t3;\n",
        "except NameError: t3=time.time()\n",
        "\n",
        "from IPython.display import YouTubeVideo\n",
        "\n",
        "video = YouTubeVideo(id=\"5cbf6wRjvJc\", width=854, height=480, fs=1)\n",
        "print(\"Video available at https://youtube.com/watch?v=\" + video.id)\n",
        "\n",
        "video"
      ]
    },
    {
      "cell_type": "markdown",
      "metadata": {
        "id": "b4L0Kt9fefOY"
      },
      "source": [
        "## Exercise 4.1: Code a convolution.\n",
        "Here we have given a function that performs a convolution on a provided image. Fill in the missing lines of code."
      ]
    },
    {
      "cell_type": "code",
      "execution_count": 13,
      "metadata": {
        "id": "1sfK2fO8gT9z",
        "vscode": {
          "languageId": "python"
        }
      },
      "outputs": [],
      "source": [
        "def convolution2d(image, kernel):\n",
        "    m, n = kernel.shape\n",
        "    # Note: We are dealing with a square kernel here, only for simplicity.\n",
        "    # It is very much possible to perform the same on kernels with different heights and widths!\n",
        "    if (m == n):\n",
        "        y, x = image.shape\n",
        "        ####################################################################\n",
        "        # Fill in missing code below (...),\n",
        "        # then remove or comment the line below to test your function\n",
        "        raise NotImplementedError(\"perform the convolution\")\n",
        "        ####################################################################\n",
        "        # Hint: x_op and y_op will be the output dimensions, initialize them\n",
        "        y_op = ... \n",
        "        x_op = ...\n",
        "        convolved_image = np.zeros((y_op, x_op))\n",
        "        # Hint: Now perform the actual convolution\n",
        "        for i in range(y_op):\n",
        "            for j in range(x_op):\n",
        "                ####################################################################\n",
        "                # Fill in missing code below (...),\n",
        "                # then remove or comment the line below to test your function\n",
        "                raise NotImplementedError(\"perform the convolution\")\n",
        "                ####################################################################\n",
        "                convolved_image[i][j] = ...\n",
        "    \n",
        "    return convolved_image\n",
        "\n",
        "### Uncomment below to test your function\n",
        "# image = np.arange(9).reshape(3, 3)\n",
        "# print(\"Image:\\n\",image)\n",
        "# kernel = np.arange(4).reshape(2, 2)\n",
        "# print(\"Kernel:\\n\",kernel)\n",
        "# print(\"Convolved output:\\n\",convolution2d(image, kernel))"
      ]
    },
    {
      "cell_type": "markdown",
      "metadata": {
        "id": "snrmqx37eWlv"
      },
      "source": [
        "Great! At this point, you should have a fair idea of how to perform a convolution on an image given a kernel. In the following cell, we will show you how you can set up a CNN to perform the exact same convolution as above."
      ]
    },
    {
      "cell_type": "code",
      "execution_count": 15,
      "metadata": {
        "id": "Wp8wKR0dGJcG",
        "vscode": {
          "languageId": "python"
        }
      },
      "outputs": [],
      "source": [
        "class Net(nn.Module):\n",
        "  def __init__(self, kernel=None, padding=0):\n",
        "    super(Net, self).__init__()\n",
        "    self.conv1 = nn.Conv2d(in_channels=1, out_channels=1, kernel_size=3, padding=padding)\n",
        "      \n",
        "    # set up kernel \n",
        "    if kernel is not None:\n",
        "      dim1, dim2 = kernel.shape[0], kernel.shape[1]\n",
        "      kernel = kernel.reshape(1, 1, dim1, dim2)\n",
        "  \n",
        "      self.conv1.weight = torch.nn.Parameter(kernel)\n",
        "      self.conv1.bias = torch.nn.Parameter(torch.zeros_like(self.conv1.bias))\n",
        "            \n",
        "  def forward(self, x):\n",
        "    x = self.conv1(x)\n",
        "    return x\n"
      ]
    },
    {
      "cell_type": "code",
      "execution_count": 16,
      "metadata": {
        "colab": {
          "base_uri": "https://localhost:8080/"
        },
        "id": "zG4wfFG4GVpV",
        "outputId": "3628836d-5e47-4494-e96d-baaa655f994d",
        "vscode": {
          "languageId": "python"
        }
      },
      "outputs": [
        {
          "data": {
            "text/plain": [
              "tensor([[[[19., 25.],\n",
              "          [37., 43.]]]], device='cuda:0', grad_fn=<AddBackward0>)"
            ]
          },
          "execution_count": 16,
          "metadata": {},
          "output_type": "execute_result"
        }
      ],
      "source": [
        "kernel = torch.Tensor(np.arange(4).reshape(2, 2))\n",
        "net = Net(kernel=kernel, padding=0).to(device)\n",
        "\n",
        "# set up image \n",
        "image = torch.Tensor(np.arange(9).reshape(3, 3))\n",
        "image = image.reshape(1, 1, 3, 3).to(device) # BatchSize X Channels X Height X Width\n",
        "\n",
        "output = net(image)\n",
        "output"
      ]
    },
    {
      "cell_type": "markdown",
      "metadata": {
        "id": "t-y4CYXlzMM2"
      },
      "source": [
        "As a quick aside, notice the difference in the input and output size. The input had a size of $3 \\times 3$ and the output is of size $2 \\times 2$. This is because the edges get missed out as then the kernel would be out of bounds of the image. If we don't want to lose that information, we will have to pad the image with $0$s on the edges. This process is called padding."
      ]
    },
    {
      "cell_type": "code",
      "execution_count": 17,
      "metadata": {
        "colab": {
          "base_uri": "https://localhost:8080/"
        },
        "id": "1ErUf9DrjAlY",
        "outputId": "b43f7c7d-2c98-47c3-8444-a0dacffd728c",
        "vscode": {
          "languageId": "python"
        }
      },
      "outputs": [
        {
          "data": {
            "text/plain": [
              "tensor([[[[ 0.,  3.,  8.,  4.],\n",
              "          [ 9., 19., 25., 10.],\n",
              "          [21., 37., 43., 16.],\n",
              "          [ 6.,  7.,  8.,  0.]]]], device='cuda:0', grad_fn=<AddBackward0>)"
            ]
          },
          "execution_count": 17,
          "metadata": {},
          "output_type": "execute_result"
        }
      ],
      "source": [
        "net = Net(kernel=kernel, padding=1).to(device)\n",
        "output = net(image)\n",
        "output"
      ]
    },
    {
      "cell_type": "markdown",
      "metadata": {
        "id": "MrK6ajMyf8Aq"
      },
      "source": [
        "---\n",
        "# Section 5: Edge Detection\n",
        "\n"
      ]
    },
    {
      "cell_type": "code",
      "execution_count": 18,
      "metadata": {
        "cellView": "form",
        "colab": {
          "base_uri": "https://localhost:8080/",
          "height": 518
        },
        "id": "iZ_Me8UCLXPC",
        "outputId": "8bcc3cbb-5694-4c97-b629-adb2239fa647",
        "vscode": {
          "languageId": "python"
        }
      },
      "outputs": [
        {
          "name": "stdout",
          "output_type": "stream",
          "text": [
            "Video available at https://youtube.com/watch?v=mNbYB0C8OO0\n"
          ]
        },
        {
          "data": {
            "image/jpeg": "[encoded data removed]",
            "text/html": [
              "\n",
              "        <iframe\n",
              "            width=\"854\"\n",
              "            height=\"480\"\n",
              "            src=\"https://www.youtube.com/embed/mNbYB0C8OO0?fs=1\"\n",
              "            frameborder=\"0\"\n",
              "            allowfullscreen\n",
              "        ></iframe>\n",
              "        "
            ],
            "text/plain": [
              "<IPython.lib.display.YouTubeVideo at 0x7f62782b0d10>"
            ]
          },
          "execution_count": 18,
          "metadata": {},
          "output_type": "execute_result"
        }
      ],
      "source": [
        "#@title Video: Padding and Edge Detection \n",
        "import time\n",
        "try: t4;\n",
        "except NameError: t4=time.time()\n",
        "\n",
        "from IPython.display import YouTubeVideo\n",
        "\n",
        "video = YouTubeVideo(id=\"mNbYB0C8OO0\", width=854, height=480, fs=1)\n",
        "print(\"Video available at https://youtube.com/watch?v=\" + video.id)\n",
        "\n",
        "video"
      ]
    },
    {
      "cell_type": "markdown",
      "metadata": {
        "id": "zSBWXIVFL6p1"
      },
      "source": [
        "One of the simpler tasks performed by a convolution layer is edge detection by detecting the change in the value of pixels. This is usually learned by the first couple of layers in the network. Look at the following very simple kernel and discuss whether this will detect vertical or horizontal edges.\n",
        "\n",
        "\n",
        "$$ \\textbf{Kernel} = \n",
        "\\begin{bmatrix} 1 & -1 \\\\ 1 & -1\n",
        "\\end{bmatrix} \n",
        "$$"
      ]
    },
    {
      "cell_type": "code",
      "execution_count": 19,
      "metadata": {
        "cellView": "form",
        "id": "TxsH98yNgiZR",
        "vscode": {
          "languageId": "python"
        }
      },
      "outputs": [],
      "source": [
        "#@title ## Quiz Question 3\n",
        "#@markdown What kind of edges do you think this will generate? (open-ended question, no right or wrong answer)\n",
        "edge_generate = '' #@param {type:\"string\"}"
      ]
    },
    {
      "cell_type": "markdown",
      "metadata": {
        "id": "DZ88bQ7fdguH"
      },
      "source": [
        "Here, we start with an image that has three vertical regions with the darker shade in the middle and the lighter shade in the surrounding regions. It can also be thought of as a very zoomed-in vertical edge within an image!"
      ]
    },
    {
      "cell_type": "code",
      "execution_count": 20,
      "metadata": {
        "colab": {
          "base_uri": "https://localhost:8080/",
          "height": 430
        },
        "id": "jrEhsH_HjazE",
        "outputId": "e3d90c05-89ef-4717-e214-d7869d5146db",
        "vscode": {
          "languageId": "python"
        }
      },
      "outputs": [
        {
          "data": {
            "image/png": "[encoded data removed]",
            "text/plain": [
              "<Figure size 576x432 with 1 Axes>"
            ]
          },
          "metadata": {
            "image/png": {
              "height": 413,
              "width": 536
            },
            "needs_background": "light"
          },
          "output_type": "display_data"
        }
      ],
      "source": [
        "X = np.ones((6, 8))\n",
        "X[:, 2:6] = 0\n",
        "plt.imshow(X, cmap=plt.get_cmap('gray'))\n",
        "plt.show()"
      ]
    },
    {
      "cell_type": "code",
      "execution_count": 21,
      "metadata": {
        "id": "ESs3KXw_kNZ1",
        "vscode": {
          "languageId": "python"
        }
      },
      "outputs": [],
      "source": [
        "image = torch.from_numpy(X)\n",
        "image = image.reshape(1, 1, 6, 8) # BatchSize X Channels X Height X Width\n",
        "kernel = torch.Tensor([[1.0, -1.0],[1.0, -1.0]])\n",
        "net = Net(kernel=kernel)\n",
        "edges = net(image.float())"
      ]
    },
    {
      "cell_type": "code",
      "execution_count": 22,
      "metadata": {
        "colab": {
          "base_uri": "https://localhost:8080/",
          "height": 428
        },
        "id": "YML7E2ionFn4",
        "outputId": "4d5079e4-1e7e-4088-d969-35ef6d94c1bf",
        "vscode": {
          "languageId": "python"
        }
      },
      "outputs": [
        {
          "data": {
            "image/png": "[encoded data removed]",
            "text/plain": [
              "<Figure size 576x432 with 1 Axes>"
            ]
          },
          "metadata": {
            "image/png": {
              "height": 411,
              "width": 558
            },
            "needs_background": "light"
          },
          "output_type": "display_data"
        }
      ],
      "source": [
        "plt.imshow(edges.reshape(5, 7).detach().numpy(), cmap=plt.get_cmap('gray'))\n",
        "plt.show()"
      ]
    },
    {
      "cell_type": "markdown",
      "metadata": {
        "id": "StMvgaCweLot"
      },
      "source": [
        "The convolved output basically highlights both the vertical transitions in going from a lighter shade to darker and from darker to lighter. Thus, helping us detect the vertical edges in the input image.  "
      ]
    },
    {
      "cell_type": "code",
      "execution_count": 23,
      "metadata": {
        "cellView": "form",
        "id": "auMcCa-vgMfB",
        "vscode": {
          "languageId": "python"
        }
      },
      "outputs": [],
      "source": [
        "#@title ## Quiz Question 4\n",
        "#@markdown As you can see, this kernel detects vertical edges. If the kernel was transposed, what would would be produced by running this kernel?\n",
        "transpose_kernel = '' #@param {type:\"string\"}"
      ]
    },
    {
      "cell_type": "markdown",
      "metadata": {
        "id": "kQW6YoF6DvmJ"
      },
      "source": [
        "We will come back to strides in the MaxPool section."
      ]
    },
    {
      "cell_type": "markdown",
      "metadata": {
        "id": "0B-vTn5ipEhh"
      },
      "source": [
        "---\n",
        "# Section 6: Visualizing the Primary Components of a CNN"
      ]
    },
    {
      "cell_type": "markdown",
      "metadata": {
        "id": "8d5Tx2_6kopU"
      },
      "source": [
        "To visualize the various components of a CNN, we will build a simple CNN step by step. Remember how we've already used the MNIST dataset that consisted of binary images of handwritten digits. This time we will be using the EMNIST letters dataset, which consists of handwritten characters ($A \\rightarrow Z$).\n",
        "\n",
        "We will simplify the problem further by only keeping the images that correspond to $X$ (labeled as 24 in the dataset) and $O$ (labeled as 15 in the dataset) and building a CNN that can classify an image either $X$ or $O$."
      ]
    },
    {
      "cell_type": "code",
      "execution_count": 24,
      "metadata": {
        "cellView": "form",
        "id": "mpQsS7VsMN28",
        "vscode": {
          "languageId": "python"
        }
      },
      "outputs": [],
      "source": [
        "#@title Dataset/DataLoader Functions\n",
        "#@markdown Run this cell\n",
        "\n",
        "# loading the dataset \n",
        "def get_Xvs0_dataset():\n",
        "\n",
        "    transform = transforms.Compose([\n",
        "        transforms.ToTensor(),\n",
        "        transforms.Normalize((0.1307,), (0.3081,))\n",
        "        ])\n",
        "    emnist_train = datasets.EMNIST(root='./data', split='letters', download=True, train=True, transform=transform)\n",
        "    emnist_test = datasets.EMNIST(root='./data', split='letters', download=True, train=False, transform=transform)\n",
        "\n",
        "    # only want O (15) and X (24) labels \n",
        "    train_idx = (emnist_train.targets == 15) | (emnist_train.targets == 24)\n",
        "    emnist_train.targets = emnist_train.targets[train_idx]\n",
        "    emnist_train.data = emnist_train.data[train_idx]  \n",
        "\n",
        "    # convert Xs predictions to 1, Os predictions to 0\n",
        "    emnist_train.targets = (emnist_train.targets == 24).type(torch.int64)\n",
        "\n",
        "    test_idx = (emnist_test.targets == 15) | (emnist_test.targets == 24)\n",
        "    emnist_test.targets = emnist_test.targets[test_idx]\n",
        "    emnist_test.data = emnist_test.data[test_idx]\n",
        "\n",
        "    # convert Xs predictions to 1, Os predictions to 0\n",
        "    emnist_test.targets = (emnist_test.targets == 24).type(torch.int64)\n",
        "\n",
        "    return emnist_train, emnist_test\n",
        "\n",
        "def get_data_loaders(train_dataset, test_dataset, batch_size=32):\n",
        "    train_loader = DataLoader(train_dataset, batch_size=batch_size,\n",
        "                         shuffle=True, num_workers=0)\n",
        "    test_loader = DataLoader(test_dataset, batch_size=batch_size,\n",
        "                         shuffle=True, num_workers=0)\n",
        "    \n",
        "    return train_loader, test_loader\n"
      ]
    },
    {
      "cell_type": "code",
      "execution_count": 25,
      "metadata": {
        "colab": {
          "base_uri": "https://localhost:8080/",
          "height": 83,
          "referenced_widgets": [
            "38cc16f9a54d47eeb49b99134179b79f",
            "078a19c595d9474e8dcac811d490a3e8",
            "c388acbe8d4c43f6967ef0338aaa06dc",
            "b1c45b877aeb4b12ae72da2df9daabf0",
            "9ed25c36067f4f1789658159cce8f911",
            "f330cd9d9dc948fb9fd72ef8f6e68807",
            "8072c6a6d7c64a2580b1548ecb4f51af",
            "367711c489d54648ac68d28a4c79c725",
            "ab8e154011784b11b7bea72099eb93ac",
            "5664213f352f4e09ace508861e7383da",
            "806c53d53173416f87dfc8875e508fa7"
          ]
        },
        "id": "Tvf-CCYjQPyO",
        "outputId": "8b9caf8f-b734-4d9e-903d-28084b24176e",
        "vscode": {
          "languageId": "python"
        }
      },
      "outputs": [
        {
          "name": "stdout",
          "output_type": "stream",
          "text": [
            "Downloading https://www.itl.nist.gov/iaui/vip/cs_links/EMNIST/gzip.zip to ./data/EMNIST/raw/gzip.zip\n"
          ]
        },
        {
          "data": {
            "application/vnd.jupyter.widget-view+json": {
              "model_id": "38cc16f9a54d47eeb49b99134179b79f",
              "version_major": 2,
              "version_minor": 0
            },
            "text/plain": [
              "  0%|          | 0/561753746 [00:00<?, ?it/s]"
            ]
          },
          "metadata": {},
          "output_type": "display_data"
        },
        {
          "name": "stdout",
          "output_type": "stream",
          "text": [
            "Extracting ./data/EMNIST/raw/gzip.zip to ./data/EMNIST/raw\n"
          ]
        }
      ],
      "source": [
        "emnist_train, emnist_test = get_Xvs0_dataset()\n",
        "train_loader, test_loader = get_data_loaders(emnist_train, emnist_test)\n",
        "\n",
        "# index of an image in the dataset that corresponds to an X and O\n",
        "x_img_idx = 11\n",
        "o_img_idx = 0"
      ]
    },
    {
      "cell_type": "markdown",
      "metadata": {
        "id": "r0KvshHFoDLW"
      },
      "source": [
        "Let's view a couple samples from the dataset."
      ]
    },
    {
      "cell_type": "code",
      "execution_count": 26,
      "metadata": {
        "colab": {
          "base_uri": "https://localhost:8080/",
          "height": 340
        },
        "id": "P5r5TWYan04J",
        "outputId": "754d4255-f121-4534-b799-e790b9b48ea2",
        "vscode": {
          "languageId": "python"
        }
      },
      "outputs": [
        {
          "data": {
            "image/png": "[encoded data removed]",
            "text/plain": [
              "<Figure size 1332x756 with 4 Axes>"
            ]
          },
          "metadata": {
            "image/png": {
              "height": 323,
              "width": 1314
            },
            "needs_background": "light"
          },
          "output_type": "display_data"
        }
      ],
      "source": [
        "fig, (ax1, ax2, ax3, ax4) = plt.subplots(1, 4)\n",
        "ax1.imshow(emnist_train[0][0].reshape(28, 28), cmap=plt.get_cmap('gray'))\n",
        "ax2.imshow(emnist_train[10][0].reshape(28, 28), cmap=plt.get_cmap('gray'))\n",
        "ax3.imshow(emnist_train[4][0].reshape(28, 28), cmap=plt.get_cmap('gray'))\n",
        "ax4.imshow(emnist_train[6][0].reshape(28, 28), cmap=plt.get_cmap('gray'))\n",
        "fig.set_size_inches(18.5, 10.5)\n",
        "plt.show()"
      ]
    },
    {
      "cell_type": "markdown",
      "metadata": {
        "id": "DQms9Z4loJtH"
      },
      "source": [
        "Great! Now, it's time to watch a video explaining the different components of a CNN."
      ]
    },
    {
      "cell_type": "code",
      "execution_count": 27,
      "metadata": {
        "cellView": "form",
        "colab": {
          "base_uri": "https://localhost:8080/",
          "height": 518
        },
        "id": "55mnSnoDO928",
        "outputId": "d0863c96-ad3f-4c55-8546-0e1f2a939142",
        "vscode": {
          "languageId": "python"
        }
      },
      "outputs": [
        {
          "name": "stdout",
          "output_type": "stream",
          "text": [
            "Video available at https://youtube.com/watch?v=kMCZKMbT5rk\n"
          ]
        },
        {
          "data": {
            "image/jpeg": "[encoded data removed]",
            "text/html": [
              "\n",
              "        <iframe\n",
              "            width=\"854\"\n",
              "            height=\"480\"\n",
              "            src=\"https://www.youtube.com/embed/kMCZKMbT5rk?fs=1\"\n",
              "            frameborder=\"0\"\n",
              "            allowfullscreen\n",
              "        ></iframe>\n",
              "        "
            ],
            "text/plain": [
              "<IPython.lib.display.YouTubeVideo at 0x7f6276148b10>"
            ]
          },
          "execution_count": 27,
          "metadata": {},
          "output_type": "execute_result"
        }
      ],
      "source": [
        "#@title Video: Multiple Filters, ReLU and Max Pool\n",
        "import time\n",
        "try: t5;\n",
        "except NameError: t5=time.time()\n",
        "\n",
        "from IPython.display import YouTubeVideo\n",
        "\n",
        "video = YouTubeVideo(id=\"kMCZKMbT5rk\", width=854, height=480, fs=1)\n",
        "print(\"Video available at https://youtube.com/watch?v=\" + video.id)\n",
        "\n",
        "video"
      ]
    },
    {
      "cell_type": "markdown",
      "metadata": {
        "id": "_QcK1TwrPfRa"
      },
      "source": [
        "## Section 6.1 Multiple Filters\n",
        "\n",
        "The following network sets up 3 filters and runs them on an $X$ image of the dataset."
      ]
    },
    {
      "cell_type": "code",
      "execution_count": 28,
      "metadata": {
        "id": "Omn-FNa79Vvv",
        "vscode": {
          "languageId": "python"
        }
      },
      "outputs": [],
      "source": [
        "class Net2(nn.Module):\n",
        "  def __init__(self, kernel=None, padding=0):\n",
        "    super(Net2, self).__init__()\n",
        "    self.conv1 = nn.Conv2d(in_channels=1, out_channels=3, kernel_size=3,\n",
        "                           padding=padding)\n",
        "\n",
        "    # first kernel - leading diagonal\n",
        "    kernel_1 = torch.unsqueeze(torch.Tensor([[1, -1, -1],\n",
        "                                             [-1, 1, -1],\n",
        "                                             [-1, -1, 1]]), 0)\n",
        "\n",
        "    # second kernel -checkerboard pattern\n",
        "    kernel_2 = torch.unsqueeze(torch.Tensor([[1, -1, 1],\n",
        "                                             [-1, 1, -1],\n",
        "                                             [1, -1, 1]]), 0)\n",
        "\n",
        "    # third kernel - other diagonal\n",
        "    kernel_3 = torch.unsqueeze(torch.Tensor([[-1, -1, 1],\n",
        "                                             [-1, 1, -1],\n",
        "                                             [1, -1, -1]]), 0)\n",
        "\n",
        "    multiple_kernels = torch.stack([kernel_1, kernel_2, kernel_3], dim=0)\n",
        "\n",
        "    self.conv1.weight = torch.nn.Parameter(multiple_kernels)\n",
        "    self.conv1.bias = torch.nn.Parameter(torch.zeros_like(self.conv1.bias))\n",
        "\n",
        "  def forward(self, x):\n",
        "    x = self.conv1(x)\n",
        "    return x"
      ]
    },
    {
      "cell_type": "code",
      "execution_count": 29,
      "metadata": {
        "id": "7koDhK8YB7eR",
        "vscode": {
          "languageId": "python"
        }
      },
      "outputs": [],
      "source": [
        "net2 = Net2().to(device)"
      ]
    },
    {
      "cell_type": "code",
      "execution_count": 30,
      "metadata": {
        "id": "a6cFWhDpFJwy",
        "vscode": {
          "languageId": "python"
        }
      },
      "outputs": [],
      "source": [
        "x_img = emnist_train[x_img_idx][0].unsqueeze(dim=0).to(device)\n",
        "output_x = net2(x_img)\n",
        "output_x = output_x.squeeze(dim=0).detach().cpu().numpy()\n",
        "\n",
        "o_img = emnist_train[o_img_idx][0].unsqueeze(dim=0).to(device)\n",
        "output_o = net2(o_img)\n",
        "output_o = output_o.squeeze(dim=0).detach().cpu().numpy()"
      ]
    },
    {
      "cell_type": "markdown",
      "metadata": {
        "id": "yqQl9T29pGtZ"
      },
      "source": [
        "Let us view the image of $X$ and $O$ that we want to run the filters on."
      ]
    },
    {
      "cell_type": "code",
      "execution_count": 31,
      "metadata": {
        "colab": {
          "base_uri": "https://localhost:8080/",
          "height": 860
        },
        "id": "zbjfWFL2EDC_",
        "outputId": "8b217de0-d99b-49a5-e8e8-6fbfc4f2bcf3",
        "vscode": {
          "languageId": "python"
        }
      },
      "outputs": [
        {
          "name": "stdout",
          "output_type": "stream",
          "text": [
            "ORIGINAL IMAGES\n"
          ]
        },
        {
          "data": {
            "image/png": "[encoded data removed]",
            "text/plain": [
              "<Figure size 576x432 with 1 Axes>"
            ]
          },
          "metadata": {
            "image/png": {
              "height": 413,
              "width": 417
            },
            "needs_background": "light"
          },
          "output_type": "display_data"
        },
        {
          "data": {
            "image/png": "[encoded data removed]",
            "text/plain": [
              "<Figure size 576x432 with 1 Axes>"
            ]
          },
          "metadata": {
            "image/png": {
              "height": 413,
              "width": 417
            },
            "needs_background": "light"
          },
          "output_type": "display_data"
        }
      ],
      "source": [
        "print(\"ORIGINAL IMAGES\")\n",
        "plt.imshow(emnist_train[x_img_idx][0].reshape(28, 28),\n",
        "           cmap=plt.get_cmap('gray'))\n",
        "plt.show()\n",
        "plt.imshow(emnist_train[o_img_idx][0].reshape(28, 28),\n",
        "           cmap=plt.get_cmap('gray'))\n",
        "plt.show()"
      ]
    },
    {
      "cell_type": "code",
      "execution_count": 32,
      "metadata": {
        "colab": {
          "base_uri": "https://localhost:8080/",
          "height": 464
        },
        "id": "iBNdyIFBHzhB",
        "outputId": "d744a238-8a65-4865-8cb4-c444c9953fe3",
        "vscode": {
          "languageId": "python"
        }
      },
      "outputs": [
        {
          "name": "stdout",
          "output_type": "stream",
          "text": [
            "CONVOLVED IMAGES\n"
          ]
        },
        {
          "data": {
            "image/png": "[encoded data removed]",
            "text/plain": [
              "<Figure size 1332x756 with 3 Axes>"
            ]
          },
          "metadata": {
            "image/png": {
              "height": 430,
              "width": 1312
            },
            "needs_background": "light"
          },
          "output_type": "display_data"
        }
      ],
      "source": [
        "print(\"CONVOLVED IMAGES\")\n",
        "fig, (ax1, ax2, ax3) = plt.subplots(1, 3)\n",
        "ax1.imshow(output_x[0], cmap=plt.get_cmap('gray'))\n",
        "ax2.imshow(output_x[1], cmap=plt.get_cmap('gray'))\n",
        "ax3.imshow(output_x[2], cmap=plt.get_cmap('gray'))\n",
        "fig.set_size_inches(18.5, 10.5)\n",
        "plt.show()"
      ]
    },
    {
      "cell_type": "code",
      "execution_count": 33,
      "metadata": {
        "colab": {
          "base_uri": "https://localhost:8080/",
          "height": 447
        },
        "id": "x1fQKiiIiYf4",
        "outputId": "46c66e28-6778-433f-cf79-60b9e6d51e46",
        "vscode": {
          "languageId": "python"
        }
      },
      "outputs": [
        {
          "data": {
            "image/png": "[encoded data removed]",
            "text/plain": [
              "<Figure size 1332x756 with 3 Axes>"
            ]
          },
          "metadata": {
            "image/png": {
              "height": 430,
              "width": 1312
            },
            "needs_background": "light"
          },
          "output_type": "display_data"
        }
      ],
      "source": [
        "fig, (ax1, ax2, ax3) = plt.subplots(1, 3)\n",
        "ax1.imshow(output_o[0], cmap=plt.get_cmap('gray'))\n",
        "ax2.imshow(output_o[1], cmap=plt.get_cmap('gray'))\n",
        "ax3.imshow(output_o[2], cmap=plt.get_cmap('gray'))\n",
        "fig.set_size_inches(18.5, 10.5)\n",
        "plt.show()"
      ]
    },
    {
      "cell_type": "code",
      "execution_count": 34,
      "metadata": {
        "cellView": "form",
        "id": "HsyHVgXaoqK3",
        "vscode": {
          "languageId": "python"
        }
      },
      "outputs": [],
      "source": [
        "#@title ## Quiz Question 5\n",
        "#@markdown How would these filters help to recognize an X?\n",
        "multiple_filters = '' #@param {type:\"string\"}"
      ]
    },
    {
      "cell_type": "markdown",
      "metadata": {
        "id": "HB_7ZQPOqTTH"
      },
      "source": [
        "## Section 6.2 ReLU after convolutions\n",
        "\n",
        "Note that the convolutional operation is still linear in nature. However, the inputs to our CNNs, which we want to identify and learn correctly, are naturally non-linear and complex. The purpose of applying the rectifier function is to increase the non-linearity in our model, which wants to learn complex features typically from an image.\n",
        "\n",
        "When you look at any image, you'll find it contains many non-linear features (e.g., the transition between pixels, the borders, the colors, etc.).\n",
        "\n",
        "The rectifier serves to break up the linearity even further to make up for the linearity that we might impose an image when we put it through the convolution operation. To see how that actually plays out, we can look at the following picture and see the changes that happen to it; it undergoes the convolution operation followed by rectification.\n"
      ]
    },
    {
      "cell_type": "markdown",
      "metadata": {
        "id": "KN4j46aqnBMA"
      },
      "source": [
        "Now let us apply ReLU to our previous model and visualize it."
      ]
    },
    {
      "cell_type": "code",
      "execution_count": 35,
      "metadata": {
        "id": "Iw7BRyclJI5V",
        "vscode": {
          "languageId": "python"
        }
      },
      "outputs": [],
      "source": [
        "class Net3(nn.Module):\n",
        "  def __init__(self, kernel=None, padding=0):\n",
        "    super(Net3, self).__init__()\n",
        "    self.conv1 = nn.Conv2d(in_channels=1, out_channels=3, kernel_size=3,\n",
        "                           padding=padding)\n",
        "    \n",
        "    # first kernel - leading diagonal\n",
        "    kernel_1 = torch.unsqueeze(torch.Tensor([[1, -1, -1],\n",
        "                                             [-1, 1, -1],\n",
        "                                             [-1, -1, 1]]), 0)\n",
        "\n",
        "    # second kernel - checkerboard pattern\n",
        "    kernel_2 = torch.unsqueeze(torch.Tensor([[1, -1, 1],\n",
        "                                             [-1, 1, -1],\n",
        "                                             [1, -1, 1]]), 0)\n",
        "\n",
        "    # third kernel - other diagonal\n",
        "    kernel_3 = torch.unsqueeze(torch.Tensor([[-1, -1, 1],\n",
        "                                             [-1, 1, -1],\n",
        "                                             [1, -1, -1]]), 0)\n",
        "\n",
        "    multiple_kernels = torch.stack([kernel_1, kernel_2, kernel_3], dim=0)\n",
        "\n",
        "    self.conv1.weight = torch.nn.Parameter(multiple_kernels)\n",
        "    self.conv1.bias = torch.nn.Parameter(torch.zeros_like(self.conv1.bias))\n",
        "\n",
        "  def forward(self, x):\n",
        "    x = self.conv1(x)\n",
        "    x = F.relu(x)\n",
        "    return x"
      ]
    },
    {
      "cell_type": "code",
      "execution_count": 36,
      "metadata": {
        "id": "CN0Nl6yRKIQP",
        "vscode": {
          "languageId": "python"
        }
      },
      "outputs": [],
      "source": [
        "net3 = Net3().to(device)\n",
        "x_img = emnist_train[x_img_idx][0].unsqueeze(dim=0).to(device)\n",
        "output_x = net3(x_img)\n",
        "output_x = output_x.squeeze(dim=0).detach().cpu().numpy()\n",
        "\n",
        "o_img = emnist_train[o_img_idx][0].unsqueeze(dim=0).to(device)\n",
        "output_o = net3(o_img)\n",
        "output_o = output_o.squeeze(dim=0).detach().cpu().numpy()"
      ]
    },
    {
      "cell_type": "code",
      "execution_count": 37,
      "metadata": {
        "colab": {
          "base_uri": "https://localhost:8080/",
          "height": 464
        },
        "id": "niWbfTYDKP5q",
        "outputId": "dbd25383-9d24-41a1-c678-dd6dea054830",
        "vscode": {
          "languageId": "python"
        }
      },
      "outputs": [
        {
          "name": "stdout",
          "output_type": "stream",
          "text": [
            "RECTIFIED OUTPUTS\n"
          ]
        },
        {
          "data": {
            "image/png": "[encoded data removed]",
            "text/plain": [
              "<Figure size 1332x756 with 3 Axes>"
            ]
          },
          "metadata": {
            "image/png": {
              "height": 430,
              "width": 1312
            },
            "needs_background": "light"
          },
          "output_type": "display_data"
        }
      ],
      "source": [
        "print(\"RECTIFIED OUTPUTS\")\n",
        "fig, (ax1, ax2, ax3) = plt.subplots(1, 3)\n",
        "ax1.imshow(output_x[0], cmap=plt.get_cmap('gray'))\n",
        "ax2.imshow(output_x[1], cmap=plt.get_cmap('gray'))\n",
        "ax3.imshow(output_x[2], cmap=plt.get_cmap('gray'))\n",
        "fig.set_size_inches(18.5, 10.5)\n",
        "plt.show()"
      ]
    },
    {
      "cell_type": "code",
      "execution_count": 38,
      "metadata": {
        "colab": {
          "base_uri": "https://localhost:8080/",
          "height": 447
        },
        "id": "Tm8dnVIrjd_i",
        "outputId": "3fa042d5-462a-4ed5-de36-949d7ddab2f0",
        "vscode": {
          "languageId": "python"
        }
      },
      "outputs": [
        {
          "data": {
            "image/png": "[encoded data removed]",
            "text/plain": [
              "<Figure size 1332x756 with 3 Axes>"
            ]
          },
          "metadata": {
            "image/png": {
              "height": 430,
              "width": 1312
            },
            "needs_background": "light"
          },
          "output_type": "display_data"
        }
      ],
      "source": [
        "fig, (ax1, ax2, ax3) = plt.subplots(1, 3)\n",
        "ax1.imshow(output_o[0], cmap=plt.get_cmap('gray'))\n",
        "ax2.imshow(output_o[1], cmap=plt.get_cmap('gray'))\n",
        "ax3.imshow(output_o[2], cmap=plt.get_cmap('gray'))\n",
        "fig.set_size_inches(18.5, 10.5)\n",
        "plt.show()"
      ]
    },
    {
      "cell_type": "markdown",
      "metadata": {
        "id": "1sNJljVRLcoJ"
      },
      "source": [
        "## Section 6.3: Pooling\n",
        "\n",
        "Convolutional layers in a convolutional neural network systematically apply learned filters to input images to create feature maps that summarize the presence of those features in the input. However, a limitation of the feature map output of convolutional layers is that they record the precise position of features in the input. This means that small movements in the position of the feature in the input image will result in a different feature map. This can happen with re-cropping, rotation, shifting, and other minor changes to the input image.\n",
        "\n",
        "A common approach to addressing this problem from signal processing is called downsampling. This is where a lower resolution version of an input signal is created that still contains the large or important structural elements without the fine detail that may not be as useful to the task. This also translates to the problem of having too many features in the output of the convolutional layers, and techniques such as Max Pooling and average Pooling are used to downsample, thereby shrinking the layers, the number of features, and bringing spatial invariance of features."
      ]
    },
    {
      "cell_type": "markdown",
      "metadata": {
        "id": "ThHxWfixN_0r"
      },
      "source": [
        "Like convolutional layers, pooling operators consist of a fixed-shape window slid over all regions in the input according to its stride, computing a single output for each location traversed by the fixed-shape window (sometimes known as the pooling window). \n",
        "\n",
        "Thus, it is a method of information compression where we replace the output of a convolutional neural network at the pixel level with its neighbors' summary statistics.\n",
        "- In Maxpooling, we replace each pixel with the maximum value in its immediate neighbors fitting inside the pooling kernel.\n",
        "- In Avgpooling, we replace each pixel with the average value in its immediate neighbors fitting inside the pooling kernel.\n",
        "\n",
        "<figure>\n",
        "    <center><img src=https://developers.google.com/machine-learning/glossary/images/PoolingConvolution.svg?hl=fr width=400px>\n",
        "    <figcaption>An Example of Pooling with a kernel size of 2</figcaption>\n",
        "    </center>\n",
        "</figure>\n",
        "\n",
        "Pooling helps us maintain translational invariance in our network as it selects the statistical summary of the values residing in the kernel space. Thus, a small displacement of the value contributing primarily to that summary does not make a huge difference.\n",
        "\n",
        "Note that the pooling layer contains no parameters (there is no kernel), unlike the convolutional layer. \n"
      ]
    },
    {
      "cell_type": "markdown",
      "metadata": {
        "id": "SGDDIpr0BkJw"
      },
      "source": [
        "We usually use MaxPool with a stride of two to lower the dimensionality. This is essentially how we downsample. The following two pictures depict how stride makes a difference."
      ]
    },
    {
      "cell_type": "markdown",
      "metadata": {
        "id": "AfMVQolJNA6w"
      },
      "source": [
        "\n",
        "\n",
        "\n",
        "<figure>\n",
        "    <center><img src=https://raw.githubusercontent.com/vdumoulin/conv_arithmetic/master/gif/no_padding_no_strides.gif>\n",
        "    <figcaption> Stride 1 </figcaption>\n",
        "    </center>    \n",
        "</figure>\n",
        "\n",
        "\n",
        "<figure>\n",
        "    <center><img src=https://raw.githubusercontent.com/vdumoulin/conv_arithmetic/master/gif/no_padding_strides.gif>\n",
        "    <figcaption> Stride Two </figcaption>\n",
        "    </center>    \n",
        "</figure>\n"
      ]
    },
    {
      "cell_type": "markdown",
      "metadata": {
        "id": "SaTH6D2tbx2t"
      },
      "source": [
        "## Exercise 6.2: Implement MaxPooling \n",
        "\n",
        "Let us now implement MaxPooling in PyTorch and observe the effects of Pooling on the dimension of the input image. Use a kernel of size 2 and stride of 2."
      ]
    },
    {
      "cell_type": "code",
      "execution_count": 39,
      "metadata": {
        "id": "St-4IK9nECmP",
        "vscode": {
          "languageId": "python"
        }
      },
      "outputs": [],
      "source": [
        "class Net4(nn.Module):\n",
        "  def __init__(self, kernel=None, padding=0, stride=2):\n",
        "    super(Net4, self).__init__()\n",
        "    self.conv1 = nn.Conv2d(in_channels=1, out_channels=3, kernel_size=3,\n",
        "                           padding=padding)\n",
        "  \n",
        "    # first kernel \n",
        "    kernel_1 = torch.unsqueeze(torch.Tensor([[1, -1, -1],\n",
        "                                             [-1, 1, -1],\n",
        "                                             [-1, -1, 1]]), 0)\n",
        "\n",
        "    # second kernel \n",
        "    kernel_2 = torch.unsqueeze(torch.Tensor([[1, -1, 1],\n",
        "                                             [-1, 1, -1],\n",
        "                                             [1, -1, 1]]), 0)\n",
        "\n",
        "    # third kernel \n",
        "    kernel_3 = torch.unsqueeze(torch.Tensor([[-1, -1, 1],\n",
        "                                             [-1, 1, -1],\n",
        "                                             [1, -1, -1]]), 0)\n",
        "\n",
        "    multiple_kernels = torch.stack([kernel_1, kernel_2, kernel_3], dim=0)\n",
        "\n",
        "    self.conv1.weight = torch.nn.Parameter(multiple_kernels)\n",
        "    self.conv1.bias = torch.nn.Parameter(torch.zeros_like(self.conv1.bias))\n",
        "\n",
        "    ####################################################################\n",
        "    # Fill in missing code below (...),\n",
        "    # then remove or comment the line below to test your function\n",
        "    raise NotImplementedError(\"Define the maxpool layer\")\n",
        "    ####################################################################\n",
        "    # Hint: Use nn.MaxPool2d\n",
        "    self.pool = ...\n",
        "            \n",
        "  def forward(self, x):\n",
        "    x = self.conv1(x)\n",
        "    x = F.relu(x)\n",
        "    ####################################################################\n",
        "    # Fill in missing code below (...),\n",
        "    # then remove or comment the line below to test your function\n",
        "    raise NotImplementedError(\"Define the maxpool layer\")\n",
        "    ####################################################################\n",
        "    x = ...\n",
        "    return x\n",
        "\n",
        "\n",
        "### Uncomment the lines below to run the network and then run the next cell\n",
        "### to plot the images  \n",
        "# net4 = Net4().to(device)\n",
        "# x_img = emnist_train[x_img_idx][0].unsqueeze(dim=0).to(device)\n",
        "# output_x = net4(x_img)\n",
        "# output_x = output_x.squeeze(dim=0).detach().cpu().numpy()\n",
        "# o_img = emnist_train[o_img_idx][0].unsqueeze(dim=0).to(device)\n",
        "# output_o = net4(o_img)\n",
        "# output_o = output_o.squeeze(dim=0).detach().cpu().numpy()"
      ]
    },
    {
      "cell_type": "code",
      "execution_count": 41,
      "metadata": {
        "colab": {
          "base_uri": "https://localhost:8080/",
          "height": 449
        },
        "id": "AoBknQ-4kCqZ",
        "outputId": "821dcd49-3eb1-4b81-bd83-2191d7caa0e8",
        "vscode": {
          "languageId": "python"
        }
      },
      "outputs": [
        {
          "data": {
            "image/png": "[encoded data removed]",
            "text/plain": [
              "<Figure size 1332x756 with 3 Axes>"
            ]
          },
          "metadata": {
            "image/png": {
              "height": 432,
              "width": 1314
            },
            "needs_background": "light"
          },
          "output_type": "display_data"
        }
      ],
      "source": [
        "fig, (ax1, ax2, ax3) = plt.subplots(1, 3)\n",
        "ax1.imshow(output_x[0], cmap=plt.get_cmap('gray'))\n",
        "ax2.imshow(output_x[1], cmap=plt.get_cmap('gray'))\n",
        "ax3.imshow(output_x[2], cmap=plt.get_cmap('gray'))\n",
        "fig.set_size_inches(18.5, 10.5)\n",
        "plt.show()"
      ]
    },
    {
      "cell_type": "code",
      "execution_count": 42,
      "metadata": {
        "colab": {
          "base_uri": "https://localhost:8080/",
          "height": 449
        },
        "id": "MPfolIkUkcz_",
        "outputId": "44f1a7cf-b00c-4393-ace4-13cdbbf050f5",
        "vscode": {
          "languageId": "python"
        }
      },
      "outputs": [
        {
          "data": {
            "image/png": "[encoded data removed]",
            "text/plain": [
              "<Figure size 1332x756 with 3 Axes>"
            ]
          },
          "metadata": {
            "image/png": {
              "height": 432,
              "width": 1314
            },
            "needs_background": "light"
          },
          "output_type": "display_data"
        }
      ],
      "source": [
        "fig, (ax1, ax2, ax3) = plt.subplots(1, 3)\n",
        "ax1.imshow(output_o[0], cmap=plt.get_cmap('gray'))\n",
        "ax2.imshow(output_o[1], cmap=plt.get_cmap('gray'))\n",
        "ax3.imshow(output_o[2], cmap=plt.get_cmap('gray'))\n",
        "fig.set_size_inches(18.5, 10.5)\n",
        "plt.show()"
      ]
    },
    {
      "cell_type": "markdown",
      "metadata": {
        "id": "9oGHNqBMkKtV"
      },
      "source": [
        "You should observe the size of the output as being half of what you saw after the ReLU section, which is due to the Maxpool layer. \n",
        "\n",
        "Despite the reduction in the size of the output, the important or high-level feature in the output still remains intact."
      ]
    },
    {
      "cell_type": "markdown",
      "metadata": {
        "id": "XvuHXTFRnEAu"
      },
      "source": [
        "---\n",
        "# Section 7: Number of Parameters in CNNs\n",
        "\n",
        "\n"
      ]
    },
    {
      "cell_type": "code",
      "execution_count": 43,
      "metadata": {
        "cellView": "form",
        "colab": {
          "base_uri": "https://localhost:8080/",
          "height": 518
        },
        "id": "U5R9OjRASBm5",
        "outputId": "b6c20f81-e767-4783-a9f0-5fbcae24a2e9",
        "vscode": {
          "languageId": "python"
        }
      },
      "outputs": [
        {
          "name": "stdout",
          "output_type": "stream",
          "text": [
            "Video available at https://youtube.com/watch?v=oJN_migdZus\n"
          ]
        },
        {
          "data": {
            "image/jpeg": "[encoded data removed]",
            "text/html": [
              "\n",
              "        <iframe\n",
              "            width=\"854\"\n",
              "            height=\"480\"\n",
              "            src=\"https://www.youtube.com/embed/oJN_migdZus?fs=1\"\n",
              "            frameborder=\"0\"\n",
              "            allowfullscreen\n",
              "        ></iframe>\n",
              "        "
            ],
            "text/plain": [
              "<IPython.lib.display.YouTubeVideo at 0x7f6271b8ef50>"
            ]
          },
          "execution_count": 43,
          "metadata": {},
          "output_type": "execute_result"
        }
      ],
      "source": [
        "#@title Video: Reduction in Parameters to Learn Compared to Fully Connected Networks\n",
        "import time\n",
        "try: t6;\n",
        "except NameError: t6=time.time()\n",
        "\n",
        "from IPython.display import YouTubeVideo\n",
        "\n",
        "video = YouTubeVideo(id=\"oJN_migdZus\", width=854, height=480, fs=1)\n",
        "print(\"Video available at https://youtube.com/watch?v=\" + video.id)\n",
        "\n",
        "video"
      ]
    },
    {
      "cell_type": "markdown",
      "metadata": {
        "id": "rIrcL2Bpk_pU"
      },
      "source": [
        "---\n",
        "# Section 8: Stacking up the Layers\n",
        "\n",
        "\n",
        "\n"
      ]
    },
    {
      "cell_type": "code",
      "execution_count": 46,
      "metadata": {
        "cellView": "form",
        "colab": {
          "base_uri": "https://localhost:8080/",
          "height": 518
        },
        "id": "knRAWpGNTwAU",
        "outputId": "ca2b2ced-ea1c-4ec1-874d-d7298dae8975",
        "vscode": {
          "languageId": "python"
        }
      },
      "outputs": [
        {
          "name": "stdout",
          "output_type": "stream",
          "text": [
            "Video available at https://youtube.com/watch?v=vX4u3gQN730\n"
          ]
        },
        {
          "data": {
            "image/jpeg": "[encoded data removed]",
            "text/html": [
              "\n",
              "        <iframe\n",
              "            width=\"854\"\n",
              "            height=\"480\"\n",
              "            src=\"https://www.youtube.com/embed/vX4u3gQN730?fs=1\"\n",
              "            frameborder=\"0\"\n",
              "            allowfullscreen\n",
              "        ></iframe>\n",
              "        "
            ],
            "text/plain": [
              "<IPython.lib.display.YouTubeVideo at 0x7f62719bb450>"
            ]
          },
          "execution_count": 46,
          "metadata": {},
          "output_type": "execute_result"
        }
      ],
      "source": [
        "#@title Video: Putting it All Together\n",
        "import time\n",
        "try: t7;\n",
        "except NameError: t7=time.time()\n",
        "\n",
        "from IPython.display import YouTubeVideo\n",
        "\n",
        "video = YouTubeVideo(id=\"vX4u3gQN730\", width=854, height=480, fs=1)\n",
        "print(\"Video available at https://youtube.com/watch?v=\" + video.id)\n",
        "\n",
        "video"
      ]
    },
    {
      "cell_type": "code",
      "execution_count": 47,
      "metadata": {
        "cellView": "form",
        "id": "YgRyNJbLw1iB",
        "vscode": {
          "languageId": "python"
        }
      },
      "outputs": [],
      "source": [
        "#@title Train/Test Functions\n",
        "\n",
        "def train(model, device, train_loader, epochs):\n",
        "    model.train()\n",
        "\n",
        "    criterion = nn.CrossEntropyLoss()\n",
        "    optimizer = torch.optim.SGD(model.parameters(),\n",
        "                              lr=0.01)\n",
        "    for epoch in range(epochs):\n",
        "        with tqdm(train_loader, unit='batch') as tepoch:\n",
        "            for data, target in tepoch:\n",
        "                data, target = data.to(device), target.to(device)\n",
        "                optimizer.zero_grad()\n",
        "                output = model(data)\n",
        "                \n",
        "                loss = criterion(output, target)\n",
        "                loss.backward()\n",
        "                optimizer.step()\n",
        "                tepoch.set_postfix(loss=loss.item())\n",
        "                sleep(0.1)\n",
        "\n",
        "def test(model, device, data_loader):\n",
        "    model.eval()\n",
        "    correct = 0\n",
        "    total = 0\n",
        "    for data in data_loader:\n",
        "        inputs, labels = data\n",
        "        inputs = inputs.to(device).float()\n",
        "        labels = labels.to(device).long()\n",
        "\n",
        "        outputs = model(inputs)\n",
        "        _, predicted = torch.max(outputs, 1)\n",
        "        total += labels.size(0)\n",
        "        correct += (predicted == labels).sum().item()\n",
        "\n",
        "    acc = 100 * correct / total\n",
        "    return acc"
      ]
    },
    {
      "cell_type": "markdown",
      "metadata": {
        "id": "QPQONEyiMCpP"
      },
      "source": [
        "## Exercise 8: Implement your own CNN.\n",
        "\n",
        "Let's stack up all we have learnt. Create a CNN with the following structure. <br>\n",
        "- Convolution (input_channel=1, output_channels=32, kernel_size=3)\n",
        "- Convolution (input_channel=32, output_channels=64, kernel_size=3)\n",
        "- Pool Layer \n",
        "- Fully Connected Layer (9216, 128)\n",
        "- Fully Connected layer (128, 2)\n",
        "\n",
        "Note: As discussed in the video, we would like to flatten the output from the Convolutional Layers before passing on the Linear layers, thereby converting an input of shape [BatchSize, Channels, Height, Width] to [BatchSize, Channels\\*Height\\*Width], which in this case would be from [32, 64, 12, 12] (output of second convolution layer) to [32, 64\\*12\\*12] = [64, 9216].<br> Hint: You could use torch.flatten in order to flatten the input at this stage. \n",
        "\n",
        "Also, don't forget the ReLUs! No need to add to a ReLU after the final fully connected layer.\n",
        "\n"
      ]
    },
    {
      "cell_type": "code",
      "execution_count": 48,
      "metadata": {
        "id": "zhKnreKCxF2q",
        "vscode": {
          "languageId": "python"
        }
      },
      "outputs": [],
      "source": [
        "class EMNIST_Net(nn.Module):\n",
        "  def __init__(self):\n",
        "    super(EMNIST_Net, self).__init__()\n",
        "\n",
        "    ####################################################################\n",
        "    # Fill in missing code below (...),\n",
        "    # then remove or comment the line below to test your function\n",
        "    raise NotImplementedError(\"Define the required layers\")\n",
        "    ####################################################################\n",
        "    self.conv1 = nn.Conv2d(...)\n",
        "    self.conv2 = nn.Conv2d(...)\n",
        "    self.fc1 = nn.Linear(...)\n",
        "    self.fc2 = nn.Linear(...)\n",
        "    self.pool = nn.MaxPool2d(...)\n",
        "\n",
        "  def forward(self, x):\n",
        "    ####################################################################\n",
        "    # Fill in missing code below (...),\n",
        "    # then remove or comment the line below to test your function\n",
        "    # Hint: Do not forget to flatten the image as it goes from Convolution Layers to Linear Layers!\n",
        "    raise NotImplementedError(\"Define forward pass for any input x\")\n",
        "    ####################################################################\n",
        "    x = ...\n",
        "\n",
        "\n",
        "### Uncomment the lines below to train your network   \n",
        "# emnist_net = EMNIST_Net().to(device)\n",
        "# train(emnist_net, device, train_loader, 1)"
      ]
    },
    {
      "cell_type": "markdown",
      "metadata": {
        "id": "mo_2SN-Tx3cb"
      },
      "source": [
        "Now, let's run the network on the test data!"
      ]
    },
    {
      "cell_type": "code",
      "execution_count": 50,
      "metadata": {
        "colab": {
          "base_uri": "https://localhost:8080/"
        },
        "id": "2rkw2vpwL7-a",
        "outputId": "524c1efd-63da-49ef-aa66-1fed1e3aa7ea",
        "vscode": {
          "languageId": "python"
        }
      },
      "outputs": [
        {
          "data": {
            "text/plain": [
              "99.1875"
            ]
          },
          "execution_count": 50,
          "metadata": {},
          "output_type": "execute_result"
        }
      ],
      "source": [
        "test(emnist_net, device, test_loader)"
      ]
    },
    {
      "cell_type": "markdown",
      "metadata": {
        "id": "IC9vzLMVyzIP"
      },
      "source": [
        "You should have been able to get a test accuracy of around $99%$!"
      ]
    },
    {
      "cell_type": "code",
      "execution_count": 51,
      "metadata": {
        "colab": {
          "base_uri": "https://localhost:8080/",
          "height": 501
        },
        "id": "idhFFB4MPjUN",
        "outputId": "8194eb9f-d0a7-43e6-8112-a3213b3f6435",
        "vscode": {
          "languageId": "python"
        }
      },
      "outputs": [
        {
          "data": {
            "image/png": "[encoded data removed]",
            "text/plain": [
              "<Figure size 576x432 with 1 Axes>"
            ]
          },
          "metadata": {
            "image/png": {
              "height": 413,
              "width": 417
            },
            "needs_background": "light"
          },
          "output_type": "display_data"
        },
        {
          "name": "stderr",
          "output_type": "stream",
          "text": [
            "/usr/local/lib/python3.7/dist-packages/ipykernel_launcher.py:6: UserWarning: Implicit dimension choice for softmax has been deprecated. Change the call to include dim=X as an argument.\n",
            "  \n"
          ]
        },
        {
          "data": {
            "text/plain": [
              "tensor([[0.0011, 0.9989]], device='cuda:0', grad_fn=<SoftmaxBackward0>)"
            ]
          },
          "execution_count": 51,
          "metadata": {},
          "output_type": "execute_result"
        }
      ],
      "source": [
        "x_img = emnist_train[x_img_idx][0].unsqueeze(dim=0).to(device)\n",
        "plt.imshow(emnist_train[x_img_idx][0].reshape(28, 28),\n",
        "           cmap=plt.get_cmap('gray'))\n",
        "plt.show()\n",
        "output = emnist_net(x_img)\n",
        "F.softmax(output)"
      ]
    },
    {
      "cell_type": "markdown",
      "metadata": {
        "id": "I5LGEQflrFWU"
      },
      "source": [
        "The network is quite confident that this image is an $X$ ! <br>Note that this is evident from the Softmax Output, which shows the probabilities of the image belonging to each of the classes. A higher probability of belonging to class 1 i.e., class $X$. <br><br>Let us also test the network against an $O$ image. "
      ]
    },
    {
      "cell_type": "code",
      "execution_count": 52,
      "metadata": {
        "colab": {
          "base_uri": "https://localhost:8080/",
          "height": 501
        },
        "id": "ki50Tqt9PpMO",
        "outputId": "b1ad6b8c-98cb-47a2-f5db-359906f462d7",
        "vscode": {
          "languageId": "python"
        }
      },
      "outputs": [
        {
          "data": {
            "image/png": "[encoded data removed]",
            "text/plain": [
              "<Figure size 576x432 with 1 Axes>"
            ]
          },
          "metadata": {
            "image/png": {
              "height": 413,
              "width": 417
            },
            "needs_background": "light"
          },
          "output_type": "display_data"
        },
        {
          "name": "stderr",
          "output_type": "stream",
          "text": [
            "/usr/local/lib/python3.7/dist-packages/ipykernel_launcher.py:6: UserWarning: Implicit dimension choice for softmax has been deprecated. Change the call to include dim=X as an argument.\n",
            "  \n"
          ]
        },
        {
          "data": {
            "text/plain": [
              "tensor([[9.9937e-01, 6.2550e-04]], device='cuda:0', grad_fn=<SoftmaxBackward0>)"
            ]
          },
          "execution_count": 52,
          "metadata": {},
          "output_type": "execute_result"
        }
      ],
      "source": [
        "x_img = emnist_train[o_img_idx][0].unsqueeze(dim=0).to(device)\n",
        "plt.imshow(emnist_train[o_img_idx][0].reshape(28, 28),\n",
        "           cmap=plt.get_cmap('gray'))\n",
        "plt.show()\n",
        "output = emnist_net(o_img)\n",
        "F.softmax(output)"
      ]
    },
    {
      "cell_type": "markdown",
      "metadata": {
        "id": "W65aPbuhsNqm"
      },
      "source": [
        "Again, the predicted label is correct for the $O$ image. "
      ]
    },
    {
      "cell_type": "markdown",
      "metadata": {
        "id": "uyHy54ZxPjPt"
      },
      "source": [
        "# Submit your responses\n",
        "Please run the following cell and then press \"Submit\" so we can record your responses."
      ]
    },
    {
      "cell_type": "code",
      "execution_count": 4,
      "metadata": {
        "cellView": "form",
        "colab": {
          "base_uri": "https://localhost:8080/",
          "height": 421
        },
        "id": "JAiufZ39Lpq8",
        "outputId": "27232780-24b2-44f4-bc28-103b25afb498",
        "vscode": {
          "languageId": "python"
        }
      },
      "outputs": [
        {
          "data": {
            "text/html": [
              "\n",
              "        <iframe\n",
              "            width=\"800\"\n",
              "            height=\"400\"\n",
              "            src=\"https://airtable.com/embed/shrKVrg3XpMiaaenp?prefill_pennkey=&prefill_pod=Select&prefill_tutorial=W6D1&prefill_email=&prefill_imagenet_features=&prefill_fcn_invariance=&prefill_edge_generate=&prefill_transpose_kernel=&prefill_multiple_filters=&prefill_cumulative_times=[2.07424164e-05]\"\n",
              "            frameborder=\"0\"\n",
              "            allowfullscreen\n",
              "        ></iframe>\n",
              "        "
            ],
            "text/plain": [
              "<IPython.lib.display.IFrame at 0x7f8a731dc650>"
            ]
          },
          "metadata": {},
          "output_type": "display_data"
        }
      ],
      "source": [
        "import time\n",
        "import numpy as np\n",
        "from IPython.display import IFrame\n",
        "#@markdown #Run Cell to Show Airtable Form\n",
        "#@markdown Confirm your answers and then click \"Submit\". If you're having issues, please use this link and manually fill in your answers: https://airtable.com/shrKipamr3e5POFFQ\n",
        "\n",
        "def prefill_form(src, fields: dict):\n",
        "  '''\n",
        "  src: the original src url to embed the form\n",
        "  fields: a dictionary of field:value pairs,\n",
        "  e.g. {\"pennkey\": my_pennkey, \"location\": my_location}\n",
        "  '''\n",
        "  prefills = \"&\".join([\"prefill_%s=%s\"%(key, fields[key]) for key in fields])\n",
        "  src = src + prefills\n",
        "  src = \"+\".join(src.split(\" \"))\n",
        "  return src\n",
        "\n",
        "\n",
        "#autofill time if it is not present\n",
        "try: t0;\n",
        "except NameError: t0 = time.time()\n",
        "try: t1;\n",
        "except NameError: t1 = time.time()\n",
        "\n",
        "#autofill fields if they are not present\n",
        "#a missing pennkey and pod will result in an Airtable warning\n",
        "#which is easily fixed user-side.\n",
        "try: my_pennkey;\n",
        "except NameError: my_pennkey = \"\"\n",
        "\n",
        "try: my_pod;\n",
        "except NameError: my_pod = \"Select\"\n",
        "\n",
        "try: my_email;\n",
        "except NameError: my_email = \"\"\n",
        "\n",
        "try: imagenet_features;\n",
        "except NameError: imagenet_features = \"\"\n",
        "\n",
        "try: fcn_invariance;\n",
        "except NameError: fcn_invariance = \"\"\n",
        "\n",
        "try: edge_generate;\n",
        "except NameError: edge_generate = \"\"\n",
        "\n",
        "try: transpose_kernel;\n",
        "except NameError: transpose_kernel = \"\"\n",
        "\n",
        "try: multiple_filters;\n",
        "except NameError: multiple_filters = \"\"\n",
        "\n",
        "times = np.array([t1])-t0\n",
        "\n",
        "fields = {\"pennkey\": my_pennkey,\n",
        "          \"pod\": my_pod,\n",
        "          \"tutorial\": tutorial,\n",
        "          \"email\": my_email,\n",
        "          \"imagenet_features\": imagenet_features,\n",
        "          \"fcn_invariance\":fcn_invariance,\n",
        "          \"edge_generate\": edge_generate,\n",
        "          \"transpose_kernel\":transpose_kernel,\n",
        "          \"multiple_filters\":multiple_filters,\n",
        "          \"cumulative_times\": times}\n",
        "\n",
        "src = \"https://airtable.com/embed/shrKVrg3XpMiaaenp?\"\n",
        "\n",
        "#now instead of the original source url, we do: src = prefill_form(src, fields)\n",
        "display(IFrame(src = prefill_form(src, fields), width = 800, height = 400))"
      ]
    },
    {
      "cell_type": "markdown",
      "metadata": {
        "id": "0kglwCDy7x71"
      },
      "source": [
        "## Feedback\n",
        "How could this session have been better? How happy are you in your group? How do you feel right now?\n",
        "\n",
        "Feel free to use the embeded form below or use this link:\n",
        "<a target=\"_blank\" rel=\"noopener noreferrer\" href=\"https://airtable.com/shr1TzujOOOY21kFQ\">https://airtable.com/shr1TzujOOOY21kFQ</a>"
      ]
    },
    {
      "cell_type": "code",
      "execution_count": 5,
      "metadata": {
        "cellView": "form",
        "colab": {
          "base_uri": "https://localhost:8080/",
          "height": 421
        },
        "id": "0-1urfTaUILm",
        "outputId": "8fd51761-03ea-4bc0-cd6f-0efbdb3d50dd",
        "vscode": {
          "languageId": "python"
        }
      },
      "outputs": [
        {
          "data": {
            "text/html": [
              "\n",
              "        <iframe\n",
              "            width=\"800\"\n",
              "            height=\"400\"\n",
              "            src=\"https://airtable.com/embed/shr1TzujOOOY21kFQ\"\n",
              "            frameborder=\"0\"\n",
              "            allowfullscreen\n",
              "        ></iframe>\n",
              "        "
            ],
            "text/plain": [
              "<IPython.lib.display.IFrame at 0x7f8a731e4a90>"
            ]
          },
          "metadata": {},
          "output_type": "display_data"
        }
      ],
      "source": [
        "# @title Feedback form\n",
        "display(IFrame(src=\"https://airtable.com/embed/shr1TzujOOOY21kFQ\", width = 800, height = 400))"
      ]
    }
  ],
  "metadata": {
    "accelerator": "GPU",
    "colab": {
      "collapsed_sections": [
        "X2kPrtVyXtaP",
        "PSYvQarTh86r",
        "Iek_jzssb_H7",
        "zgTT-A3kgMe0",
        "0kglwCDy7x71",
        "yGTLB5JFJ4-k"
      ],
      "machine_shape": "hm",
      "name": "CIS_522_W6D1_Tutorial_–_Student_Version.ipynb",
      "provenance": [],
      "toc_visible": true
    },
    "kernelspec": {
      "display_name": "Python 3",
      "name": "python3"
    },
    "widgets": {
      "application/vnd.jupyter.widget-state+json": {
        "078a19c595d9474e8dcac811d490a3e8": {
          "model_module": "@jupyter-widgets/base",
          "model_module_version": "1.2.0",
          "model_name": "LayoutModel",
          "state": {
            "_model_module": "@jupyter-widgets/base",
            "_model_module_version": "1.2.0",
            "_model_name": "LayoutModel",
            "_view_count": null,
            "_view_module": "@jupyter-widgets/base",
            "_view_module_version": "1.2.0",
            "_view_name": "LayoutView",
            "align_content": null,
            "align_items": null,
            "align_self": null,
            "border": null,
            "bottom": null,
            "display": null,
            "flex": null,
            "flex_flow": null,
            "grid_area": null,
            "grid_auto_columns": null,
            "grid_auto_flow": null,
            "grid_auto_rows": null,
            "grid_column": null,
            "grid_gap": null,
            "grid_row": null,
            "grid_template_areas": null,
            "grid_template_columns": null,
            "grid_template_rows": null,
            "height": null,
            "justify_content": null,
            "justify_items": null,
            "left": null,
            "margin": null,
            "max_height": null,
            "max_width": null,
            "min_height": null,
            "min_width": null,
            "object_fit": null,
            "object_position": null,
            "order": null,
            "overflow": null,
            "overflow_x": null,
            "overflow_y": null,
            "padding": null,
            "right": null,
            "top": null,
            "visibility": null,
            "width": null
          }
        },
        "367711c489d54648ac68d28a4c79c725": {
          "model_module": "@jupyter-widgets/controls",
          "model_module_version": "1.5.0",
          "model_name": "ProgressStyleModel",
          "state": {
            "_model_module": "@jupyter-widgets/controls",
            "_model_module_version": "1.5.0",
            "_model_name": "ProgressStyleModel",
            "_view_count": null,
            "_view_module": "@jupyter-widgets/base",
            "_view_module_version": "1.2.0",
            "_view_name": "StyleView",
            "bar_color": null,
            "description_width": ""
          }
        },
        "38cc16f9a54d47eeb49b99134179b79f": {
          "model_module": "@jupyter-widgets/controls",
          "model_module_version": "1.5.0",
          "model_name": "HBoxModel",
          "state": {
            "_dom_classes": [],
            "_model_module": "@jupyter-widgets/controls",
            "_model_module_version": "1.5.0",
            "_model_name": "HBoxModel",
            "_view_count": null,
            "_view_module": "@jupyter-widgets/controls",
            "_view_module_version": "1.5.0",
            "_view_name": "HBoxView",
            "box_style": "",
            "children": [
              "IPY_MODEL_c388acbe8d4c43f6967ef0338aaa06dc",
              "IPY_MODEL_b1c45b877aeb4b12ae72da2df9daabf0",
              "IPY_MODEL_9ed25c36067f4f1789658159cce8f911"
            ],
            "layout": "IPY_MODEL_078a19c595d9474e8dcac811d490a3e8"
          }
        },
        "5664213f352f4e09ace508861e7383da": {
          "model_module": "@jupyter-widgets/controls",
          "model_module_version": "1.5.0",
          "model_name": "DescriptionStyleModel",
          "state": {
            "_model_module": "@jupyter-widgets/controls",
            "_model_module_version": "1.5.0",
            "_model_name": "DescriptionStyleModel",
            "_view_count": null,
            "_view_module": "@jupyter-widgets/base",
            "_view_module_version": "1.2.0",
            "_view_name": "StyleView",
            "description_width": ""
          }
        },
        "806c53d53173416f87dfc8875e508fa7": {
          "model_module": "@jupyter-widgets/base",
          "model_module_version": "1.2.0",
          "model_name": "LayoutModel",
          "state": {
            "_model_module": "@jupyter-widgets/base",
            "_model_module_version": "1.2.0",
            "_model_name": "LayoutModel",
            "_view_count": null,
            "_view_module": "@jupyter-widgets/base",
            "_view_module_version": "1.2.0",
            "_view_name": "LayoutView",
            "align_content": null,
            "align_items": null,
            "align_self": null,
            "border": null,
            "bottom": null,
            "display": null,
            "flex": null,
            "flex_flow": null,
            "grid_area": null,
            "grid_auto_columns": null,
            "grid_auto_flow": null,
            "grid_auto_rows": null,
            "grid_column": null,
            "grid_gap": null,
            "grid_row": null,
            "grid_template_areas": null,
            "grid_template_columns": null,
            "grid_template_rows": null,
            "height": null,
            "justify_content": null,
            "justify_items": null,
            "left": null,
            "margin": null,
            "max_height": null,
            "max_width": null,
            "min_height": null,
            "min_width": null,
            "object_fit": null,
            "object_position": null,
            "order": null,
            "overflow": null,
            "overflow_x": null,
            "overflow_y": null,
            "padding": null,
            "right": null,
            "top": null,
            "visibility": null,
            "width": null
          }
        },
        "8072c6a6d7c64a2580b1548ecb4f51af": {
          "model_module": "@jupyter-widgets/base",
          "model_module_version": "1.2.0",
          "model_name": "LayoutModel",
          "state": {
            "_model_module": "@jupyter-widgets/base",
            "_model_module_version": "1.2.0",
            "_model_name": "LayoutModel",
            "_view_count": null,
            "_view_module": "@jupyter-widgets/base",
            "_view_module_version": "1.2.0",
            "_view_name": "LayoutView",
            "align_content": null,
            "align_items": null,
            "align_self": null,
            "border": null,
            "bottom": null,
            "display": null,
            "flex": null,
            "flex_flow": null,
            "grid_area": null,
            "grid_auto_columns": null,
            "grid_auto_flow": null,
            "grid_auto_rows": null,
            "grid_column": null,
            "grid_gap": null,
            "grid_row": null,
            "grid_template_areas": null,
            "grid_template_columns": null,
            "grid_template_rows": null,
            "height": null,
            "justify_content": null,
            "justify_items": null,
            "left": null,
            "margin": null,
            "max_height": null,
            "max_width": null,
            "min_height": null,
            "min_width": null,
            "object_fit": null,
            "object_position": null,
            "order": null,
            "overflow": null,
            "overflow_x": null,
            "overflow_y": null,
            "padding": null,
            "right": null,
            "top": null,
            "visibility": null,
            "width": null
          }
        },
        "9ed25c36067f4f1789658159cce8f911": {
          "model_module": "@jupyter-widgets/controls",
          "model_module_version": "1.5.0",
          "model_name": "HTMLModel",
          "state": {
            "_dom_classes": [],
            "_model_module": "@jupyter-widgets/controls",
            "_model_module_version": "1.5.0",
            "_model_name": "HTMLModel",
            "_view_count": null,
            "_view_module": "@jupyter-widgets/controls",
            "_view_module_version": "1.5.0",
            "_view_name": "HTMLView",
            "description": "",
            "description_tooltip": null,
            "layout": "IPY_MODEL_806c53d53173416f87dfc8875e508fa7",
            "placeholder": "​",
            "style": "IPY_MODEL_5664213f352f4e09ace508861e7383da",
            "value": " 561754112/? [00:06&lt;00:00, 98769026.39it/s]"
          }
        },
        "ab8e154011784b11b7bea72099eb93ac": {
          "model_module": "@jupyter-widgets/base",
          "model_module_version": "1.2.0",
          "model_name": "LayoutModel",
          "state": {
            "_model_module": "@jupyter-widgets/base",
            "_model_module_version": "1.2.0",
            "_model_name": "LayoutModel",
            "_view_count": null,
            "_view_module": "@jupyter-widgets/base",
            "_view_module_version": "1.2.0",
            "_view_name": "LayoutView",
            "align_content": null,
            "align_items": null,
            "align_self": null,
            "border": null,
            "bottom": null,
            "display": null,
            "flex": null,
            "flex_flow": null,
            "grid_area": null,
            "grid_auto_columns": null,
            "grid_auto_flow": null,
            "grid_auto_rows": null,
            "grid_column": null,
            "grid_gap": null,
            "grid_row": null,
            "grid_template_areas": null,
            "grid_template_columns": null,
            "grid_template_rows": null,
            "height": null,
            "justify_content": null,
            "justify_items": null,
            "left": null,
            "margin": null,
            "max_height": null,
            "max_width": null,
            "min_height": null,
            "min_width": null,
            "object_fit": null,
            "object_position": null,
            "order": null,
            "overflow": null,
            "overflow_x": null,
            "overflow_y": null,
            "padding": null,
            "right": null,
            "top": null,
            "visibility": null,
            "width": null
          }
        },
        "b1c45b877aeb4b12ae72da2df9daabf0": {
          "model_module": "@jupyter-widgets/controls",
          "model_module_version": "1.5.0",
          "model_name": "FloatProgressModel",
          "state": {
            "_dom_classes": [],
            "_model_module": "@jupyter-widgets/controls",
            "_model_module_version": "1.5.0",
            "_model_name": "FloatProgressModel",
            "_view_count": null,
            "_view_module": "@jupyter-widgets/controls",
            "_view_module_version": "1.5.0",
            "_view_name": "ProgressView",
            "bar_style": "success",
            "description": "",
            "description_tooltip": null,
            "layout": "IPY_MODEL_ab8e154011784b11b7bea72099eb93ac",
            "max": 561753746,
            "min": 0,
            "orientation": "horizontal",
            "style": "IPY_MODEL_367711c489d54648ac68d28a4c79c725",
            "value": 561753746
          }
        },
        "c388acbe8d4c43f6967ef0338aaa06dc": {
          "model_module": "@jupyter-widgets/controls",
          "model_module_version": "1.5.0",
          "model_name": "HTMLModel",
          "state": {
            "_dom_classes": [],
            "_model_module": "@jupyter-widgets/controls",
            "_model_module_version": "1.5.0",
            "_model_name": "HTMLModel",
            "_view_count": null,
            "_view_module": "@jupyter-widgets/controls",
            "_view_module_version": "1.5.0",
            "_view_name": "HTMLView",
            "description": "",
            "description_tooltip": null,
            "layout": "IPY_MODEL_8072c6a6d7c64a2580b1548ecb4f51af",
            "placeholder": "​",
            "style": "IPY_MODEL_f330cd9d9dc948fb9fd72ef8f6e68807",
            "value": ""
          }
        },
        "f330cd9d9dc948fb9fd72ef8f6e68807": {
          "model_module": "@jupyter-widgets/controls",
          "model_module_version": "1.5.0",
          "model_name": "DescriptionStyleModel",
          "state": {
            "_model_module": "@jupyter-widgets/controls",
            "_model_module_version": "1.5.0",
            "_model_name": "DescriptionStyleModel",
            "_view_count": null,
            "_view_module": "@jupyter-widgets/base",
            "_view_module_version": "1.2.0",
            "_view_name": "StyleView",
            "description_width": ""
          }
        }
      }
    }
  },
  "nbformat": 4,
  "nbformat_minor": 0
}
